{
 "cells": [
  {
   "cell_type": "markdown",
   "metadata": {
    "collapsed": false
   },
   "source": [
    "# Sentiment Analysis using word2vec averaging and regular neural net"
   ]
  },
  {
   "cell_type": "code",
   "execution_count": 12,
   "metadata": {
    "collapsed": false
   },
   "outputs": [],
   "source": [
    "# CONFIGS\n",
    "\n",
    "word2vec_model_file = \"word2vec/w2v-imdb-skip-gram.bin\"\n",
    "word2vec_dims = 100\n",
    "\n",
    "positive_review_txts = \"aclImdb/train/pos/*.txt\"\n",
    "negative_review_txts = \"aclImdb/train/neg/*.txt\"\n",
    "positive_review_vals = \"aclImdb/test/pos/*.txt\"\n",
    "negative_review_vals = \"aclImdb/test/neg/*.txt\"\n",
    "\n",
    "positive_y = [1, 0]\n",
    "negative_y = [0, 1]\n",
    "\n",
    "# Notebook\n",
    "%matplotlib inline\n",
    "import matplotlib.pyplot as plt\n",
    "import numpy as np"
   ]
  },
  {
   "cell_type": "markdown",
   "metadata": {
    "collapsed": true
   },
   "source": [
    "## Step 1: Make X_train\n",
    "\n",
    "X_train data structure is a 2D array, consisting of reviews, and the averaged word vectors:\n",
    "```json\n",
    "[\n",
    "  // a review\n",
    "  [\n",
    "    // a word, and its array of 100 vectors\n",
    "    [0.75, 0.64 ...],\n",
    "    ...\n",
    "  ], \n",
    "  ...\n",
    "]\n",
    "```\n",
    "\n",
    "### TODO:\n",
    "1. Load all the reviews into memory\n",
    "2. Normalize the text\n",
    "3. Add words to vocab array to make word vector retrieval faster\n",
    "3. Determine vocab size, max review length"
   ]
  },
  {
   "cell_type": "code",
   "execution_count": 2,
   "metadata": {
    "collapsed": false
   },
   "outputs": [],
   "source": [
    "from bs4 import BeautifulSoup  \n",
    "import re\n",
    "\n",
    "def normalise_text(text):\n",
    "    #1 Remove HTML (inspired by Kaggle)\n",
    "    text = BeautifulSoup(text, \"html.parser\").getText()\n",
    "\n",
    "    #2 Tokenize (stolen from Yoon Kim's CNN)\n",
    "    text = re.sub(r\"[^A-Za-z0-9(),!?\\'\\`]\", \" \", text)     \n",
    "    text = re.sub(r\"\\'s\", \" \\'s\", text) \n",
    "    text = re.sub(r\"\\'ve\", \" \\'ve\", text) \n",
    "    text = re.sub(r\"n\\'t\", \" n\\'t\", text) \n",
    "    text = re.sub(r\"\\'re\", \" \\'re\", text) \n",
    "    text = re.sub(r\"\\'d\", \" \\'d\", text) \n",
    "    text = re.sub(r\"\\'ll\", \" \\'ll\", text) \n",
    "    text = re.sub(r\",\", \" , \", text) \n",
    "    text = re.sub(r\"!\", \" ! \", text) \n",
    "    text = re.sub(r\"\\(\", \" \\( \", text) \n",
    "    text = re.sub(r\"\\)\", \" \\) \", text) \n",
    "    text = re.sub(r\"\\?\", \" \\? \", text) \n",
    "    text = re.sub(r\"\\s{2,}\", \" \", text)\n",
    "    \n",
    "    # Step 3: \n",
    "    return text.lower()\n",
    "\n",
    "def text_tokens(text):\n",
    "    return normalise_text(text).split()"
   ]
  },
  {
   "cell_type": "code",
   "execution_count": 3,
   "metadata": {
    "collapsed": false
   },
   "outputs": [
    {
     "name": "stdout",
     "output_type": "stream",
     "text": [
      "('highest word count: ', 2606)\n",
      "('mean of review length: ', 253.51831999999999)\n"
     ]
    }
   ],
   "source": [
    "import glob\n",
    "\n",
    "# highest word count shall be the convnet rows\n",
    "highest_review_word_count = 0\n",
    "positive_reviews = []\n",
    "negative_reviews = []\n",
    "positive_testrev = []\n",
    "negative_testrev = []\n",
    "\n",
    "# to visualise review length\n",
    "training_review_length = []\n",
    "\n",
    "for txt in glob.glob(positive_review_txts):\n",
    "    with (open(txt, 'r')) as f:\n",
    "        word_array = text_tokens(f.read())\n",
    "        highest_review_word_count = max(highest_review_word_count, len(word_array))\n",
    "        positive_reviews.append(word_array)\n",
    "        training_review_length.append(len(word_array))\n",
    "\n",
    "for txt in glob.glob(negative_review_txts):\n",
    "    with (open(txt, 'r')) as f:\n",
    "        word_array = text_tokens(f.read())\n",
    "        highest_review_word_count = max(highest_review_word_count, len(word_array))\n",
    "        negative_reviews.append(word_array)\n",
    "        training_review_length.append(len(word_array))\n",
    "        \n",
    "# For validation purposes\n",
    "for txt in glob.glob(positive_review_vals):\n",
    "    with (open(txt, 'r')) as f:\n",
    "        word_array = text_tokens(f.read())\n",
    "        highest_review_word_count = max(highest_review_word_count, len(word_array))\n",
    "        positive_testrev.append(word_array)\n",
    "\n",
    "for txt in glob.glob(negative_review_vals):\n",
    "    with (open(txt, 'r')) as f:\n",
    "        word_array = text_tokens(f.read())\n",
    "        highest_review_word_count = max(highest_review_word_count, len(word_array))\n",
    "        negative_testrev.append(word_array)\n",
    "\n",
    "print('highest word count: ', highest_review_word_count)\n",
    "\n",
    "# Plotting length\n",
    "training_review_length = np.sort(np.array(training_review_length))\n",
    "print('mean of review length: ', np.mean(training_review_length))"
   ]
  },
  {
   "cell_type": "markdown",
   "metadata": {},
   "source": [
    "## Step 2: Infer vectors from word2vec then average them"
   ]
  },
  {
   "cell_type": "code",
   "execution_count": 5,
   "metadata": {
    "collapsed": false
   },
   "outputs": [],
   "source": [
    "import sys\n",
    "import gensim\n",
    "from gensim.models import Word2Vec\n",
    "word2vec_model = Word2Vec.load_word2vec_format(word2vec_model_file, binary=True)"
   ]
  },
  {
   "cell_type": "code",
   "execution_count": 55,
   "metadata": {
    "collapsed": true
   },
   "outputs": [],
   "source": [
    "def word_vector_for(word):\n",
    "    try:\n",
    "        return word2vec_model[word][:word2vec_dims]\n",
    "    except KeyError:\n",
    "        return np.random.uniform(-0.25, 0.25, word2vec_dims)\n",
    "\n",
    "def compute_averaged_vector(review):\n",
    "    review_vectors = []\n",
    "    for i, word in enumerate(review):\n",
    "        review_vectors.append(word_vector_for(word))\n",
    "    return np.mean(np.array(review_vectors), axis=0)"
   ]
  },
  {
   "cell_type": "code",
   "execution_count": 56,
   "metadata": {
    "collapsed": false
   },
   "outputs": [
    {
     "name": "stdout",
     "output_type": "stream",
     "text": [
      "50000"
     ]
    }
   ],
   "source": [
    "log_counter = 0\n",
    "\n",
    "X_train = []\n",
    "Y_train = []\n",
    "X_test  = []\n",
    "Y_test  = []\n",
    "\n",
    "for i, review in enumerate(positive_reviews):\n",
    "    X_train.append(compute_averaged_vector(review))\n",
    "    Y_train.append(positive_y)\n",
    "    log_counter += 1\n",
    "    if log_counter % 1000 == 0:\n",
    "        sys.stdout.write(\"\\r{0}\".format(log_counter))\n",
    "        sys.stdout.flush()\n",
    "    \n",
    "for i, review in enumerate(negative_reviews):\n",
    "    X_train.append(compute_averaged_vector(review))\n",
    "    Y_train.append(negative_y)\n",
    "    log_counter += 1\n",
    "    if log_counter % 1000 == 0:\n",
    "        sys.stdout.write(\"\\r{0}\".format(log_counter))\n",
    "        sys.stdout.flush()\n",
    "    \n",
    "# For validation purposes\n",
    "for i, review in enumerate(positive_testrev):\n",
    "    X_test.append(compute_averaged_vector(review))\n",
    "    Y_test.append(positive_y)\n",
    "    log_counter += 1\n",
    "    if log_counter % 1000 == 0:\n",
    "        sys.stdout.write(\"\\r{0}\".format(log_counter))\n",
    "        sys.stdout.flush()\n",
    "    \n",
    "for i, review in enumerate(negative_testrev):\n",
    "    X_test.append(compute_averaged_vector(review))\n",
    "    Y_test.append(negative_y)\n",
    "    log_counter += 1\n",
    "    if log_counter % 1000 == 0:\n",
    "        sys.stdout.write(\"\\r{0}\".format(log_counter))\n",
    "        sys.stdout.flush()\n",
    "\n",
    "X_train = np.array(X_train)\n",
    "Y_train = np.array(Y_train)\n",
    "X_test  = np.array(X_test)\n",
    "Y_test  = np.array(Y_test)"
   ]
  },
  {
   "cell_type": "code",
   "execution_count": 57,
   "metadata": {
    "collapsed": false
   },
   "outputs": [
    {
     "name": "stdout",
     "output_type": "stream",
     "text": [
      "(25000, 100)\n",
      "(25000, 2)\n"
     ]
    }
   ],
   "source": [
    "print(X_train.shape)\n",
    "print(Y_train.shape)"
   ]
  },
  {
   "cell_type": "markdown",
   "metadata": {},
   "source": [
    "## Step 3: Keras\n"
   ]
  },
  {
   "cell_type": "code",
   "execution_count": 58,
   "metadata": {
    "collapsed": false
   },
   "outputs": [],
   "source": [
    "from keras.models import Model, Sequential\n",
    "from keras.layers.convolutional import Convolution1D, Convolution2D\n",
    "from keras.layers.pooling import MaxPooling1D, MaxPooling2D\n",
    "from keras.layers import Merge, Dense, Dropout, Activation, Input, Flatten\n",
    "from keras.optimizers import SGD"
   ]
  },
  {
   "cell_type": "code",
   "execution_count": 59,
   "metadata": {
    "collapsed": false,
    "scrolled": false
   },
   "outputs": [],
   "source": [
    "final_model = Sequential()\n",
    "final_model.add(Dense(32, input_shape=(word2vec_dims,)))\n",
    "final_model.add(Activation('relu'))\n",
    "final_model.add(Dense(16))\n",
    "final_model.add(Activation('relu'))\n",
    "final_model.add(Dropout(0.5))\n",
    "final_model.add(Dense(2))\n",
    "final_model.add(Activation('softmax'))\n",
    "\n",
    "sgd = SGD(lr=0.1, decay=1e-6, momentum=0.9, nesterov=True)\n",
    "final_model.compile(loss='binary_crossentropy',\n",
    "                    optimizer='rmsprop',\n",
    "                    metrics=['accuracy'])\n"
   ]
  },
  {
   "cell_type": "markdown",
   "metadata": {},
   "source": [
    "## Step 4: TRAIN THIS"
   ]
  },
  {
   "cell_type": "code",
   "execution_count": 60,
   "metadata": {
    "collapsed": false
   },
   "outputs": [
    {
     "name": "stdout",
     "output_type": "stream",
     "text": [
      "Train on 25000 samples, validate on 25000 samples\n",
      "Epoch 1/10\n",
      "25000/25000 [==============================] - 1s - loss: 0.6022 - acc: 0.6856 - val_loss: 0.4849 - val_acc: 0.7993\n",
      "Epoch 2/10\n",
      "25000/25000 [==============================] - 1s - loss: 0.4594 - acc: 0.7982 - val_loss: 0.4044 - val_acc: 0.8228\n",
      "Epoch 3/10\n",
      "25000/25000 [==============================] - 1s - loss: 0.4171 - acc: 0.8237 - val_loss: 0.3737 - val_acc: 0.8378\n",
      "Epoch 4/10\n",
      "25000/25000 [==============================] - 1s - loss: 0.3966 - acc: 0.8316 - val_loss: 0.3632 - val_acc: 0.8420\n",
      "Epoch 5/10\n",
      "25000/25000 [==============================] - 1s - loss: 0.3859 - acc: 0.8401 - val_loss: 0.3500 - val_acc: 0.8495\n",
      "Epoch 6/10\n",
      "25000/25000 [==============================] - 1s - loss: 0.3855 - acc: 0.8406 - val_loss: 0.3621 - val_acc: 0.8401\n",
      "Epoch 7/10\n",
      "25000/25000 [==============================] - 1s - loss: 0.3780 - acc: 0.8425 - val_loss: 0.3957 - val_acc: 0.8184\n",
      "Epoch 8/10\n",
      "25000/25000 [==============================] - 1s - loss: 0.3769 - acc: 0.8443 - val_loss: 0.3461 - val_acc: 0.8504\n",
      "Epoch 9/10\n",
      "25000/25000 [==============================] - 1s - loss: 0.3730 - acc: 0.8454 - val_loss: 0.3406 - val_acc: 0.8544\n",
      "Epoch 10/10\n",
      "25000/25000 [==============================] - 1s - loss: 0.3707 - acc: 0.8479 - val_loss: 0.3382 - val_acc: 0.8555\n"
     ]
    },
    {
     "data": {
      "text/plain": [
       "<keras.callbacks.History at 0x7f7f7ee26b50>"
      ]
     },
     "execution_count": 60,
     "metadata": {},
     "output_type": "execute_result"
    }
   ],
   "source": [
    "final_model.fit(X_train, \n",
    "                Y_train,\n",
    "                batch_size=50,\n",
    "                nb_epoch=10,\n",
    "                validation_data=[X_test, Y_test])"
   ]
  },
  {
   "cell_type": "code",
   "execution_count": 61,
   "metadata": {
    "collapsed": false
   },
   "outputs": [],
   "source": [
    "final_model.save('ffnn-w2v-imdb-sg-100d-avg.h5')"
   ]
  },
  {
   "cell_type": "markdown",
   "metadata": {},
   "source": [
    "## Step 5: Custom Predict\n",
    "\n",
    "Will implement for small bit of text prediction later.\n",
    "\n",
    "Somehow the predictions are dead wrong here."
   ]
  },
  {
   "cell_type": "code",
   "execution_count": 64,
   "metadata": {
    "collapsed": false
   },
   "outputs": [],
   "source": [
    "def test_predict(text):\n",
    "    doc_vector = compute_averaged_vector(text_tokens(text))\n",
    "    doc_vector = np.array([doc_vector])\n",
    "    prediction = final_model.predict(doc_vector, batch_size=1)[0]\n",
    "    if prediction[0] > prediction[1]:\n",
    "        return ['movie review is positive', prediction]\n",
    "    else:\n",
    "        return ['movie review is negative', prediction]"
   ]
  },
  {
   "cell_type": "code",
   "execution_count": 65,
   "metadata": {
    "collapsed": false
   },
   "outputs": [
    {
     "data": {
      "text/plain": [
       "['movie review is negative', array([ 0.04714099,  0.95285904], dtype=float32)]"
      ]
     },
     "execution_count": 65,
     "metadata": {},
     "output_type": "execute_result"
    }
   ],
   "source": [
    "test_predict(\"OMG this warcraft film adaptation was so awesome\")"
   ]
  },
  {
   "cell_type": "code",
   "execution_count": 66,
   "metadata": {
    "collapsed": false
   },
   "outputs": [
    {
     "data": {
      "text/plain": [
       "['movie review is negative',\n",
       " array([  1.43001153e-05,   9.99985695e-01], dtype=float32)]"
      ]
     },
     "execution_count": 66,
     "metadata": {},
     "output_type": "execute_result"
    }
   ],
   "source": [
    "test_predict(\"gosh this is just bad\")"
   ]
  },
  {
   "cell_type": "code",
   "execution_count": 67,
   "metadata": {
    "collapsed": false
   },
   "outputs": [
    {
     "data": {
      "text/plain": [
       "['movie review is negative', array([ 0.05543424,  0.94456571], dtype=float32)]"
      ]
     },
     "execution_count": 67,
     "metadata": {},
     "output_type": "execute_result"
    }
   ],
   "source": [
    "test_predict(\"train to busan was one of the most value for money movie one can pay for\")"
   ]
  },
  {
   "cell_type": "code",
   "execution_count": 68,
   "metadata": {
    "collapsed": false
   },
   "outputs": [
    {
     "data": {
      "text/plain": [
       "['movie review is negative',\n",
       " array([  2.18260666e-05,   9.99978185e-01], dtype=float32)]"
      ]
     },
     "execution_count": 68,
     "metadata": {},
     "output_type": "execute_result"
    }
   ],
   "source": [
    "test_predict(\"Blackhat is not only disappointing, its embarrassing\")"
   ]
  },
  {
   "cell_type": "code",
   "execution_count": 69,
   "metadata": {
    "collapsed": false
   },
   "outputs": [
    {
     "data": {
      "text/plain": [
       "['movie review is negative', array([ 0.04251961,  0.95748037], dtype=float32)]"
      ]
     },
     "execution_count": 69,
     "metadata": {},
     "output_type": "execute_result"
    }
   ],
   "source": [
    "test_predict('''\n",
    "Suffers from inconsistencies, both technical and story wise. They change the shooting styles, cameras, fps, warmth/cold - for no apparent reasons at all. Feels like it's not clear what this movie \"wants to be\". The main character is supposed to be a \"super-hacker\" but doesn't do anything \"super hack-y\", just wanders around, shooting people, and nails the female protagonist. Doesn't have many hacking-scenes for a \"hackers movie\", has tons of boring gun-scenes instead, from some reason. The motivation of the villain was, not interesting. References many other \"movie-cliches\" (not in a good way). Severely lacks humor. The few jokes in it are really cheesy (yeah, it's not a comedy , but comic reliefs are important). Many of the audience members left the theater in the middle or before the end\n",
    "''')"
   ]
  },
  {
   "cell_type": "code",
   "execution_count": 70,
   "metadata": {
    "collapsed": false
   },
   "outputs": [
    {
     "data": {
      "text/plain": [
       "['movie review is positive', array([ 0.64495844,  0.35504156], dtype=float32)]"
      ]
     },
     "execution_count": 70,
     "metadata": {},
     "output_type": "execute_result"
    }
   ],
   "source": [
    "test_predict('explosive summer flick that will keep you on the couch for hours')"
   ]
  },
  {
   "cell_type": "code",
   "execution_count": 71,
   "metadata": {
    "collapsed": false
   },
   "outputs": [
    {
     "data": {
      "text/plain": [
       "['movie review is negative', array([ 0.00356657,  0.99643338], dtype=float32)]"
      ]
     },
     "execution_count": 71,
     "metadata": {},
     "output_type": "execute_result"
    }
   ],
   "source": [
    "test_predict('why would anyone watch this?')"
   ]
  },
  {
   "cell_type": "code",
   "execution_count": 72,
   "metadata": {
    "collapsed": false
   },
   "outputs": [
    {
     "data": {
      "text/plain": [
       "['movie review is negative', array([ 0.00516589,  0.99483407], dtype=float32)]"
      ]
     },
     "execution_count": 72,
     "metadata": {},
     "output_type": "execute_result"
    }
   ],
   "source": [
    "test_predict('Some people walked out of this one, it\\'s just that crap')"
   ]
  },
  {
   "cell_type": "code",
   "execution_count": 73,
   "metadata": {
    "collapsed": false
   },
   "outputs": [
    {
     "data": {
      "text/plain": [
       "['movie review is positive', array([ 0.99632722,  0.00367283], dtype=float32)]"
      ]
     },
     "execution_count": 73,
     "metadata": {},
     "output_type": "execute_result"
    }
   ],
   "source": [
    "test_predict('this is definitely the best flick from christopher nolan yet!')"
   ]
  },
  {
   "cell_type": "code",
   "execution_count": 74,
   "metadata": {
    "collapsed": false
   },
   "outputs": [
    {
     "data": {
      "text/plain": [
       "['movie review is positive',\n",
       " array([  9.99987245e-01,   1.27418607e-05], dtype=float32)]"
      ]
     },
     "execution_count": 74,
     "metadata": {},
     "output_type": "execute_result"
    }
   ],
   "source": [
    "test_predict('i dug my eyes out')"
   ]
  },
  {
   "cell_type": "code",
   "execution_count": 75,
   "metadata": {
    "collapsed": false
   },
   "outputs": [
    {
     "data": {
      "text/plain": [
       "['movie review is positive', array([ 0.79510814,  0.20489186], dtype=float32)]"
      ]
     },
     "execution_count": 75,
     "metadata": {},
     "output_type": "execute_result"
    }
   ],
   "source": [
    "test_predict('seriously this is the one you must watch this year')"
   ]
  },
  {
   "cell_type": "code",
   "execution_count": 76,
   "metadata": {
    "collapsed": false
   },
   "outputs": [
    {
     "data": {
      "text/plain": [
       "['movie review is positive',\n",
       " array([  1.00000000e+00,   1.78973778e-08], dtype=float32)]"
      ]
     },
     "execution_count": 76,
     "metadata": {},
     "output_type": "execute_result"
    }
   ],
   "source": [
    "test_predict('touching love story indeed')"
   ]
  },
  {
   "cell_type": "code",
   "execution_count": 77,
   "metadata": {
    "collapsed": false
   },
   "outputs": [
    {
     "data": {
      "text/plain": [
       "['movie review is positive', array([ 0.8947531 ,  0.10524692], dtype=float32)]"
      ]
     },
     "execution_count": 77,
     "metadata": {},
     "output_type": "execute_result"
    }
   ],
   "source": [
    "test_predict('would love to lie on the grassfield and watch this with her again')"
   ]
  },
  {
   "cell_type": "code",
   "execution_count": 78,
   "metadata": {
    "collapsed": false
   },
   "outputs": [
    {
     "data": {
      "text/plain": [
       "['movie review is positive', array([ 0.53963822,  0.46036178], dtype=float32)]"
      ]
     },
     "execution_count": 78,
     "metadata": {},
     "output_type": "execute_result"
    }
   ],
   "source": [
    "test_predict('I bet there are more productive things to do than watching this film') # negative"
   ]
  },
  {
   "cell_type": "code",
   "execution_count": 26,
   "metadata": {
    "collapsed": false
   },
   "outputs": [
    {
     "data": {
      "text/plain": [
       "['movie review is negative', array([ 0.49654138,  0.50345862], dtype=float32)]"
      ]
     },
     "execution_count": 26,
     "metadata": {},
     "output_type": "execute_result"
    }
   ],
   "source": [
    "test_predict('I would have to dig my eyes out from the socket on this one') # negative"
   ]
  },
  {
   "cell_type": "code",
   "execution_count": 27,
   "metadata": {
    "collapsed": false
   },
   "outputs": [
    {
     "data": {
      "text/plain": [
       "['movie review is positive', array([ 0.91831607,  0.08168389], dtype=float32)]"
      ]
     },
     "execution_count": 27,
     "metadata": {},
     "output_type": "execute_result"
    }
   ],
   "source": [
    "# Inception IMDB 10/10\n",
    "test_predict('''\n",
    "What is the most resilient parasite? An Idea! Yes, Nolan has created something with his unbelievably, incredibly and god- gifted mind which will blow the minds of the audience away. The world premiere of the movie, directed by Hollywood's most inventive dreamers, was shown in London and has already got top notch reviews worldwide and has scored maximum points! Now the question arises what the movie has that it deserve all this?\n",
    "\n",
    "Dom Cobb(Di Caprio) is an extractor who is paid to invade the dreams of various business tycoons and steal their top secret ideas. Cobb robs forcefully the psyche with practiced skill, though he's increasingly haunted by the memory of his late wife, Mal (Marion Cotillard), who has a nasty habit of showing up in his subconscious and wreaking havoc on his missions. Cobb had been involved so much in his heist work that he had lost his love!\n",
    "\n",
    "But then, as fate had decided, a wealthy business man Saito( Ken Watanabe) hands over the responsibility of dissolving the empire of his business rival Robert Fischer Jr.(Cillian Murphy). But this time his job was not to steal the idea but to plant a new one: 'Inception'\n",
    "\n",
    "Then what happens is the classic heist movie tradition. To carry out the the task, Cobb's 'brainiac' specialists team up again with him, Arthur (Joseph Gordon-Levitt), his longtime organizer; Tom Hardy (Eames), a \"forger\" who can shapeshift at will; and Yusuf (Dileep Rao), a powerful sedative supplier. \n",
    "\n",
    "There is only one word to describe the cinematography, the set designs and the special effects, and that is Exceptional! You don't just watch the scenes happening, you feel them. The movie is a real thrill ride. The action scenes are well picturised and the music by Hans Zimmer is electronically haunting. Never, in the runtime of the movie, you will get a chance to move your eyes from the screen to any other object.\n",
    "\n",
    "Leonardo, who is still popularly known for Jack Dawson played by him in Titanic, should be relieved as his role as Dom Cobb will be remembered forever. His performance may or may not fetch him an Oscar but it will be his finest performance till date. The supporting cast too did an extraordinary work. Christopher Nolan, ah! what a man he is. His work is nothing less than a masterpiece and he deserves all the awards in the 'Best Director' category. If \"Inception\" is a metaphysical puzzle, it's also a metaphorical one: It's hard not to draw connections between Cobb's dream-weaving and Nolan's film making, intended to seduce us, mess with our heads and leave an ever-lasting impression.\n",
    "\n",
    "To conclude, I would just say before your life ends, do yourself a favor by experiencing this exceptionally lucid classic created by Nolan! ''')"
   ]
  },
  {
   "cell_type": "code",
   "execution_count": 28,
   "metadata": {
    "collapsed": false
   },
   "outputs": [
    {
     "data": {
      "text/plain": [
       "['movie review is negative', array([ 0.23289661,  0.76710337], dtype=float32)]"
      ]
     },
     "execution_count": 28,
     "metadata": {},
     "output_type": "execute_result"
    }
   ],
   "source": [
    "# IMDB Suicide Squad 2/10\n",
    "test_predict('''\n",
    "I don't get the ratings here. This is a cut and dry poorly made movie and fans of the DC universe deserve better. I don't normally post my reviews here. But I have to share my take on this movie because it just wasn't good. I didn't even have to go into spoilers to show how terrible it is. Movie goers shouldn't mindlessly consume these films. Christopher Nolan set a high bar, but producers and studios need to step messing with auteurs and maybe we can get a quality DC movie:\n",
    "\n",
    "There is nothing in Suicide Squad that shows any hope that an auteur filmmaker can do anything distinctive with the current cash cow of the Hollywood machine: the super hero movie. What Christopher Nolan once made his own has devolved into a predictable pastiche whose charms should be wearing thin on audiences. It doesn't help that the movie is also an example of how bad one of these films can be when it becomes watered down and designed to refrain from shaking up anything in the so-called DC Universe. Suicide Squad, a PG-13 film, was supposed to be DC's entry to rival Marvel's R-rated Deadpool. Even though Deadpool had its own problems as a self-aware action movie, it still had focus and a bravado that is nowhere to be found in Suicide Squad.\n",
    "\n",
    "Suicide Squad follows a group of villains with super powers released from prison as part of a government plan to protect the world from terrorists or whatever sign-of-the-times fear currently plaguing society (Zika?). Starring Will Smith as the hit man Deadshot and Margot Robbie as the Joker's manic girlfriend Harley Quinn, alongside several other less familiar DC baddies, these guys are supposed to be complex people who have long fallen from grace and are supposed to rise above to find their humanity and gain the audience's sympathy. But writer-director David Ayer tries so hard to take a safe route, you can see the gears trying to manipulate audience emotion, revealing the inherit problems of these comic book adaptations straining to catch up with decades of printed storytelling.\n",
    "\n",
    "You can't totally blame Ayer, who last gave moviegoers Fury, an incredibly strong and startling war movie featuring a better fleshed out motley crew of characters. The preciousness Hollywood has for its ongoing world building of interconnected comic book films creates such tight restrictions on storytelling that anything that might upset that world has no room to prosper. At one point, toward the end of Suicide Squad, one character asks another, \"Shouldn't you be dead?\" Of course not, this is the DC universe, and it's gotta be milked. That means no major players should be written off in one movie.\n",
    "\n",
    "The result of these storytelling restraints is a soulless kind of filmmaking hampered by pussyfooting. It's like a syrupy glaze that drowns out any possibility to shine above what has become a predictable pattern of storytelling. Characters dole out uninspired lines that play superficially to feelings, like, \"Dad, I know you do bad things, but I still love you.\" Then there are the clichés, like \"fight fire with fire.\" Sometimes the script inadvertently deflates the tension by spelling things out. Someone over a radio says, \"Use extreme caution,\" and someone in the action responds, \"I don't like this.\" But in case you miss that, someone else says, \"I don't like it either.\" A kid playing with his action figures can come up with better chatter to establish tension....''')"
   ]
  },
  {
   "cell_type": "code",
   "execution_count": 29,
   "metadata": {
    "collapsed": false
   },
   "outputs": [
    {
     "data": {
      "text/plain": [
       "['movie review is negative', array([ 0.33913857,  0.66086149], dtype=float32)]"
      ]
     },
     "execution_count": 29,
     "metadata": {},
     "output_type": "execute_result"
    }
   ],
   "source": [
    "test_predict('As bad as a cheese topped with naan and sambal')"
   ]
  },
  {
   "cell_type": "code",
   "execution_count": 30,
   "metadata": {
    "collapsed": false
   },
   "outputs": [
    {
     "data": {
      "text/plain": [
       "['movie review is positive', array([ 0.65381306,  0.34618694], dtype=float32)]"
      ]
     },
     "execution_count": 30,
     "metadata": {},
     "output_type": "execute_result"
    }
   ],
   "source": [
    "test_predict('Still a better love story than Twilight')"
   ]
  },
  {
   "cell_type": "code",
   "execution_count": null,
   "metadata": {
    "collapsed": true
   },
   "outputs": [],
   "source": []
  }
 ],
 "metadata": {
  "anaconda-cloud": {},
  "kernelspec": {
   "display_name": "Python [tensorflow]",
   "language": "python",
   "name": "Python [tensorflow]"
  },
  "language_info": {
   "codemirror_mode": {
    "name": "ipython",
    "version": 2
   },
   "file_extension": ".py",
   "mimetype": "text/x-python",
   "name": "python",
   "nbconvert_exporter": "python",
   "pygments_lexer": "ipython2",
   "version": "2.7.12"
  },
  "nbpresent": {
   "slides": {
    "37e74d51-8e3e-45ef-a6e1-8a70764d8838": {
     "id": "37e74d51-8e3e-45ef-a6e1-8a70764d8838",
     "prev": "ba25d42f-178f-4bff-878f-237edd09c5f5",
     "regions": {
      "02d29844-ddc7-4301-9e0f-8cf2188ea9a7": {
       "attrs": {
        "height": 0.8,
        "width": 0.8,
        "x": 0.1,
        "y": 0.1
       },
       "content": {
        "cell": "cdb3fecf-044e-49af-a897-5a213e02698c",
        "part": "whole"
       },
       "id": "02d29844-ddc7-4301-9e0f-8cf2188ea9a7"
      }
     },
     "theme": null
    },
    "3961229a-9df7-4080-8adb-51386f2bc3bd": {
     "id": "3961229a-9df7-4080-8adb-51386f2bc3bd",
     "prev": "53407f4b-429c-4df1-9d5d-c26d568e5a4f",
     "regions": {
      "62e52504-c547-4256-809d-50995400803a": {
       "attrs": {
        "height": 0.8,
        "width": 0.8,
        "x": 0.1,
        "y": 0.1
       },
       "content": {
        "cell": "789db32e-3bb2-49b4-8ecc-e8f9f0d67a7b",
        "part": "whole"
       },
       "id": "62e52504-c547-4256-809d-50995400803a"
      }
     }
    },
    "53407f4b-429c-4df1-9d5d-c26d568e5a4f": {
     "id": "53407f4b-429c-4df1-9d5d-c26d568e5a4f",
     "prev": "af0c81d8-7d10-422d-a598-1cb99dee2e2c",
     "regions": {
      "3222cf87-ef46-4651-8cf2-80a78e9eca3b": {
       "attrs": {
        "height": 0.8,
        "width": 0.8,
        "x": 0.1,
        "y": 0.1
       },
       "content": {
        "cell": "bc104c55-9cb1-4d4c-a1bf-363277a69da8",
        "part": "whole"
       },
       "id": "3222cf87-ef46-4651-8cf2-80a78e9eca3b"
      }
     }
    },
    "64728ebe-592c-4d5b-baa4-dc089e2704fb": {
     "id": "64728ebe-592c-4d5b-baa4-dc089e2704fb",
     "prev": "99bda4b6-a416-4ffc-9fa9-77a771dd27ec",
     "regions": {
      "8f248628-70ae-48f5-9bd1-eb1cfdf6e2f6": {
       "attrs": {
        "height": 0.8,
        "width": 0.8,
        "x": 0.1,
        "y": 0.1
       },
       "content": {
        "cell": "07039836-86fc-4567-b302-ef9265af8307",
        "part": "whole"
       },
       "id": "8f248628-70ae-48f5-9bd1-eb1cfdf6e2f6"
      }
     }
    },
    "875c94af-0074-4c3e-8c45-e90c2ed94612": {
     "id": "875c94af-0074-4c3e-8c45-e90c2ed94612",
     "prev": "fb703c45-7b3e-47cb-a3cb-90072b339ac7",
     "regions": {
      "1dd617cb-85a2-4e96-8f9d-a180b24413b1": {
       "attrs": {
        "height": 0.8,
        "width": 0.8,
        "x": 0.1,
        "y": 0.1
       },
       "content": {
        "cell": "088e0cfc-b19d-480a-87e1-73539d08efcd",
        "part": "whole"
       },
       "id": "1dd617cb-85a2-4e96-8f9d-a180b24413b1"
      }
     }
    },
    "8ce9e396-9e36-48d8-8dad-652e0874f01c": {
     "id": "8ce9e396-9e36-48d8-8dad-652e0874f01c",
     "prev": "eeb7b456-444b-44b5-a9ce-47c172546952",
     "regions": {
      "851f0ea5-8a8c-4a2b-9105-1d56ba2ef2d7": {
       "attrs": {
        "height": 0.8,
        "width": 0.8,
        "x": 0.1,
        "y": 0.1
       },
       "content": {
        "cell": "082122aa-9d01-40d0-bac7-8476a8e2098f",
        "part": "whole"
       },
       "id": "851f0ea5-8a8c-4a2b-9105-1d56ba2ef2d7"
      }
     }
    },
    "905771fb-bf2d-42a7-aec2-5da33f44c325": {
     "id": "905771fb-bf2d-42a7-aec2-5da33f44c325",
     "prev": "8ce9e396-9e36-48d8-8dad-652e0874f01c",
     "regions": {
      "63519927-4a11-499b-b1a4-ac6dbd9e8bb0": {
       "attrs": {
        "height": 0.8,
        "width": 0.8,
        "x": 0.1,
        "y": 0.1
       },
       "content": {
        "cell": "3a8186e0-2504-4f64-9086-fe7ab528f2e3",
        "part": "whole"
       },
       "id": "63519927-4a11-499b-b1a4-ac6dbd9e8bb0"
      }
     }
    },
    "91908d9f-ed0e-4588-a13b-308c73734071": {
     "id": "91908d9f-ed0e-4588-a13b-308c73734071",
     "prev": "905771fb-bf2d-42a7-aec2-5da33f44c325",
     "regions": {
      "52d4555d-d45e-4115-98e4-21d8340c2257": {
       "attrs": {
        "height": 0.8,
        "width": 0.8,
        "x": 0.1,
        "y": 0.1
       },
       "content": {
        "cell": "60e00169-ee44-4c0c-9c55-7121d4c8332f",
        "part": "whole"
       },
       "id": "52d4555d-d45e-4115-98e4-21d8340c2257"
      }
     }
    },
    "99bda4b6-a416-4ffc-9fa9-77a771dd27ec": {
     "id": "99bda4b6-a416-4ffc-9fa9-77a771dd27ec",
     "prev": null,
     "regions": {
      "3e966305-d8cd-4860-8194-9e4460aebbfe": {
       "attrs": {
        "height": 0.8,
        "width": 0.8,
        "x": 0.0833250996187788,
        "y": 0.10830039485643014
       },
       "id": "3e966305-d8cd-4860-8194-9e4460aebbfe"
      },
      "81e1e2bd-e729-4e37-8913-bf2162a507bd": {
       "attrs": {
        "height": 0.8,
        "width": 0.8,
        "x": 0.03863636659710592,
        "y": 0.09407114653112136
       },
       "content": {
        "cell": "aa8439c7-cf04-49a6-84f3-2e8af08aca7f",
        "part": "whole"
       },
       "id": "81e1e2bd-e729-4e37-8913-bf2162a507bd"
      }
     }
    },
    "9aeefc9a-ead7-4fff-b68f-12374636e8c3": {
     "id": "9aeefc9a-ead7-4fff-b68f-12374636e8c3",
     "prev": "dc88abf0-a5b8-43d9-b06f-0f6172443154",
     "regions": {
      "11975b9d-2c03-4d62-b3f8-273c4a929ac5": {
       "attrs": {
        "height": 0.8,
        "width": 0.8,
        "x": 0.1,
        "y": 0.1
       },
       "content": {
        "cell": "5941a2a4-8f01-4077-919e-2f1d724e3cff",
        "part": "whole"
       },
       "id": "11975b9d-2c03-4d62-b3f8-273c4a929ac5"
      }
     }
    },
    "a4bcb0ed-33c6-45a4-a6b6-6fda4109f64f": {
     "id": "a4bcb0ed-33c6-45a4-a6b6-6fda4109f64f",
     "prev": "3961229a-9df7-4080-8adb-51386f2bc3bd",
     "regions": {
      "2cbebc16-1a38-4f7c-ad9a-ad220db57799": {
       "attrs": {
        "height": 0.8,
        "width": 0.8,
        "x": 0.1,
        "y": 0.1
       },
       "content": {
        "cell": "1fb917cc-0afc-424f-8b88-400a90ad6819",
        "part": "whole"
       },
       "id": "2cbebc16-1a38-4f7c-ad9a-ad220db57799"
      }
     }
    },
    "af0c81d8-7d10-422d-a598-1cb99dee2e2c": {
     "id": "af0c81d8-7d10-422d-a598-1cb99dee2e2c",
     "prev": "64728ebe-592c-4d5b-baa4-dc089e2704fb",
     "regions": {
      "934404bd-cff4-4c2d-a5c2-093f7660a160": {
       "attrs": {
        "height": 0.8,
        "width": 0.8,
        "x": 0.1,
        "y": 0.1
       },
       "content": {
        "cell": "35ac46e5-404e-4d92-b9bd-073c346223a0",
        "part": "whole"
       },
       "id": "934404bd-cff4-4c2d-a5c2-093f7660a160"
      }
     }
    },
    "ba25d42f-178f-4bff-878f-237edd09c5f5": {
     "id": "ba25d42f-178f-4bff-878f-237edd09c5f5",
     "prev": "875c94af-0074-4c3e-8c45-e90c2ed94612",
     "regions": {
      "39ec72be-7f2a-49bc-a862-d0ddaf0741fa": {
       "attrs": {
        "height": 0.8,
        "width": 0.8,
        "x": 0.1,
        "y": 0.1
       },
       "content": {
        "cell": "170beea1-a455-4375-b6fb-4c84778b2a4a",
        "part": "whole"
       },
       "id": "39ec72be-7f2a-49bc-a862-d0ddaf0741fa"
      }
     }
    },
    "bd7a242b-b4ee-4781-abd6-45dc7d6604fb": {
     "id": "bd7a242b-b4ee-4781-abd6-45dc7d6604fb",
     "prev": "91908d9f-ed0e-4588-a13b-308c73734071",
     "regions": {
      "dd046f4e-2e3d-444a-9d20-5929545381d9": {
       "attrs": {
        "height": 0.8,
        "width": 0.8,
        "x": 0.1,
        "y": 0.1
       },
       "content": {
        "cell": "a1b9ac65-1c0d-436c-8c4c-6aec5c59e4e9",
        "part": "whole"
       },
       "id": "dd046f4e-2e3d-444a-9d20-5929545381d9"
      }
     }
    },
    "c08bcf99-f04e-494d-bc58-e666d4ec92ba": {
     "id": "c08bcf99-f04e-494d-bc58-e666d4ec92ba",
     "prev": "d5f1666e-7e38-4606-8790-1cd4b70da45e",
     "regions": {
      "b561ca37-037f-454c-a483-740986aa86d9": {
       "attrs": {
        "height": 0.8,
        "width": 0.8,
        "x": 0.1,
        "y": 0.1
       },
       "content": {
        "cell": "3ba15d56-a8a4-4d7a-8c7f-9465f81ac6a4",
        "part": "whole"
       },
       "id": "b561ca37-037f-454c-a483-740986aa86d9"
      }
     }
    },
    "cff711ff-48f0-4015-b6af-b53eef839e16": {
     "id": "cff711ff-48f0-4015-b6af-b53eef839e16",
     "prev": "bd7a242b-b4ee-4781-abd6-45dc7d6604fb",
     "regions": {
      "e90e7eda-38c0-49b8-b941-042573be21a2": {
       "attrs": {
        "height": 0.8,
        "width": 0.8,
        "x": 0.1,
        "y": 0.1
       },
       "content": {
        "cell": "041f0afc-f01c-42ae-8937-a81d76ccc74b",
        "part": "whole"
       },
       "id": "e90e7eda-38c0-49b8-b941-042573be21a2"
      }
     }
    },
    "d393470b-f821-447b-b90a-8a873f5615c6": {
     "id": "d393470b-f821-447b-b90a-8a873f5615c6",
     "prev": "c08bcf99-f04e-494d-bc58-e666d4ec92ba",
     "regions": {
      "010c3eef-e5a8-4833-b61d-5d9497a35284": {
       "attrs": {
        "height": 0.8,
        "width": 0.8,
        "x": 0.1,
        "y": 0.1
       },
       "content": {
        "cell": "7bf80616-2457-4d9d-b3c9-dc7050365dfa",
        "part": "whole"
       },
       "id": "010c3eef-e5a8-4833-b61d-5d9497a35284"
      }
     }
    },
    "d5f1666e-7e38-4606-8790-1cd4b70da45e": {
     "id": "d5f1666e-7e38-4606-8790-1cd4b70da45e",
     "prev": "9aeefc9a-ead7-4fff-b68f-12374636e8c3",
     "regions": {
      "5683aaa1-f7d4-49a9-a332-b8e6b72e355c": {
       "attrs": {
        "height": 0.8,
        "width": 0.8,
        "x": 0.1,
        "y": 0.1
       },
       "content": {
        "cell": "70003047-3373-4d72-87f2-5708a31122c3",
        "part": "whole"
       },
       "id": "5683aaa1-f7d4-49a9-a332-b8e6b72e355c"
      }
     }
    },
    "dc88abf0-a5b8-43d9-b06f-0f6172443154": {
     "id": "dc88abf0-a5b8-43d9-b06f-0f6172443154",
     "prev": "37e74d51-8e3e-45ef-a6e1-8a70764d8838",
     "regions": {
      "e0e421c5-9d16-4e11-991f-3010779f786f": {
       "attrs": {
        "height": 0.8,
        "width": 0.8,
        "x": 0.1,
        "y": 0.1
       },
       "content": {
        "cell": "3817220e-8d9c-49d3-9d64-a48c03ea2430",
        "part": "whole"
       },
       "id": "e0e421c5-9d16-4e11-991f-3010779f786f"
      }
     }
    },
    "eeb7b456-444b-44b5-a9ce-47c172546952": {
     "id": "eeb7b456-444b-44b5-a9ce-47c172546952",
     "prev": "d393470b-f821-447b-b90a-8a873f5615c6",
     "regions": {
      "c89b5a8c-d9fc-4756-b536-0340b41e8d41": {
       "attrs": {
        "height": 0.8,
        "width": 0.8,
        "x": 0.1,
        "y": 0.1
       },
       "content": {
        "cell": "5a605fa8-fc27-44b6-b98f-51ab208c9930",
        "part": "whole"
       },
       "id": "c89b5a8c-d9fc-4756-b536-0340b41e8d41"
      }
     }
    },
    "fb703c45-7b3e-47cb-a3cb-90072b339ac7": {
     "id": "fb703c45-7b3e-47cb-a3cb-90072b339ac7",
     "prev": "a4bcb0ed-33c6-45a4-a6b6-6fda4109f64f",
     "regions": {
      "fe6d4f25-6a25-4a89-981d-509609414a42": {
       "attrs": {
        "height": 0.8,
        "width": 0.8,
        "x": 0.1,
        "y": 0.1
       },
       "content": {
        "cell": "43426664-5c77-45e8-8e50-bd112537d092",
        "part": "whole"
       },
       "id": "fe6d4f25-6a25-4a89-981d-509609414a42"
      }
     }
    }
   },
   "themes": {}
  }
 },
 "nbformat": 4,
 "nbformat_minor": 1
}
