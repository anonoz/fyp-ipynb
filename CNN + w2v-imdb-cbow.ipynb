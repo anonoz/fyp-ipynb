{
 "cells": [
  {
   "cell_type": "markdown",
   "metadata": {
    "collapsed": false
   },
   "source": [
    "# Sentiment Analysis using CNN with features extracted from word2vec (IMDb on CBOW algo)\n",
    "\n",
    "### Data Generator?\n",
    "In previous attempts, due to RAM constraint we couldn't fit the entire reviews and all the word vector dimensions into memory. Thus we can only take the first 100 vector dimensions, as well as maybe first 200 words of movie reviews.\n",
    "\n",
    "With data generator and Keras' `model.fit_generator()` function, we can pass a Python generator that spews out infinite number of X_train and Y_train."
   ]
  },
  {
   "cell_type": "code",
   "execution_count": 1,
   "metadata": {
    "collapsed": false
   },
   "outputs": [],
   "source": [
    "# Notebook\n",
    "%matplotlib inline\n",
    "import matplotlib.pyplot as plt\n",
    "import sys\n",
    "import numpy as np\n",
    "from text_tokenizer import tokenize\n",
    "\n",
    "# ==== CONFIGS ====\n",
    "\n",
    "h5_save_as = \"models/cnn-cbow.h5\"\n",
    "\n",
    "# The word vector can be swapped with say GoogleNews 6B dataset\n",
    "word_vector_bin_file = \"word2vec/w2v-imdb-cbow-100d.bin\"\n",
    "word_vector_dims = 100\n",
    "\n",
    "# in aclImdb, the longest review is 2470 words long\n",
    "# Due to memory constraint, in this one I limit to 200 words\n",
    "max_review_length = 3000\n",
    "\n",
    "# Can easily swap with other datasets if you want\n",
    "positive_review_txts = \"aclImdb/train/pos/*.txt\"\n",
    "negative_review_txts = \"aclImdb/train/neg/*.txt\"\n",
    "positive_review_vals = \"aclImdb/test/pos/*.txt\"\n",
    "negative_review_vals = \"aclImdb/test/neg/*.txt\"\n",
    "\n",
    "pad_token = '<PAD/>'\n",
    "positive_y = [1, 0]\n",
    "negative_y = [0, 1]"
   ]
  },
  {
   "cell_type": "markdown",
   "metadata": {
    "collapsed": true
   },
   "source": [
    "## Step 1: Make X_train\n",
    "\n",
    "X_train data structure is a 3D array, consisting of reviews, words, and vectors:\n",
    "```json\n",
    "[\n",
    "  // a review\n",
    "  [\n",
    "    // a word, and its array of 100 vectors\n",
    "    [0.75, 0.64 ...],\n",
    "    ...\n",
    "  ], \n",
    "  ...\n",
    "]\n",
    "```"
   ]
  },
  {
   "cell_type": "code",
   "execution_count": 2,
   "metadata": {
    "collapsed": false
   },
   "outputs": [
    {
     "name": "stdout",
     "output_type": "stream",
     "text": [
      "50000('highest word count: ', 2606)\n"
     ]
    }
   ],
   "source": [
    "import glob\n",
    "\n",
    "# highest word count shall be the convnet rows\n",
    "highest_review_word_count = 0\n",
    "training_reviews = []\n",
    "validating_reviews = []\n",
    "\n",
    "# just for notebook\n",
    "file_read_count = 0\n",
    "\n",
    "for txt in glob.glob(positive_review_txts):\n",
    "    with (open(txt, 'r')) as f:\n",
    "        word_array =  tokenize(f.read())\n",
    "        highest_review_word_count = max(highest_review_word_count, len(word_array))\n",
    "        training_reviews.append([word_array, positive_y])\n",
    "        file_read_count += 1\n",
    "        if file_read_count % 1000 == 0:\n",
    "            sys.stdout.write(\"\\r{0}\".format(file_read_count))\n",
    "            sys.stdout.flush()\n",
    "\n",
    "for txt in glob.glob(negative_review_txts):\n",
    "    with (open(txt, 'r')) as f:\n",
    "        word_array = tokenize(f.read())\n",
    "        highest_review_word_count = max(highest_review_word_count, len(word_array))\n",
    "        training_reviews.append([word_array, negative_y])\n",
    "        file_read_count += 1\n",
    "        if file_read_count % 1000 == 0:\n",
    "            sys.stdout.write(\"\\r{0}\".format(file_read_count))\n",
    "            sys.stdout.flush()\n",
    "        \n",
    "# For validation purposes\n",
    "for txt in glob.glob(positive_review_vals):\n",
    "    with (open(txt, 'r')) as f:\n",
    "        word_array = tokenize(f.read())\n",
    "        validating_reviews.append([word_array, positive_y])\n",
    "        file_read_count += 1\n",
    "        if file_read_count % 1000 == 0:\n",
    "            sys.stdout.write(\"\\r{0}\".format(file_read_count))\n",
    "            sys.stdout.flush()\n",
    "\n",
    "for txt in glob.glob(negative_review_vals):\n",
    "    with (open(txt, 'r')) as f:\n",
    "        word_array = tokenize(f.read())\n",
    "        validating_reviews.append([word_array, negative_y])\n",
    "        file_read_count += 1\n",
    "        if file_read_count % 1000 == 0:\n",
    "            sys.stdout.write(\"\\r{0}\".format(file_read_count))\n",
    "            sys.stdout.flush()\n",
    "\n",
    "print('highest word count: ', highest_review_word_count)"
   ]
  },
  {
   "cell_type": "markdown",
   "metadata": {},
   "source": [
    "## Step 2: Assign vector to vocabs"
   ]
  },
  {
   "cell_type": "code",
   "execution_count": 3,
   "metadata": {
    "collapsed": false
   },
   "outputs": [
    {
     "name": "stderr",
     "output_type": "stream",
     "text": [
      "Using gpu device 0: GeForce GTX 1060 6GB (CNMeM is disabled, cuDNN 5105)\n",
      "/home/anonoz/anaconda2/envs/tensorflow/lib/python2.7/site-packages/theano/sandbox/cuda/__init__.py:600: UserWarning: Your cuDNN version is more recent than the one Theano officially supports. If you see any problems, try updating Theano or downgrading cuDNN to version 5.\n",
      "  warnings.warn(warn)\n"
     ]
    }
   ],
   "source": [
    "import sys\n",
    "import gensim\n",
    "from gensim.models import Word2Vec\n",
    "word_vecs = Word2Vec.load_word2vec_format(word_vector_bin_file, binary=True)"
   ]
  },
  {
   "cell_type": "code",
   "execution_count": 4,
   "metadata": {
    "collapsed": false
   },
   "outputs": [],
   "source": [
    "def word_vector_for(word):\n",
    "    try:\n",
    "        return word_vecs[word][:word_vector_dims]\n",
    "    except KeyError:\n",
    "        return np.random.uniform(-0.25, 0.25, word_vector_dims)"
   ]
  },
  {
   "cell_type": "code",
   "execution_count": 5,
   "metadata": {
    "collapsed": false
   },
   "outputs": [],
   "source": [
    "import random\n",
    "# In this case, we will use a generator to generate these big ass numpy arrays on the fly.\n",
    "# Considerations:\n",
    "# - This generator must be an infinite loop\n",
    "# - Every iteration must have shuffled data\n",
    "#\n",
    "#\n",
    "# It will return a tuple of single X_train (sentence_length, dims) and Y_train (2,1)\n",
    "#\n",
    "def reviews_generator(reviews, batch_size=50):\n",
    "    while 1:\n",
    "        # Shuffle the reviews\n",
    "        random.shuffle(reviews)\n",
    "        \n",
    "        batch_counter = 0\n",
    "        x_train = np.full((batch_size, max_review_length, word_vector_dims), 0, dtype='float32')\n",
    "        y_train = np.full((batch_size, 2), 0, dtype='float32')\n",
    "        for i, review in enumerate(reviews):\n",
    "            for j, word in enumerate(review[0]):\n",
    "                x_train[batch_counter][j] = word_vector_for(word)\n",
    "                if j == max_review_length - 1:\n",
    "                    break\n",
    "            x_train[batch_counter][len(review[0]):-1] = word_vector_for(pad_token)\n",
    "            y_train[batch_counter] = np.array(review[1])\n",
    "            \n",
    "            if batch_counter + 1 == batch_size:\n",
    "                batch_counter = 0\n",
    "                yield x_train, y_train\n",
    "                x_train = np.full((batch_size, max_review_length, word_vector_dims), 0, dtype='float32')\n",
    "                y_train = np.full((batch_size, 2), 0, dtype='float32')\n",
    "            else:\n",
    "                batch_counter += 1"
   ]
  },
  {
   "cell_type": "markdown",
   "metadata": {},
   "source": [
    "## Step 3: Keras\n",
    "\n",
    "![YoonKim CNN Architecture](yoonkim-cnn-architecture.png)"
   ]
  },
  {
   "cell_type": "code",
   "execution_count": 6,
   "metadata": {
    "collapsed": false
   },
   "outputs": [
    {
     "name": "stderr",
     "output_type": "stream",
     "text": [
      "Using Theano backend.\n"
     ]
    }
   ],
   "source": [
    "from keras.models import Model, Sequential\n",
    "from keras.layers.convolutional import Convolution1D, Convolution2D\n",
    "from keras.layers.pooling import MaxPooling1D, MaxPooling2D\n",
    "from keras.layers import Merge, Dense, Dropout, Activation, Input, Flatten\n",
    "from keras.optimizers import SGD"
   ]
  },
  {
   "cell_type": "code",
   "execution_count": 7,
   "metadata": {
    "collapsed": false,
    "scrolled": false
   },
   "outputs": [],
   "source": [
    "# Based on the paper, there are filters of various sizes\n",
    "filters = 1\n",
    "epochs = 10\n",
    "\n",
    "layer1_filter_sizes = [3,4,5]\n",
    "layer1_convs = []\n",
    "\n",
    "graph_in = Input(shape=(max_review_length, word_vector_dims))\n",
    "\n",
    "for filter_size in layer1_filter_sizes:\n",
    "    conv = Convolution1D(filters,\n",
    "                         filter_size,\n",
    "                         border_mode = 'valid',\n",
    "                         activation='relu',\n",
    "                         subsample_length=1)(graph_in)\n",
    "    pool = MaxPooling1D(pool_length=2)(conv)\n",
    "    flatten = Flatten()(pool)\n",
    "    layer1_convs.append(flatten)\n",
    "\n",
    "# Merge the conv\n",
    "merged = Merge(mode='concat')(layer1_convs)\n",
    "graph = Model(input=graph_in, output=merged)\n",
    "\n",
    "final_model = Sequential()\n",
    "final_model.add(graph)\n",
    "final_model.add(Dense(16))\n",
    "final_model.add(Activation('relu'))\n",
    "final_model.add(Dropout(0.5))\n",
    "final_model.add(Dense(2))\n",
    "final_model.add(Activation('softmax'))\n",
    "\n",
    "final_model.compile(loss='binary_crossentropy',\n",
    "                    optimizer='adam',\n",
    "                    metrics=['accuracy'])\n"
   ]
  },
  {
   "cell_type": "markdown",
   "metadata": {},
   "source": [
    "## Step 4: TRAIN THIS"
   ]
  },
  {
   "cell_type": "code",
   "execution_count": 8,
   "metadata": {
    "collapsed": false
   },
   "outputs": [
    {
     "name": "stdout",
     "output_type": "stream",
     "text": [
      "Epoch 1/25\n",
      "25000/25000 [==============================] - 64s - loss: 0.6971 - acc: 0.5026 - val_loss: 0.6929 - val_acc: 0.5005\n",
      "Epoch 2/25\n",
      "25000/25000 [==============================] - 84s - loss: 0.6840 - acc: 0.5275 - val_loss: 0.5725 - val_acc: 0.7272\n",
      "Epoch 3/25\n",
      "25000/25000 [==============================] - 84s - loss: 0.5207 - acc: 0.7394 - val_loss: 0.3895 - val_acc: 0.8312\n",
      "Epoch 4/25\n",
      "25000/25000 [==============================] - 87s - loss: 0.4235 - acc: 0.8087 - val_loss: 0.3802 - val_acc: 0.8258\n",
      "Epoch 5/25\n",
      "25000/25000 [==============================] - 85s - loss: 0.3887 - acc: 0.8346 - val_loss: 0.3461 - val_acc: 0.8455\n",
      "Epoch 6/25\n",
      "25000/25000 [==============================] - 88s - loss: 0.3633 - acc: 0.8478 - val_loss: 0.3377 - val_acc: 0.8508\n",
      "Epoch 7/25\n",
      "25000/25000 [==============================] - 83s - loss: 0.3452 - acc: 0.8564 - val_loss: 0.3317 - val_acc: 0.8560\n",
      "Epoch 8/25\n",
      "25000/25000 [==============================] - 88s - loss: 0.3307 - acc: 0.8634 - val_loss: 0.3236 - val_acc: 0.8638\n",
      "Epoch 9/25\n",
      "25000/25000 [==============================] - 88s - loss: 0.3148 - acc: 0.8686 - val_loss: 0.3264 - val_acc: 0.8610\n",
      "Epoch 10/25\n",
      "25000/25000 [==============================] - 91s - loss: 0.3103 - acc: 0.8728 - val_loss: 0.3240 - val_acc: 0.8634\n",
      "Epoch 11/25\n",
      "25000/25000 [==============================] - 94s - loss: 0.3017 - acc: 0.8767 - val_loss: 0.3423 - val_acc: 0.8579\n",
      "Epoch 12/25\n",
      "25000/25000 [==============================] - 92s - loss: 0.2928 - acc: 0.8781 - val_loss: 0.3252 - val_acc: 0.8648\n",
      "Epoch 13/25\n",
      "25000/25000 [==============================] - 93s - loss: 0.2886 - acc: 0.8800 - val_loss: 0.3372 - val_acc: 0.8585\n",
      "Epoch 14/25\n",
      "25000/25000 [==============================] - 89s - loss: 0.2868 - acc: 0.8818 - val_loss: 0.3275 - val_acc: 0.8616\n",
      "Epoch 15/25\n",
      "25000/25000 [==============================] - 89s - loss: 0.2802 - acc: 0.8850 - val_loss: 0.3313 - val_acc: 0.8670\n",
      "Epoch 16/25\n",
      "25000/25000 [==============================] - 79s - loss: 0.2753 - acc: 0.8851 - val_loss: 0.3477 - val_acc: 0.8574\n",
      "Epoch 17/25\n",
      "25000/25000 [==============================] - 67s - loss: 0.2725 - acc: 0.8866 - val_loss: 0.3454 - val_acc: 0.8628\n",
      "Epoch 18/25\n",
      "25000/25000 [==============================] - 89s - loss: 0.2703 - acc: 0.8894 - val_loss: 0.3457 - val_acc: 0.8651\n",
      "Epoch 19/25\n",
      "25000/25000 [==============================] - 104s - loss: 0.2639 - acc: 0.8899 - val_loss: 0.3640 - val_acc: 0.8582\n",
      "Epoch 20/25\n",
      "25000/25000 [==============================] - 93s - loss: 0.2583 - acc: 0.8902 - val_loss: 0.3735 - val_acc: 0.8623\n",
      "Epoch 21/25\n",
      "25000/25000 [==============================] - 96s - loss: 0.2576 - acc: 0.8916 - val_loss: 0.3604 - val_acc: 0.8616\n",
      "Epoch 22/25\n",
      "25000/25000 [==============================] - 82s - loss: 0.2532 - acc: 0.8938 - val_loss: 0.3618 - val_acc: 0.8641\n",
      "Epoch 23/25\n",
      "25000/25000 [==============================] - 80s - loss: 0.2495 - acc: 0.8943 - val_loss: 0.3616 - val_acc: 0.8620\n",
      "Epoch 24/25\n",
      "25000/25000 [==============================] - 77s - loss: 0.2471 - acc: 0.8956 - val_loss: 0.3618 - val_acc: 0.8630\n",
      "Epoch 25/25\n",
      "25000/25000 [==============================] - 77s - loss: 0.2427 - acc: 0.8959 - val_loss: 0.3777 - val_acc: 0.8648\n"
     ]
    },
    {
     "data": {
      "text/plain": [
       "<keras.callbacks.History at 0x7f1d3423dc90>"
      ]
     },
     "execution_count": 8,
     "metadata": {},
     "output_type": "execute_result"
    }
   ],
   "source": [
    "final_model.fit_generator(reviews_generator(training_reviews),\n",
    "                          len(training_reviews),\n",
    "                          25,\n",
    "                          validation_data=reviews_generator(validating_reviews),\n",
    "                          nb_val_samples=len(validating_reviews))"
   ]
  },
  {
   "cell_type": "code",
   "execution_count": 9,
   "metadata": {
    "collapsed": false
   },
   "outputs": [],
   "source": [
    "final_model.save(h5_save_as)"
   ]
  }
 ],
 "metadata": {
  "anaconda-cloud": {},
  "kernelspec": {
   "display_name": "Python [tensorflow]",
   "language": "python",
   "name": "Python [tensorflow]"
  },
  "language_info": {
   "codemirror_mode": {
    "name": "ipython",
    "version": 2
   },
   "file_extension": ".py",
   "mimetype": "text/x-python",
   "name": "python",
   "nbconvert_exporter": "python",
   "pygments_lexer": "ipython2",
   "version": "2.7.12"
  },
  "nbpresent": {
   "slides": {
    "37e74d51-8e3e-45ef-a6e1-8a70764d8838": {
     "id": "37e74d51-8e3e-45ef-a6e1-8a70764d8838",
     "prev": "ba25d42f-178f-4bff-878f-237edd09c5f5",
     "regions": {
      "02d29844-ddc7-4301-9e0f-8cf2188ea9a7": {
       "attrs": {
        "height": 0.8,
        "width": 0.8,
        "x": 0.1,
        "y": 0.1
       },
       "content": {
        "cell": "cdb3fecf-044e-49af-a897-5a213e02698c",
        "part": "whole"
       },
       "id": "02d29844-ddc7-4301-9e0f-8cf2188ea9a7"
      }
     },
     "theme": null
    },
    "3961229a-9df7-4080-8adb-51386f2bc3bd": {
     "id": "3961229a-9df7-4080-8adb-51386f2bc3bd",
     "prev": "53407f4b-429c-4df1-9d5d-c26d568e5a4f",
     "regions": {
      "62e52504-c547-4256-809d-50995400803a": {
       "attrs": {
        "height": 0.8,
        "width": 0.8,
        "x": 0.1,
        "y": 0.1
       },
       "content": {
        "cell": "789db32e-3bb2-49b4-8ecc-e8f9f0d67a7b",
        "part": "whole"
       },
       "id": "62e52504-c547-4256-809d-50995400803a"
      }
     }
    },
    "53407f4b-429c-4df1-9d5d-c26d568e5a4f": {
     "id": "53407f4b-429c-4df1-9d5d-c26d568e5a4f",
     "prev": "af0c81d8-7d10-422d-a598-1cb99dee2e2c",
     "regions": {
      "3222cf87-ef46-4651-8cf2-80a78e9eca3b": {
       "attrs": {
        "height": 0.8,
        "width": 0.8,
        "x": 0.1,
        "y": 0.1
       },
       "content": {
        "cell": "bc104c55-9cb1-4d4c-a1bf-363277a69da8",
        "part": "whole"
       },
       "id": "3222cf87-ef46-4651-8cf2-80a78e9eca3b"
      }
     }
    },
    "64728ebe-592c-4d5b-baa4-dc089e2704fb": {
     "id": "64728ebe-592c-4d5b-baa4-dc089e2704fb",
     "prev": "99bda4b6-a416-4ffc-9fa9-77a771dd27ec",
     "regions": {
      "8f248628-70ae-48f5-9bd1-eb1cfdf6e2f6": {
       "attrs": {
        "height": 0.8,
        "width": 0.8,
        "x": 0.1,
        "y": 0.1
       },
       "content": {
        "cell": "07039836-86fc-4567-b302-ef9265af8307",
        "part": "whole"
       },
       "id": "8f248628-70ae-48f5-9bd1-eb1cfdf6e2f6"
      }
     }
    },
    "875c94af-0074-4c3e-8c45-e90c2ed94612": {
     "id": "875c94af-0074-4c3e-8c45-e90c2ed94612",
     "prev": "fb703c45-7b3e-47cb-a3cb-90072b339ac7",
     "regions": {
      "1dd617cb-85a2-4e96-8f9d-a180b24413b1": {
       "attrs": {
        "height": 0.8,
        "width": 0.8,
        "x": 0.1,
        "y": 0.1
       },
       "content": {
        "cell": "088e0cfc-b19d-480a-87e1-73539d08efcd",
        "part": "whole"
       },
       "id": "1dd617cb-85a2-4e96-8f9d-a180b24413b1"
      }
     }
    },
    "8ce9e396-9e36-48d8-8dad-652e0874f01c": {
     "id": "8ce9e396-9e36-48d8-8dad-652e0874f01c",
     "prev": "eeb7b456-444b-44b5-a9ce-47c172546952",
     "regions": {
      "851f0ea5-8a8c-4a2b-9105-1d56ba2ef2d7": {
       "attrs": {
        "height": 0.8,
        "width": 0.8,
        "x": 0.1,
        "y": 0.1
       },
       "content": {
        "cell": "082122aa-9d01-40d0-bac7-8476a8e2098f",
        "part": "whole"
       },
       "id": "851f0ea5-8a8c-4a2b-9105-1d56ba2ef2d7"
      }
     }
    },
    "905771fb-bf2d-42a7-aec2-5da33f44c325": {
     "id": "905771fb-bf2d-42a7-aec2-5da33f44c325",
     "prev": "8ce9e396-9e36-48d8-8dad-652e0874f01c",
     "regions": {
      "63519927-4a11-499b-b1a4-ac6dbd9e8bb0": {
       "attrs": {
        "height": 0.8,
        "width": 0.8,
        "x": 0.1,
        "y": 0.1
       },
       "content": {
        "cell": "3a8186e0-2504-4f64-9086-fe7ab528f2e3",
        "part": "whole"
       },
       "id": "63519927-4a11-499b-b1a4-ac6dbd9e8bb0"
      }
     }
    },
    "91908d9f-ed0e-4588-a13b-308c73734071": {
     "id": "91908d9f-ed0e-4588-a13b-308c73734071",
     "prev": "905771fb-bf2d-42a7-aec2-5da33f44c325",
     "regions": {
      "52d4555d-d45e-4115-98e4-21d8340c2257": {
       "attrs": {
        "height": 0.8,
        "width": 0.8,
        "x": 0.1,
        "y": 0.1
       },
       "content": {
        "cell": "60e00169-ee44-4c0c-9c55-7121d4c8332f",
        "part": "whole"
       },
       "id": "52d4555d-d45e-4115-98e4-21d8340c2257"
      }
     }
    },
    "99bda4b6-a416-4ffc-9fa9-77a771dd27ec": {
     "id": "99bda4b6-a416-4ffc-9fa9-77a771dd27ec",
     "prev": null,
     "regions": {
      "3e966305-d8cd-4860-8194-9e4460aebbfe": {
       "attrs": {
        "height": 0.8,
        "width": 0.8,
        "x": 0.0833250996187788,
        "y": 0.10830039485643014
       },
       "id": "3e966305-d8cd-4860-8194-9e4460aebbfe"
      },
      "81e1e2bd-e729-4e37-8913-bf2162a507bd": {
       "attrs": {
        "height": 0.8,
        "width": 0.8,
        "x": 0.03863636659710592,
        "y": 0.09407114653112136
       },
       "content": {
        "cell": "aa8439c7-cf04-49a6-84f3-2e8af08aca7f",
        "part": "whole"
       },
       "id": "81e1e2bd-e729-4e37-8913-bf2162a507bd"
      }
     }
    },
    "9aeefc9a-ead7-4fff-b68f-12374636e8c3": {
     "id": "9aeefc9a-ead7-4fff-b68f-12374636e8c3",
     "prev": "dc88abf0-a5b8-43d9-b06f-0f6172443154",
     "regions": {
      "11975b9d-2c03-4d62-b3f8-273c4a929ac5": {
       "attrs": {
        "height": 0.8,
        "width": 0.8,
        "x": 0.1,
        "y": 0.1
       },
       "content": {
        "cell": "5941a2a4-8f01-4077-919e-2f1d724e3cff",
        "part": "whole"
       },
       "id": "11975b9d-2c03-4d62-b3f8-273c4a929ac5"
      }
     }
    },
    "a4bcb0ed-33c6-45a4-a6b6-6fda4109f64f": {
     "id": "a4bcb0ed-33c6-45a4-a6b6-6fda4109f64f",
     "prev": "3961229a-9df7-4080-8adb-51386f2bc3bd",
     "regions": {
      "2cbebc16-1a38-4f7c-ad9a-ad220db57799": {
       "attrs": {
        "height": 0.8,
        "width": 0.8,
        "x": 0.1,
        "y": 0.1
       },
       "content": {
        "cell": "1fb917cc-0afc-424f-8b88-400a90ad6819",
        "part": "whole"
       },
       "id": "2cbebc16-1a38-4f7c-ad9a-ad220db57799"
      }
     }
    },
    "af0c81d8-7d10-422d-a598-1cb99dee2e2c": {
     "id": "af0c81d8-7d10-422d-a598-1cb99dee2e2c",
     "prev": "64728ebe-592c-4d5b-baa4-dc089e2704fb",
     "regions": {
      "934404bd-cff4-4c2d-a5c2-093f7660a160": {
       "attrs": {
        "height": 0.8,
        "width": 0.8,
        "x": 0.1,
        "y": 0.1
       },
       "content": {
        "cell": "35ac46e5-404e-4d92-b9bd-073c346223a0",
        "part": "whole"
       },
       "id": "934404bd-cff4-4c2d-a5c2-093f7660a160"
      }
     }
    },
    "ba25d42f-178f-4bff-878f-237edd09c5f5": {
     "id": "ba25d42f-178f-4bff-878f-237edd09c5f5",
     "prev": "875c94af-0074-4c3e-8c45-e90c2ed94612",
     "regions": {
      "39ec72be-7f2a-49bc-a862-d0ddaf0741fa": {
       "attrs": {
        "height": 0.8,
        "width": 0.8,
        "x": 0.1,
        "y": 0.1
       },
       "content": {
        "cell": "170beea1-a455-4375-b6fb-4c84778b2a4a",
        "part": "whole"
       },
       "id": "39ec72be-7f2a-49bc-a862-d0ddaf0741fa"
      }
     }
    },
    "bd7a242b-b4ee-4781-abd6-45dc7d6604fb": {
     "id": "bd7a242b-b4ee-4781-abd6-45dc7d6604fb",
     "prev": "91908d9f-ed0e-4588-a13b-308c73734071",
     "regions": {
      "dd046f4e-2e3d-444a-9d20-5929545381d9": {
       "attrs": {
        "height": 0.8,
        "width": 0.8,
        "x": 0.1,
        "y": 0.1
       },
       "content": {
        "cell": "a1b9ac65-1c0d-436c-8c4c-6aec5c59e4e9",
        "part": "whole"
       },
       "id": "dd046f4e-2e3d-444a-9d20-5929545381d9"
      }
     }
    },
    "c08bcf99-f04e-494d-bc58-e666d4ec92ba": {
     "id": "c08bcf99-f04e-494d-bc58-e666d4ec92ba",
     "prev": "d5f1666e-7e38-4606-8790-1cd4b70da45e",
     "regions": {
      "b561ca37-037f-454c-a483-740986aa86d9": {
       "attrs": {
        "height": 0.8,
        "width": 0.8,
        "x": 0.1,
        "y": 0.1
       },
       "content": {
        "cell": "3ba15d56-a8a4-4d7a-8c7f-9465f81ac6a4",
        "part": "whole"
       },
       "id": "b561ca37-037f-454c-a483-740986aa86d9"
      }
     }
    },
    "cff711ff-48f0-4015-b6af-b53eef839e16": {
     "id": "cff711ff-48f0-4015-b6af-b53eef839e16",
     "prev": "bd7a242b-b4ee-4781-abd6-45dc7d6604fb",
     "regions": {
      "e90e7eda-38c0-49b8-b941-042573be21a2": {
       "attrs": {
        "height": 0.8,
        "width": 0.8,
        "x": 0.1,
        "y": 0.1
       },
       "content": {
        "cell": "041f0afc-f01c-42ae-8937-a81d76ccc74b",
        "part": "whole"
       },
       "id": "e90e7eda-38c0-49b8-b941-042573be21a2"
      }
     }
    },
    "d393470b-f821-447b-b90a-8a873f5615c6": {
     "id": "d393470b-f821-447b-b90a-8a873f5615c6",
     "prev": "c08bcf99-f04e-494d-bc58-e666d4ec92ba",
     "regions": {
      "010c3eef-e5a8-4833-b61d-5d9497a35284": {
       "attrs": {
        "height": 0.8,
        "width": 0.8,
        "x": 0.1,
        "y": 0.1
       },
       "content": {
        "cell": "7bf80616-2457-4d9d-b3c9-dc7050365dfa",
        "part": "whole"
       },
       "id": "010c3eef-e5a8-4833-b61d-5d9497a35284"
      }
     }
    },
    "d5f1666e-7e38-4606-8790-1cd4b70da45e": {
     "id": "d5f1666e-7e38-4606-8790-1cd4b70da45e",
     "prev": "9aeefc9a-ead7-4fff-b68f-12374636e8c3",
     "regions": {
      "5683aaa1-f7d4-49a9-a332-b8e6b72e355c": {
       "attrs": {
        "height": 0.8,
        "width": 0.8,
        "x": 0.1,
        "y": 0.1
       },
       "content": {
        "cell": "70003047-3373-4d72-87f2-5708a31122c3",
        "part": "whole"
       },
       "id": "5683aaa1-f7d4-49a9-a332-b8e6b72e355c"
      }
     }
    },
    "dc88abf0-a5b8-43d9-b06f-0f6172443154": {
     "id": "dc88abf0-a5b8-43d9-b06f-0f6172443154",
     "prev": "37e74d51-8e3e-45ef-a6e1-8a70764d8838",
     "regions": {
      "e0e421c5-9d16-4e11-991f-3010779f786f": {
       "attrs": {
        "height": 0.8,
        "width": 0.8,
        "x": 0.1,
        "y": 0.1
       },
       "content": {
        "cell": "3817220e-8d9c-49d3-9d64-a48c03ea2430",
        "part": "whole"
       },
       "id": "e0e421c5-9d16-4e11-991f-3010779f786f"
      }
     }
    },
    "eeb7b456-444b-44b5-a9ce-47c172546952": {
     "id": "eeb7b456-444b-44b5-a9ce-47c172546952",
     "prev": "d393470b-f821-447b-b90a-8a873f5615c6",
     "regions": {
      "c89b5a8c-d9fc-4756-b536-0340b41e8d41": {
       "attrs": {
        "height": 0.8,
        "width": 0.8,
        "x": 0.1,
        "y": 0.1
       },
       "content": {
        "cell": "5a605fa8-fc27-44b6-b98f-51ab208c9930",
        "part": "whole"
       },
       "id": "c89b5a8c-d9fc-4756-b536-0340b41e8d41"
      }
     }
    },
    "fb703c45-7b3e-47cb-a3cb-90072b339ac7": {
     "id": "fb703c45-7b3e-47cb-a3cb-90072b339ac7",
     "prev": "a4bcb0ed-33c6-45a4-a6b6-6fda4109f64f",
     "regions": {
      "fe6d4f25-6a25-4a89-981d-509609414a42": {
       "attrs": {
        "height": 0.8,
        "width": 0.8,
        "x": 0.1,
        "y": 0.1
       },
       "content": {
        "cell": "43426664-5c77-45e8-8e50-bd112537d092",
        "part": "whole"
       },
       "id": "fe6d4f25-6a25-4a89-981d-509609414a42"
      }
     }
    }
   },
   "themes": {}
  }
 },
 "nbformat": 4,
 "nbformat_minor": 1
}
