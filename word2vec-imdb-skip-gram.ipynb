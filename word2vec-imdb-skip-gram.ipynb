{
 "cells": [
  {
   "cell_type": "markdown",
   "metadata": {},
   "source": [
    "# Doc2vec with how Yoon Kim did it\n",
    "\n",
    "Steps:\n",
    "* Tokenize punctuations as if they are their own words\n",
    "* Determine the longest review's word count, then pad other reviews so that they are all as long as the longest review"
   ]
  },
  {
   "cell_type": "code",
   "execution_count": 1,
   "metadata": {
    "collapsed": false
   },
   "outputs": [
    {
     "name": "stderr",
     "output_type": "stream",
     "text": [
      "Using gpu device 0: GeForce GTX 1060 6GB (CNMeM is disabled, cuDNN 5105)\n",
      "/home/anonoz/anaconda2/envs/tensorflow/lib/python2.7/site-packages/theano/sandbox/cuda/__init__.py:600: UserWarning: Your cuDNN version is more recent than the one Theano officially supports. If you see any problems, try updating Theano or downgrading cuDNN to version 5.\n",
      "  warnings.warn(warn)\n"
     ]
    }
   ],
   "source": [
    "import glob\n",
    "import re\n",
    "import sys\n",
    "import gensim\n",
    "import logging\n",
    "from bs4 import BeautifulSoup"
   ]
  },
  {
   "cell_type": "code",
   "execution_count": 2,
   "metadata": {
    "collapsed": true
   },
   "outputs": [],
   "source": [
    "# Easily changable settings\n",
    "text_corpus_files = ['aclImdb/train/pos/*.txt', 'aclImdb/train/neg/*.txt', 'aclImdb/train/unsup/*.txt']\n",
    "word_vector_dims = 100"
   ]
  },
  {
   "cell_type": "code",
   "execution_count": 3,
   "metadata": {
    "collapsed": true
   },
   "outputs": [],
   "source": [
    "def preprocess_text(text):\n",
    "    #1 Remove HTML (inspired by Kaggle)\n",
    "    text = BeautifulSoup(text, \"html.parser\").getText()\n",
    "\n",
    "    #2 Tokenize (stolen from Yoon Kim's CNN)\n",
    "    text = re.sub(r\"[^A-Za-z0-9(),!?\\'\\`]\", \" \", text)     \n",
    "    text = re.sub(r\"\\'s\", \" \\'s\", text) \n",
    "    text = re.sub(r\"\\'ve\", \" \\'ve\", text) \n",
    "    text = re.sub(r\"n\\'t\", \" n\\'t\", text) \n",
    "    text = re.sub(r\"\\'re\", \" \\'re\", text) \n",
    "    text = re.sub(r\"\\'d\", \" \\'d\", text) \n",
    "    text = re.sub(r\"\\'ll\", \" \\'ll\", text) \n",
    "    text = re.sub(r\",\", \" , \", text) \n",
    "    text = re.sub(r\"!\", \" ! \", text) \n",
    "    text = re.sub(r\"\\(\", \" \\( \", text) \n",
    "    text = re.sub(r\"\\)\", \" \\) \", text) \n",
    "    text = re.sub(r\"\\?\", \" \\? \", text) \n",
    "    text = re.sub(r\"\\s{2,}\", \" \", text)\n",
    "    \n",
    "    #3 Lower cap\n",
    "    return text.lower()"
   ]
  },
  {
   "cell_type": "code",
   "execution_count": 4,
   "metadata": {
    "collapsed": true
   },
   "outputs": [],
   "source": [
    "def pad_text_list(text_list, pad_token=\"<PAD/>\", pad_width=0):\n",
    "    return text_list + ([pad_token] * (pad_width - len(text_list)))\n",
    "\n",
    "def text_to_padded_list(text, pad_token=\"<PAD/>\", pad_width=0):\n",
    "    text_list = preprocess_text(text).split()\n",
    "    return pad_text_list(text_list, pad_token, pad_width)"
   ]
  },
  {
   "cell_type": "code",
   "execution_count": 5,
   "metadata": {
    "collapsed": false
   },
   "outputs": [
    {
     "name": "stdout",
     "output_type": "stream",
     "text": [
      "Loading text file 75000\n",
      "Longest text list: 2773\n",
      "Padding text list 75000"
     ]
    }
   ],
   "source": [
    "processed_texts = []\n",
    "file_count = 0\n",
    "for folder_files in text_corpus_files:\n",
    "    for text_file in glob.glob(folder_files):\n",
    "        with(open(text_file, 'r')) as f:\n",
    "            processed_texts.append(text_to_padded_list(f.read()))\n",
    "            file_count += 1\n",
    "            if file_count % 100 == 0:\n",
    "                sys.stdout.write('\\rLoading text file {0:d}'.format(file_count))\n",
    "                sys.stdout.flush()\n",
    "                \n",
    "max_processed_text_len = len(max(processed_texts, key=len))\n",
    "print('\\nLongest text list: {0:d}'.format(max_processed_text_len))\n",
    "for i, text_list in enumerate(processed_texts):\n",
    "    processed_texts[i] = pad_text_list(text_list, pad_width=max_processed_text_len)\n",
    "    if (i + 1) % 1000 == 0:\n",
    "        sys.stdout.write('\\rPadding text list {0:d}'.format(i+1))\n",
    "        sys.stdout.flush()"
   ]
  },
  {
   "cell_type": "code",
   "execution_count": 6,
   "metadata": {
    "collapsed": false
   },
   "outputs": [
    {
     "name": "stderr",
     "output_type": "stream",
     "text": [
      "2016-11-14 23:30:23,634 : INFO : collecting all words and their counts\n",
      "2016-11-14 23:30:23,635 : INFO : PROGRESS: at sentence #0, processed 0 words, keeping 0 word types\n",
      "2016-11-14 23:30:25,473 : INFO : PROGRESS: at sentence #10000, processed 27730000 words, keeping 54663 word types\n",
      "2016-11-14 23:30:27,301 : INFO : PROGRESS: at sentence #20000, processed 55460000 words, keeping 74760 word types\n",
      "2016-11-14 23:30:29,146 : INFO : PROGRESS: at sentence #30000, processed 83190000 words, keeping 90929 word types\n",
      "2016-11-14 23:30:31,010 : INFO : PROGRESS: at sentence #40000, processed 110920000 words, keeping 105430 word types\n",
      "2016-11-14 23:30:32,868 : INFO : PROGRESS: at sentence #50000, processed 138650000 words, keeping 117189 word types\n",
      "2016-11-14 23:30:34,735 : INFO : PROGRESS: at sentence #60000, processed 166380000 words, keeping 127458 word types\n",
      "2016-11-14 23:30:36,603 : INFO : PROGRESS: at sentence #70000, processed 194110000 words, keeping 137015 word types\n",
      "2016-11-14 23:30:37,575 : INFO : collected 141295 word types from a corpus of 207975000 raw words and 75000 sentences\n",
      "2016-11-14 23:30:44,046 : INFO : min_count=1 retains 141295 unique words (drops 0)\n",
      "2016-11-14 23:30:44,046 : INFO : min_count leaves 207975000 word corpus (100% of original 207975000)\n",
      "2016-11-14 23:30:44,331 : INFO : deleting the raw counts dictionary of 141295 items\n",
      "2016-11-14 23:30:44,335 : INFO : sample=0.001 downsamples 3 most-common words\n",
      "2016-11-14 23:30:44,336 : INFO : downsampling leaves estimated 24972290 word corpus (12.0% of prior 207975000)\n",
      "2016-11-14 23:30:44,337 : INFO : estimated required memory for 141295 words and 100 dimensions: 183683500 bytes\n",
      "2016-11-14 23:30:44,725 : INFO : resetting layer weights\n",
      "2016-11-14 23:30:46,369 : INFO : training model with 4 workers on 141295 vocabulary and 100 features, using sg=1 hs=0 sample=0.001 negative=5\n",
      "2016-11-14 23:30:46,370 : INFO : expecting 75000 sentences, matching count from corpus used for vocabulary survey\n",
      "2016-11-14 23:30:47,372 : INFO : PROGRESS: at 0.36% examples, 450606 words/s, in_qsize 8, out_qsize 0\n",
      "2016-11-14 23:30:48,372 : INFO : PROGRESS: at 0.73% examples, 464062 words/s, in_qsize 8, out_qsize 0\n",
      "2016-11-14 23:30:49,374 : INFO : PROGRESS: at 1.09% examples, 461970 words/s, in_qsize 8, out_qsize 0\n",
      "2016-11-14 23:30:50,375 : INFO : PROGRESS: at 1.51% examples, 477077 words/s, in_qsize 8, out_qsize 0\n",
      "2016-11-14 23:30:51,376 : INFO : PROGRESS: at 1.93% examples, 486104 words/s, in_qsize 7, out_qsize 1\n",
      "2016-11-14 23:30:52,379 : INFO : PROGRESS: at 2.35% examples, 491627 words/s, in_qsize 8, out_qsize 0\n",
      "2016-11-14 23:30:53,384 : INFO : PROGRESS: at 2.76% examples, 495767 words/s, in_qsize 6, out_qsize 2\n",
      "2016-11-14 23:30:54,384 : INFO : PROGRESS: at 3.17% examples, 498547 words/s, in_qsize 8, out_qsize 0\n",
      "2016-11-14 23:30:55,385 : INFO : PROGRESS: at 3.53% examples, 491227 words/s, in_qsize 8, out_qsize 0\n",
      "2016-11-14 23:30:56,391 : INFO : PROGRESS: at 3.88% examples, 486490 words/s, in_qsize 7, out_qsize 3\n",
      "2016-11-14 23:30:57,392 : INFO : PROGRESS: at 4.31% examples, 489739 words/s, in_qsize 8, out_qsize 0\n",
      "2016-11-14 23:30:58,395 : INFO : PROGRESS: at 4.75% examples, 493207 words/s, in_qsize 8, out_qsize 0\n",
      "2016-11-14 23:30:59,395 : INFO : PROGRESS: at 5.17% examples, 495416 words/s, in_qsize 8, out_qsize 0\n",
      "2016-11-14 23:31:00,396 : INFO : PROGRESS: at 5.60% examples, 497605 words/s, in_qsize 8, out_qsize 0\n",
      "2016-11-14 23:31:01,399 : INFO : PROGRESS: at 6.02% examples, 499073 words/s, in_qsize 8, out_qsize 1\n",
      "2016-11-14 23:31:02,401 : INFO : PROGRESS: at 6.44% examples, 501032 words/s, in_qsize 7, out_qsize 1\n",
      "2016-11-14 23:31:03,401 : INFO : PROGRESS: at 6.86% examples, 502307 words/s, in_qsize 7, out_qsize 0\n",
      "2016-11-14 23:31:04,403 : INFO : PROGRESS: at 7.27% examples, 503757 words/s, in_qsize 8, out_qsize 0\n",
      "2016-11-14 23:31:05,411 : INFO : PROGRESS: at 7.69% examples, 504650 words/s, in_qsize 8, out_qsize 1\n",
      "2016-11-14 23:31:06,413 : INFO : PROGRESS: at 8.11% examples, 505268 words/s, in_qsize 8, out_qsize 0\n",
      "2016-11-14 23:31:07,414 : INFO : PROGRESS: at 8.53% examples, 506489 words/s, in_qsize 7, out_qsize 0\n",
      "2016-11-14 23:31:08,416 : INFO : PROGRESS: at 8.96% examples, 507561 words/s, in_qsize 7, out_qsize 1\n",
      "2016-11-14 23:31:09,416 : INFO : PROGRESS: at 9.37% examples, 507854 words/s, in_qsize 7, out_qsize 1\n",
      "2016-11-14 23:31:10,416 : INFO : PROGRESS: at 9.78% examples, 508163 words/s, in_qsize 7, out_qsize 0\n",
      "2016-11-14 23:31:11,418 : INFO : PROGRESS: at 10.20% examples, 509093 words/s, in_qsize 7, out_qsize 0\n",
      "2016-11-14 23:31:12,420 : INFO : PROGRESS: at 10.63% examples, 510312 words/s, in_qsize 8, out_qsize 0\n",
      "2016-11-14 23:31:13,421 : INFO : PROGRESS: at 11.05% examples, 510967 words/s, in_qsize 8, out_qsize 0\n",
      "2016-11-14 23:31:14,421 : INFO : PROGRESS: at 11.47% examples, 511289 words/s, in_qsize 8, out_qsize 0\n",
      "2016-11-14 23:31:15,424 : INFO : PROGRESS: at 11.89% examples, 511267 words/s, in_qsize 7, out_qsize 0\n",
      "2016-11-14 23:31:16,425 : INFO : PROGRESS: at 12.31% examples, 511784 words/s, in_qsize 8, out_qsize 0\n",
      "2016-11-14 23:31:17,425 : INFO : PROGRESS: at 12.72% examples, 511820 words/s, in_qsize 8, out_qsize 0\n",
      "2016-11-14 23:31:18,429 : INFO : PROGRESS: at 13.14% examples, 512092 words/s, in_qsize 8, out_qsize 0\n",
      "2016-11-14 23:31:19,431 : INFO : PROGRESS: at 13.57% examples, 512414 words/s, in_qsize 8, out_qsize 1\n",
      "2016-11-14 23:31:20,432 : INFO : PROGRESS: at 13.99% examples, 513114 words/s, in_qsize 7, out_qsize 0\n",
      "2016-11-14 23:31:21,432 : INFO : PROGRESS: at 14.40% examples, 513227 words/s, in_qsize 7, out_qsize 0\n",
      "2016-11-14 23:31:22,434 : INFO : PROGRESS: at 14.82% examples, 513241 words/s, in_qsize 8, out_qsize 0\n",
      "2016-11-14 23:31:23,436 : INFO : PROGRESS: at 15.26% examples, 513764 words/s, in_qsize 8, out_qsize 0\n",
      "2016-11-14 23:31:24,439 : INFO : PROGRESS: at 15.68% examples, 514260 words/s, in_qsize 8, out_qsize 0\n",
      "2016-11-14 23:31:25,439 : INFO : PROGRESS: at 16.10% examples, 514596 words/s, in_qsize 8, out_qsize 0\n",
      "2016-11-14 23:31:26,440 : INFO : PROGRESS: at 16.53% examples, 515157 words/s, in_qsize 8, out_qsize 0\n",
      "2016-11-14 23:31:27,441 : INFO : PROGRESS: at 16.95% examples, 515533 words/s, in_qsize 7, out_qsize 0\n",
      "2016-11-14 23:31:28,444 : INFO : PROGRESS: at 17.36% examples, 515467 words/s, in_qsize 7, out_qsize 0\n",
      "2016-11-14 23:31:29,444 : INFO : PROGRESS: at 17.77% examples, 515033 words/s, in_qsize 6, out_qsize 0\n",
      "2016-11-14 23:31:30,445 : INFO : PROGRESS: at 18.19% examples, 515200 words/s, in_qsize 8, out_qsize 1\n",
      "2016-11-14 23:31:31,448 : INFO : PROGRESS: at 18.60% examples, 515135 words/s, in_qsize 7, out_qsize 0\n",
      "2016-11-14 23:31:32,450 : INFO : PROGRESS: at 19.01% examples, 515117 words/s, in_qsize 8, out_qsize 0\n",
      "2016-11-14 23:31:33,450 : INFO : PROGRESS: at 19.43% examples, 515230 words/s, in_qsize 7, out_qsize 0\n",
      "2016-11-14 23:31:34,451 : INFO : PROGRESS: at 19.85% examples, 515408 words/s, in_qsize 8, out_qsize 0\n",
      "2016-11-14 23:31:35,453 : INFO : PROGRESS: at 20.25% examples, 515401 words/s, in_qsize 7, out_qsize 0\n",
      "2016-11-14 23:31:36,454 : INFO : PROGRESS: at 20.66% examples, 515414 words/s, in_qsize 8, out_qsize 0\n",
      "2016-11-14 23:31:37,456 : INFO : PROGRESS: at 21.06% examples, 515279 words/s, in_qsize 7, out_qsize 0\n",
      "2016-11-14 23:31:38,458 : INFO : PROGRESS: at 21.47% examples, 515132 words/s, in_qsize 8, out_qsize 0\n",
      "2016-11-14 23:31:39,463 : INFO : PROGRESS: at 21.89% examples, 515173 words/s, in_qsize 8, out_qsize 0\n",
      "2016-11-14 23:31:40,463 : INFO : PROGRESS: at 22.29% examples, 515039 words/s, in_qsize 8, out_qsize 0\n",
      "2016-11-14 23:31:41,465 : INFO : PROGRESS: at 22.71% examples, 515220 words/s, in_qsize 7, out_qsize 0\n",
      "2016-11-14 23:31:42,468 : INFO : PROGRESS: at 23.13% examples, 515366 words/s, in_qsize 8, out_qsize 2\n",
      "2016-11-14 23:31:43,468 : INFO : PROGRESS: at 23.55% examples, 515434 words/s, in_qsize 7, out_qsize 0\n",
      "2016-11-14 23:31:44,470 : INFO : PROGRESS: at 23.96% examples, 515433 words/s, in_qsize 8, out_qsize 0\n",
      "2016-11-14 23:31:45,472 : INFO : PROGRESS: at 24.38% examples, 515376 words/s, in_qsize 8, out_qsize 0\n",
      "2016-11-14 23:31:46,473 : INFO : PROGRESS: at 24.80% examples, 515257 words/s, in_qsize 7, out_qsize 1\n",
      "2016-11-14 23:31:47,473 : INFO : PROGRESS: at 25.22% examples, 515191 words/s, in_qsize 8, out_qsize 0\n",
      "2016-11-14 23:31:48,474 : INFO : PROGRESS: at 25.62% examples, 514994 words/s, in_qsize 8, out_qsize 0\n",
      "2016-11-14 23:31:49,475 : INFO : PROGRESS: at 26.04% examples, 514953 words/s, in_qsize 7, out_qsize 0\n",
      "2016-11-14 23:31:50,478 : INFO : PROGRESS: at 26.44% examples, 514883 words/s, in_qsize 8, out_qsize 0\n",
      "2016-11-14 23:31:51,483 : INFO : PROGRESS: at 26.86% examples, 514820 words/s, in_qsize 7, out_qsize 0\n",
      "2016-11-14 23:31:52,484 : INFO : PROGRESS: at 27.26% examples, 514942 words/s, in_qsize 7, out_qsize 0\n",
      "2016-11-14 23:31:53,487 : INFO : PROGRESS: at 27.68% examples, 514960 words/s, in_qsize 8, out_qsize 0\n",
      "2016-11-14 23:31:54,488 : INFO : PROGRESS: at 28.10% examples, 515067 words/s, in_qsize 7, out_qsize 0\n",
      "2016-11-14 23:31:55,489 : INFO : PROGRESS: at 28.52% examples, 515238 words/s, in_qsize 7, out_qsize 0\n",
      "2016-11-14 23:31:56,491 : INFO : PROGRESS: at 28.93% examples, 515220 words/s, in_qsize 7, out_qsize 0\n",
      "2016-11-14 23:31:57,492 : INFO : PROGRESS: at 29.33% examples, 514922 words/s, in_qsize 8, out_qsize 0\n",
      "2016-11-14 23:31:58,498 : INFO : PROGRESS: at 29.74% examples, 514862 words/s, in_qsize 8, out_qsize 2\n",
      "2016-11-14 23:31:59,497 : INFO : PROGRESS: at 30.15% examples, 514900 words/s, in_qsize 8, out_qsize 0\n",
      "2016-11-14 23:32:00,498 : INFO : PROGRESS: at 30.56% examples, 514955 words/s, in_qsize 8, out_qsize 0\n",
      "2016-11-14 23:32:01,499 : INFO : PROGRESS: at 30.96% examples, 514875 words/s, in_qsize 7, out_qsize 0\n",
      "2016-11-14 23:32:02,500 : INFO : PROGRESS: at 31.37% examples, 514752 words/s, in_qsize 8, out_qsize 0\n",
      "2016-11-14 23:32:03,501 : INFO : PROGRESS: at 31.78% examples, 514630 words/s, in_qsize 8, out_qsize 0\n",
      "2016-11-14 23:32:04,501 : INFO : PROGRESS: at 32.19% examples, 514512 words/s, in_qsize 8, out_qsize 0\n",
      "2016-11-14 23:32:05,502 : INFO : PROGRESS: at 32.59% examples, 514322 words/s, in_qsize 8, out_qsize 0\n",
      "2016-11-14 23:32:06,503 : INFO : PROGRESS: at 33.00% examples, 514202 words/s, in_qsize 8, out_qsize 0\n",
      "2016-11-14 23:32:07,505 : INFO : PROGRESS: at 33.42% examples, 514322 words/s, in_qsize 7, out_qsize 0\n",
      "2016-11-14 23:32:08,506 : INFO : PROGRESS: at 33.83% examples, 514390 words/s, in_qsize 8, out_qsize 0\n",
      "2016-11-14 23:32:09,507 : INFO : PROGRESS: at 34.24% examples, 514348 words/s, in_qsize 8, out_qsize 0\n",
      "2016-11-14 23:32:10,513 : INFO : PROGRESS: at 34.66% examples, 514289 words/s, in_qsize 7, out_qsize 0\n",
      "2016-11-14 23:32:11,516 : INFO : PROGRESS: at 35.08% examples, 514282 words/s, in_qsize 8, out_qsize 0\n",
      "2016-11-14 23:32:12,519 : INFO : PROGRESS: at 35.49% examples, 514229 words/s, in_qsize 8, out_qsize 1\n",
      "2016-11-14 23:32:13,517 : INFO : PROGRESS: at 35.90% examples, 514166 words/s, in_qsize 7, out_qsize 0\n",
      "2016-11-14 23:32:14,519 : INFO : PROGRESS: at 36.31% examples, 514212 words/s, in_qsize 7, out_qsize 0\n",
      "2016-11-14 23:32:15,521 : INFO : PROGRESS: at 36.71% examples, 514258 words/s, in_qsize 7, out_qsize 0\n",
      "2016-11-14 23:32:16,524 : INFO : PROGRESS: at 37.12% examples, 514227 words/s, in_qsize 8, out_qsize 0\n",
      "2016-11-14 23:32:17,525 : INFO : PROGRESS: at 37.55% examples, 514295 words/s, in_qsize 8, out_qsize 0\n",
      "2016-11-14 23:32:18,526 : INFO : PROGRESS: at 37.96% examples, 514238 words/s, in_qsize 8, out_qsize 0\n",
      "2016-11-14 23:32:19,526 : INFO : PROGRESS: at 38.36% examples, 514182 words/s, in_qsize 8, out_qsize 0\n",
      "2016-11-14 23:32:20,529 : INFO : PROGRESS: at 38.77% examples, 514175 words/s, in_qsize 7, out_qsize 1\n",
      "2016-11-14 23:32:21,528 : INFO : PROGRESS: at 39.19% examples, 514231 words/s, in_qsize 8, out_qsize 0\n",
      "2016-11-14 23:32:22,530 : INFO : PROGRESS: at 39.60% examples, 514198 words/s, in_qsize 8, out_qsize 2\n",
      "2016-11-14 23:32:23,532 : INFO : PROGRESS: at 40.02% examples, 514332 words/s, in_qsize 7, out_qsize 0\n",
      "2016-11-14 23:32:24,535 : INFO : PROGRESS: at 40.43% examples, 514245 words/s, in_qsize 8, out_qsize 0\n",
      "2016-11-14 23:32:25,536 : INFO : PROGRESS: at 40.83% examples, 514304 words/s, in_qsize 8, out_qsize 0\n",
      "2016-11-14 23:32:26,537 : INFO : PROGRESS: at 41.24% examples, 514234 words/s, in_qsize 7, out_qsize 0\n",
      "2016-11-14 23:32:27,540 : INFO : PROGRESS: at 41.65% examples, 514309 words/s, in_qsize 8, out_qsize 0\n",
      "2016-11-14 23:32:28,546 : INFO : PROGRESS: at 42.06% examples, 514298 words/s, in_qsize 6, out_qsize 2\n",
      "2016-11-14 23:32:29,547 : INFO : PROGRESS: at 42.41% examples, 513495 words/s, in_qsize 8, out_qsize 0\n",
      "2016-11-14 23:32:30,549 : INFO : PROGRESS: at 42.84% examples, 513779 words/s, in_qsize 7, out_qsize 0\n",
      "2016-11-14 23:32:31,551 : INFO : PROGRESS: at 43.28% examples, 514022 words/s, in_qsize 7, out_qsize 0\n",
      "2016-11-14 23:32:32,551 : INFO : PROGRESS: at 43.70% examples, 514111 words/s, in_qsize 7, out_qsize 0\n",
      "2016-11-14 23:32:33,555 : INFO : PROGRESS: at 44.13% examples, 514284 words/s, in_qsize 8, out_qsize 0\n",
      "2016-11-14 23:32:34,555 : INFO : PROGRESS: at 44.55% examples, 514309 words/s, in_qsize 8, out_qsize 0\n",
      "2016-11-14 23:32:35,557 : INFO : PROGRESS: at 44.98% examples, 514269 words/s, in_qsize 8, out_qsize 0\n",
      "2016-11-14 23:32:36,558 : INFO : PROGRESS: at 45.40% examples, 514332 words/s, in_qsize 7, out_qsize 0\n",
      "2016-11-14 23:32:37,559 : INFO : PROGRESS: at 45.82% examples, 514436 words/s, in_qsize 8, out_qsize 0\n",
      "2016-11-14 23:32:38,559 : INFO : PROGRESS: at 46.24% examples, 514508 words/s, in_qsize 8, out_qsize 0\n",
      "2016-11-14 23:32:39,561 : INFO : PROGRESS: at 46.65% examples, 514508 words/s, in_qsize 8, out_qsize 0\n",
      "2016-11-14 23:32:40,563 : INFO : PROGRESS: at 47.05% examples, 514491 words/s, in_qsize 7, out_qsize 0\n",
      "2016-11-14 23:32:41,564 : INFO : PROGRESS: at 47.47% examples, 514557 words/s, in_qsize 7, out_qsize 0\n",
      "2016-11-14 23:32:42,564 : INFO : PROGRESS: at 47.88% examples, 514501 words/s, in_qsize 8, out_qsize 0\n",
      "2016-11-14 23:32:43,565 : INFO : PROGRESS: at 48.30% examples, 514666 words/s, in_qsize 8, out_qsize 0\n",
      "2016-11-14 23:32:44,568 : INFO : PROGRESS: at 48.73% examples, 514772 words/s, in_qsize 7, out_qsize 1\n",
      "2016-11-14 23:32:45,570 : INFO : PROGRESS: at 49.16% examples, 515026 words/s, in_qsize 8, out_qsize 0\n",
      "2016-11-14 23:32:46,571 : INFO : PROGRESS: at 49.59% examples, 515100 words/s, in_qsize 8, out_qsize 0\n",
      "2016-11-14 23:32:47,572 : INFO : PROGRESS: at 50.01% examples, 515211 words/s, in_qsize 8, out_qsize 0\n",
      "2016-11-14 23:32:48,574 : INFO : PROGRESS: at 50.42% examples, 515296 words/s, in_qsize 8, out_qsize 0\n",
      "2016-11-14 23:32:49,574 : INFO : PROGRESS: at 50.85% examples, 515479 words/s, in_qsize 8, out_qsize 0\n",
      "2016-11-14 23:32:50,577 : INFO : PROGRESS: at 51.26% examples, 515532 words/s, in_qsize 8, out_qsize 0\n",
      "2016-11-14 23:32:51,579 : INFO : PROGRESS: at 51.70% examples, 515677 words/s, in_qsize 8, out_qsize 2\n",
      "2016-11-14 23:32:52,579 : INFO : PROGRESS: at 52.13% examples, 515816 words/s, in_qsize 8, out_qsize 0\n",
      "2016-11-14 23:32:53,580 : INFO : PROGRESS: at 52.56% examples, 515954 words/s, in_qsize 8, out_qsize 0\n",
      "2016-11-14 23:32:54,581 : INFO : PROGRESS: at 52.99% examples, 516086 words/s, in_qsize 8, out_qsize 0\n",
      "2016-11-14 23:32:55,581 : INFO : PROGRESS: at 53.41% examples, 516102 words/s, in_qsize 7, out_qsize 0\n",
      "2016-11-14 23:32:56,581 : INFO : PROGRESS: at 53.83% examples, 516250 words/s, in_qsize 8, out_qsize 0\n",
      "2016-11-14 23:32:57,583 : INFO : PROGRESS: at 54.26% examples, 516363 words/s, in_qsize 8, out_qsize 0\n",
      "2016-11-14 23:32:58,584 : INFO : PROGRESS: at 54.68% examples, 516433 words/s, in_qsize 8, out_qsize 0\n",
      "2016-11-14 23:32:59,585 : INFO : PROGRESS: at 55.12% examples, 516591 words/s, in_qsize 7, out_qsize 0\n",
      "2016-11-14 23:33:00,587 : INFO : PROGRESS: at 55.55% examples, 516681 words/s, in_qsize 8, out_qsize 0\n",
      "2016-11-14 23:33:01,587 : INFO : PROGRESS: at 55.97% examples, 516758 words/s, in_qsize 8, out_qsize 0\n",
      "2016-11-14 23:33:02,591 : INFO : PROGRESS: at 56.40% examples, 516912 words/s, in_qsize 8, out_qsize 0\n",
      "2016-11-14 23:33:03,593 : INFO : PROGRESS: at 56.83% examples, 517141 words/s, in_qsize 8, out_qsize 0\n",
      "2016-11-14 23:33:04,594 : INFO : PROGRESS: at 57.26% examples, 517269 words/s, in_qsize 8, out_qsize 0\n",
      "2016-11-14 23:33:05,596 : INFO : PROGRESS: at 57.68% examples, 517287 words/s, in_qsize 8, out_qsize 0\n",
      "2016-11-14 23:33:06,596 : INFO : PROGRESS: at 58.11% examples, 517374 words/s, in_qsize 7, out_qsize 0\n",
      "2016-11-14 23:33:07,599 : INFO : PROGRESS: at 58.52% examples, 517422 words/s, in_qsize 8, out_qsize 2\n",
      "2016-11-14 23:33:08,599 : INFO : PROGRESS: at 58.95% examples, 517530 words/s, in_qsize 7, out_qsize 0\n",
      "2016-11-14 23:33:09,601 : INFO : PROGRESS: at 59.37% examples, 517540 words/s, in_qsize 7, out_qsize 0\n",
      "2016-11-14 23:33:10,603 : INFO : PROGRESS: at 59.80% examples, 517678 words/s, in_qsize 8, out_qsize 0\n",
      "2016-11-14 23:33:11,606 : INFO : PROGRESS: at 60.23% examples, 517801 words/s, in_qsize 8, out_qsize 0\n",
      "2016-11-14 23:33:12,608 : INFO : PROGRESS: at 60.64% examples, 517895 words/s, in_qsize 8, out_qsize 0\n",
      "2016-11-14 23:33:13,609 : INFO : PROGRESS: at 61.07% examples, 518036 words/s, in_qsize 7, out_qsize 0\n",
      "2016-11-14 23:33:14,609 : INFO : PROGRESS: at 61.47% examples, 517915 words/s, in_qsize 8, out_qsize 0\n",
      "2016-11-14 23:33:15,611 : INFO : PROGRESS: at 61.89% examples, 517961 words/s, in_qsize 6, out_qsize 1\n",
      "2016-11-14 23:33:16,612 : INFO : PROGRESS: at 62.31% examples, 517997 words/s, in_qsize 8, out_qsize 0\n",
      "2016-11-14 23:33:17,613 : INFO : PROGRESS: at 62.73% examples, 518063 words/s, in_qsize 8, out_qsize 0\n",
      "2016-11-14 23:33:18,614 : INFO : PROGRESS: at 63.15% examples, 518125 words/s, in_qsize 7, out_qsize 0\n",
      "2016-11-14 23:33:19,614 : INFO : PROGRESS: at 63.58% examples, 518179 words/s, in_qsize 7, out_qsize 0\n",
      "2016-11-14 23:33:20,615 : INFO : PROGRESS: at 64.00% examples, 518283 words/s, in_qsize 8, out_qsize 0\n",
      "2016-11-14 23:33:21,621 : INFO : PROGRESS: at 64.43% examples, 518315 words/s, in_qsize 7, out_qsize 0\n",
      "2016-11-14 23:33:22,622 : INFO : PROGRESS: at 64.85% examples, 518240 words/s, in_qsize 8, out_qsize 0\n",
      "2016-11-14 23:33:23,623 : INFO : PROGRESS: at 65.26% examples, 518122 words/s, in_qsize 8, out_qsize 0\n",
      "2016-11-14 23:33:24,623 : INFO : PROGRESS: at 65.68% examples, 518139 words/s, in_qsize 8, out_qsize 0\n",
      "2016-11-14 23:33:25,625 : INFO : PROGRESS: at 66.11% examples, 518244 words/s, in_qsize 8, out_qsize 0\n",
      "2016-11-14 23:33:26,629 : INFO : PROGRESS: at 66.49% examples, 518006 words/s, in_qsize 8, out_qsize 0\n",
      "2016-11-14 23:33:27,631 : INFO : PROGRESS: at 66.91% examples, 518017 words/s, in_qsize 7, out_qsize 0\n",
      "2016-11-14 23:33:28,632 : INFO : PROGRESS: at 67.32% examples, 518039 words/s, in_qsize 8, out_qsize 0\n",
      "2016-11-14 23:33:29,633 : INFO : PROGRESS: at 67.74% examples, 518101 words/s, in_qsize 8, out_qsize 0\n",
      "2016-11-14 23:33:30,635 : INFO : PROGRESS: at 68.16% examples, 518163 words/s, in_qsize 8, out_qsize 0\n",
      "2016-11-14 23:33:31,638 : INFO : PROGRESS: at 68.59% examples, 518249 words/s, in_qsize 8, out_qsize 0\n",
      "2016-11-14 23:33:32,638 : INFO : PROGRESS: at 69.01% examples, 518250 words/s, in_qsize 8, out_qsize 0\n",
      "2016-11-14 23:33:33,639 : INFO : PROGRESS: at 69.42% examples, 518227 words/s, in_qsize 8, out_qsize 0\n",
      "2016-11-14 23:33:34,640 : INFO : PROGRESS: at 69.84% examples, 518255 words/s, in_qsize 8, out_qsize 0\n",
      "2016-11-14 23:33:35,644 : INFO : PROGRESS: at 70.25% examples, 518280 words/s, in_qsize 8, out_qsize 0\n",
      "2016-11-14 23:33:36,644 : INFO : PROGRESS: at 70.67% examples, 518343 words/s, in_qsize 8, out_qsize 0\n",
      "2016-11-14 23:33:37,648 : INFO : PROGRESS: at 71.09% examples, 518395 words/s, in_qsize 8, out_qsize 0\n",
      "2016-11-14 23:33:38,649 : INFO : PROGRESS: at 71.52% examples, 518453 words/s, in_qsize 7, out_qsize 0\n",
      "2016-11-14 23:33:39,649 : INFO : PROGRESS: at 71.95% examples, 518485 words/s, in_qsize 7, out_qsize 0\n",
      "2016-11-14 23:33:40,652 : INFO : PROGRESS: at 72.37% examples, 518544 words/s, in_qsize 8, out_qsize 1\n",
      "2016-11-14 23:33:41,651 : INFO : PROGRESS: at 72.79% examples, 518570 words/s, in_qsize 8, out_qsize 0\n",
      "2016-11-14 23:33:42,653 : INFO : PROGRESS: at 73.22% examples, 518667 words/s, in_qsize 7, out_qsize 0\n",
      "2016-11-14 23:33:43,653 : INFO : PROGRESS: at 73.64% examples, 518692 words/s, in_qsize 7, out_qsize 0\n",
      "2016-11-14 23:33:44,654 : INFO : PROGRESS: at 74.06% examples, 518720 words/s, in_qsize 8, out_qsize 0\n",
      "2016-11-14 23:33:45,654 : INFO : PROGRESS: at 74.48% examples, 518719 words/s, in_qsize 8, out_qsize 0\n",
      "2016-11-14 23:33:46,655 : INFO : PROGRESS: at 74.90% examples, 518742 words/s, in_qsize 8, out_qsize 0\n",
      "2016-11-14 23:33:47,657 : INFO : PROGRESS: at 75.33% examples, 518812 words/s, in_qsize 8, out_qsize 0\n",
      "2016-11-14 23:33:48,660 : INFO : PROGRESS: at 75.75% examples, 518852 words/s, in_qsize 7, out_qsize 1\n",
      "2016-11-14 23:33:49,662 : INFO : PROGRESS: at 76.17% examples, 518887 words/s, in_qsize 7, out_qsize 1\n",
      "2016-11-14 23:33:50,664 : INFO : PROGRESS: at 76.58% examples, 518838 words/s, in_qsize 8, out_qsize 0\n",
      "2016-11-14 23:33:51,668 : INFO : PROGRESS: at 76.99% examples, 518835 words/s, in_qsize 7, out_qsize 1\n",
      "2016-11-14 23:33:52,668 : INFO : PROGRESS: at 77.41% examples, 518811 words/s, in_qsize 8, out_qsize 0\n",
      "2016-11-14 23:33:53,671 : INFO : PROGRESS: at 77.83% examples, 518861 words/s, in_qsize 8, out_qsize 0\n",
      "2016-11-14 23:33:54,674 : INFO : PROGRESS: at 78.25% examples, 518892 words/s, in_qsize 5, out_qsize 2\n",
      "2016-11-14 23:33:55,675 : INFO : PROGRESS: at 78.68% examples, 518971 words/s, in_qsize 8, out_qsize 0\n",
      "2016-11-14 23:33:56,677 : INFO : PROGRESS: at 79.10% examples, 518996 words/s, in_qsize 7, out_qsize 1\n",
      "2016-11-14 23:33:57,677 : INFO : PROGRESS: at 79.52% examples, 518970 words/s, in_qsize 8, out_qsize 0\n",
      "2016-11-14 23:33:58,678 : INFO : PROGRESS: at 79.94% examples, 518996 words/s, in_qsize 7, out_qsize 0\n",
      "2016-11-14 23:33:59,679 : INFO : PROGRESS: at 80.35% examples, 519026 words/s, in_qsize 7, out_qsize 0\n",
      "2016-11-14 23:34:00,679 : INFO : PROGRESS: at 80.76% examples, 519075 words/s, in_qsize 7, out_qsize 0\n",
      "2016-11-14 23:34:01,680 : INFO : PROGRESS: at 81.19% examples, 519151 words/s, in_qsize 8, out_qsize 1\n",
      "2016-11-14 23:34:02,682 : INFO : PROGRESS: at 81.61% examples, 519206 words/s, in_qsize 8, out_qsize 0\n",
      "2016-11-14 23:34:03,682 : INFO : PROGRESS: at 82.02% examples, 519179 words/s, in_qsize 8, out_qsize 1\n",
      "2016-11-14 23:34:04,684 : INFO : PROGRESS: at 82.45% examples, 519244 words/s, in_qsize 7, out_qsize 0\n",
      "2016-11-14 23:34:05,686 : INFO : PROGRESS: at 82.86% examples, 519255 words/s, in_qsize 8, out_qsize 0\n",
      "2016-11-14 23:34:06,689 : INFO : PROGRESS: at 83.29% examples, 519306 words/s, in_qsize 8, out_qsize 0\n",
      "2016-11-14 23:34:07,689 : INFO : PROGRESS: at 83.73% examples, 519392 words/s, in_qsize 8, out_qsize 0\n",
      "2016-11-14 23:34:08,690 : INFO : PROGRESS: at 84.15% examples, 519440 words/s, in_qsize 8, out_qsize 0\n",
      "2016-11-14 23:34:09,690 : INFO : PROGRESS: at 84.58% examples, 519473 words/s, in_qsize 8, out_qsize 0\n",
      "2016-11-14 23:34:10,692 : INFO : PROGRESS: at 85.01% examples, 519483 words/s, in_qsize 8, out_qsize 0\n",
      "2016-11-14 23:34:11,693 : INFO : PROGRESS: at 85.44% examples, 519511 words/s, in_qsize 8, out_qsize 0\n",
      "2016-11-14 23:34:12,694 : INFO : PROGRESS: at 85.85% examples, 519480 words/s, in_qsize 8, out_qsize 0\n",
      "2016-11-14 23:34:13,705 : INFO : PROGRESS: at 86.28% examples, 519515 words/s, in_qsize 5, out_qsize 3\n",
      "2016-11-14 23:34:14,702 : INFO : PROGRESS: at 86.70% examples, 519554 words/s, in_qsize 8, out_qsize 0\n",
      "2016-11-14 23:34:15,703 : INFO : PROGRESS: at 87.11% examples, 519619 words/s, in_qsize 8, out_qsize 0\n",
      "2016-11-14 23:34:16,704 : INFO : PROGRESS: at 87.54% examples, 519631 words/s, in_qsize 8, out_qsize 0\n",
      "2016-11-14 23:34:17,706 : INFO : PROGRESS: at 87.96% examples, 519668 words/s, in_qsize 8, out_qsize 0\n",
      "2016-11-14 23:34:18,705 : INFO : PROGRESS: at 88.37% examples, 519639 words/s, in_qsize 8, out_qsize 0\n",
      "2016-11-14 23:34:19,706 : INFO : PROGRESS: at 88.78% examples, 519645 words/s, in_qsize 7, out_qsize 0\n",
      "2016-11-14 23:34:20,708 : INFO : PROGRESS: at 89.21% examples, 519680 words/s, in_qsize 6, out_qsize 1\n",
      "2016-11-14 23:34:21,711 : INFO : PROGRESS: at 89.62% examples, 519637 words/s, in_qsize 8, out_qsize 0\n",
      "2016-11-14 23:34:22,712 : INFO : PROGRESS: at 90.04% examples, 519662 words/s, in_qsize 8, out_qsize 0\n",
      "2016-11-14 23:34:23,713 : INFO : PROGRESS: at 90.45% examples, 519706 words/s, in_qsize 8, out_qsize 0\n",
      "2016-11-14 23:34:24,714 : INFO : PROGRESS: at 90.86% examples, 519701 words/s, in_qsize 7, out_qsize 0\n",
      "2016-11-14 23:34:25,718 : INFO : PROGRESS: at 91.28% examples, 519695 words/s, in_qsize 8, out_qsize 0\n",
      "2016-11-14 23:34:26,719 : INFO : PROGRESS: at 91.70% examples, 519678 words/s, in_qsize 8, out_qsize 2\n",
      "2016-11-14 23:34:27,719 : INFO : PROGRESS: at 92.12% examples, 519663 words/s, in_qsize 8, out_qsize 0\n",
      "2016-11-14 23:34:28,719 : INFO : PROGRESS: at 92.54% examples, 519695 words/s, in_qsize 8, out_qsize 0\n",
      "2016-11-14 23:34:29,721 : INFO : PROGRESS: at 92.94% examples, 519614 words/s, in_qsize 8, out_qsize 0\n",
      "2016-11-14 23:34:30,721 : INFO : PROGRESS: at 93.36% examples, 519606 words/s, in_qsize 8, out_qsize 0\n",
      "2016-11-14 23:34:31,723 : INFO : PROGRESS: at 93.78% examples, 519604 words/s, in_qsize 8, out_qsize 0\n",
      "2016-11-14 23:34:32,723 : INFO : PROGRESS: at 94.20% examples, 519620 words/s, in_qsize 6, out_qsize 0\n",
      "2016-11-14 23:34:33,725 : INFO : PROGRESS: at 94.62% examples, 519634 words/s, in_qsize 7, out_qsize 2\n",
      "2016-11-14 23:34:34,725 : INFO : PROGRESS: at 95.04% examples, 519614 words/s, in_qsize 8, out_qsize 0\n",
      "2016-11-14 23:34:35,726 : INFO : PROGRESS: at 95.47% examples, 519680 words/s, in_qsize 8, out_qsize 0\n",
      "2016-11-14 23:34:36,727 : INFO : PROGRESS: at 95.89% examples, 519731 words/s, in_qsize 7, out_qsize 0\n",
      "2016-11-14 23:34:37,729 : INFO : PROGRESS: at 96.31% examples, 519738 words/s, in_qsize 7, out_qsize 0\n",
      "2016-11-14 23:34:38,730 : INFO : PROGRESS: at 96.72% examples, 519752 words/s, in_qsize 8, out_qsize 0\n",
      "2016-11-14 23:34:39,732 : INFO : PROGRESS: at 97.14% examples, 519770 words/s, in_qsize 8, out_qsize 0\n",
      "2016-11-14 23:34:40,733 : INFO : PROGRESS: at 97.56% examples, 519763 words/s, in_qsize 8, out_qsize 0\n",
      "2016-11-14 23:34:41,736 : INFO : PROGRESS: at 97.98% examples, 519807 words/s, in_qsize 8, out_qsize 0\n",
      "2016-11-14 23:34:42,738 : INFO : PROGRESS: at 98.41% examples, 519878 words/s, in_qsize 8, out_qsize 0\n",
      "2016-11-14 23:34:43,742 : INFO : PROGRESS: at 98.85% examples, 519965 words/s, in_qsize 8, out_qsize 1\n",
      "2016-11-14 23:34:44,745 : INFO : PROGRESS: at 99.27% examples, 519984 words/s, in_qsize 8, out_qsize 0\n",
      "2016-11-14 23:34:45,750 : INFO : PROGRESS: at 99.68% examples, 519918 words/s, in_qsize 8, out_qsize 0\n",
      "2016-11-14 23:34:46,532 : INFO : worker thread finished; awaiting finish of 3 more threads\n",
      "2016-11-14 23:34:46,533 : INFO : worker thread finished; awaiting finish of 2 more threads\n",
      "2016-11-14 23:34:46,536 : INFO : worker thread finished; awaiting finish of 1 more threads\n",
      "2016-11-14 23:34:46,537 : INFO : worker thread finished; awaiting finish of 0 more threads\n",
      "2016-11-14 23:34:46,537 : INFO : training on 1039875000 raw words (124859803 effective words) took 240.2s, 519891 effective words/s\n"
     ]
    }
   ],
   "source": [
    "logging.basicConfig(format='%(asctime)s : %(levelname)s : %(message)s', level=logging.INFO)\n",
    "model = gensim.models.Word2Vec(processed_texts, min_count=1, workers=4, sg=1, window=5)"
   ]
  },
  {
   "cell_type": "code",
   "execution_count": 7,
   "metadata": {
    "collapsed": false
   },
   "outputs": [
    {
     "name": "stderr",
     "output_type": "stream",
     "text": [
      "2016-11-14 23:34:46,543 : INFO : storing 141295x100 projection weights into word2vec/w2v-imdb-skip-gram.bin\n"
     ]
    }
   ],
   "source": [
    "model.save_word2vec_format('word2vec/w2v-imdb-skip-gram.bin', binary=True)"
   ]
  },
  {
   "cell_type": "markdown",
   "metadata": {},
   "source": [
    "# Test loading from file"
   ]
  },
  {
   "cell_type": "code",
   "execution_count": 8,
   "metadata": {
    "collapsed": false
   },
   "outputs": [
    {
     "name": "stderr",
     "output_type": "stream",
     "text": [
      "2016-11-14 23:34:49,416 : INFO : loading projection weights from word2vec/w2v-padded.bin\n",
      "2016-11-14 23:34:51,869 : INFO : loaded (141295, 100) matrix from word2vec/w2v-padded.bin\n"
     ]
    }
   ],
   "source": [
    "test_model = gensim.models.Word2Vec.load_word2vec_format('word2vec/w2v-padded.bin', binary=True)"
   ]
  },
  {
   "cell_type": "code",
   "execution_count": 9,
   "metadata": {
    "collapsed": false
   },
   "outputs": [
    {
     "name": "stderr",
     "output_type": "stream",
     "text": [
      "2016-11-14 23:34:51,874 : INFO : precomputing L2-norms of word weight vectors\n"
     ]
    },
    {
     "data": {
      "text/plain": [
       "[(u'decent', 0.8053410649299622),\n",
       " (u'bad', 0.7808003425598145),\n",
       " (u'great', 0.7721635699272156),\n",
       " (u'fine', 0.7396730780601501),\n",
       " (u'cool', 0.7177160978317261),\n",
       " (u'nice', 0.7162439823150635),\n",
       " (u'terrific', 0.704908549785614),\n",
       " (u'passable', 0.6909924149513245),\n",
       " (u'solid', 0.67049241065979),\n",
       " (u'fair', 0.6681616306304932)]"
      ]
     },
     "execution_count": 9,
     "metadata": {},
     "output_type": "execute_result"
    }
   ],
   "source": [
    "test_model.most_similar('good')"
   ]
  },
  {
   "cell_type": "code",
   "execution_count": null,
   "metadata": {
    "collapsed": true
   },
   "outputs": [],
   "source": []
  }
 ],
 "metadata": {
  "kernelspec": {
   "display_name": "Python [tensorflow]",
   "language": "python",
   "name": "Python [tensorflow]"
  },
  "language_info": {
   "codemirror_mode": {
    "name": "ipython",
    "version": 2
   },
   "file_extension": ".py",
   "mimetype": "text/x-python",
   "name": "python",
   "nbconvert_exporter": "python",
   "pygments_lexer": "ipython2",
   "version": "2.7.12"
  }
 },
 "nbformat": 4,
 "nbformat_minor": 0
}
