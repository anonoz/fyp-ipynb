{
 "cells": [
  {
   "cell_type": "markdown",
   "metadata": {},
   "source": [
    "# Doc2vec with how Yoon Kim did it\n",
    "\n",
    "Steps:\n",
    "* Tokenize punctuations as if they are their own words\n",
    "* Determine the longest review's word count, then pad other reviews so that they are all as long as the longest review"
   ]
  },
  {
   "cell_type": "code",
   "execution_count": 1,
   "metadata": {
    "collapsed": false
   },
   "outputs": [
    {
     "name": "stderr",
     "output_type": "stream",
     "text": [
      "Using gpu device 0: GeForce GTX 1060 6GB (CNMeM is disabled, cuDNN 5105)\n",
      "/home/anonoz/anaconda2/envs/tensorflow/lib/python2.7/site-packages/theano/sandbox/cuda/__init__.py:600: UserWarning: Your cuDNN version is more recent than the one Theano officially supports. If you see any problems, try updating Theano or downgrading cuDNN to version 5.\n",
      "  warnings.warn(warn)\n"
     ]
    }
   ],
   "source": [
    "import glob\n",
    "import re\n",
    "import sys\n",
    "import gensim\n",
    "import logging\n",
    "from bs4 import BeautifulSoup"
   ]
  },
  {
   "cell_type": "code",
   "execution_count": 2,
   "metadata": {
    "collapsed": true
   },
   "outputs": [],
   "source": [
    "# Easily changable settings\n",
    "text_corpus_files = ['aclImdb/train/pos/*.txt', 'aclImdb/train/neg/*.txt', 'aclImdb/train/unsup/*.txt']\n",
    "word_vector_dims = 100"
   ]
  },
  {
   "cell_type": "code",
   "execution_count": 3,
   "metadata": {
    "collapsed": true
   },
   "outputs": [],
   "source": [
    "def preprocess_text(text):\n",
    "    #1 Remove HTML (inspired by Kaggle)\n",
    "    text = BeautifulSoup(text, \"html.parser\").getText()\n",
    "\n",
    "    #2 Tokenize (stolen from Yoon Kim's CNN)\n",
    "    text = re.sub(r\"[^A-Za-z0-9(),!?\\'\\`]\", \" \", text)     \n",
    "    text = re.sub(r\"\\'s\", \" \\'s\", text) \n",
    "    text = re.sub(r\"\\'ve\", \" \\'ve\", text) \n",
    "    text = re.sub(r\"n\\'t\", \" n\\'t\", text) \n",
    "    text = re.sub(r\"\\'re\", \" \\'re\", text) \n",
    "    text = re.sub(r\"\\'d\", \" \\'d\", text) \n",
    "    text = re.sub(r\"\\'ll\", \" \\'ll\", text) \n",
    "    text = re.sub(r\",\", \" , \", text) \n",
    "    text = re.sub(r\"!\", \" ! \", text) \n",
    "    text = re.sub(r\"\\(\", \" \\( \", text) \n",
    "    text = re.sub(r\"\\)\", \" \\) \", text) \n",
    "    text = re.sub(r\"\\?\", \" \\? \", text) \n",
    "    text = re.sub(r\"\\s{2,}\", \" \", text)\n",
    "    \n",
    "    #3 Lower cap\n",
    "    return text.lower()"
   ]
  },
  {
   "cell_type": "code",
   "execution_count": 4,
   "metadata": {
    "collapsed": true
   },
   "outputs": [],
   "source": [
    "def pad_text_list(text_list, pad_token=\"<PAD/>\", pad_width=0):\n",
    "    return text_list + ([pad_token] * (pad_width - len(text_list)))\n",
    "\n",
    "def text_to_padded_list(text, pad_token=\"<PAD/>\", pad_width=0):\n",
    "    text_list = preprocess_text(text).split()\n",
    "    return pad_text_list(text_list, pad_token, pad_width)"
   ]
  },
  {
   "cell_type": "code",
   "execution_count": 5,
   "metadata": {
    "collapsed": false
   },
   "outputs": [
    {
     "name": "stdout",
     "output_type": "stream",
     "text": [
      "Loading text file 75000\n",
      "Longest text list: 2773\n",
      "Padding text list 75000"
     ]
    }
   ],
   "source": [
    "processed_texts = []\n",
    "file_count = 0\n",
    "for folder_files in text_corpus_files:\n",
    "    for text_file in glob.glob(folder_files):\n",
    "        with(open(text_file, 'r')) as f:\n",
    "            processed_texts.append(text_to_padded_list(f.read()))\n",
    "            file_count += 1\n",
    "            if file_count % 100 == 0:\n",
    "                sys.stdout.write('\\rLoading text file {0:d}'.format(file_count))\n",
    "                sys.stdout.flush()\n",
    "                \n",
    "max_processed_text_len = len(max(processed_texts, key=len))\n",
    "print('\\nLongest text list: {0:d}'.format(max_processed_text_len))\n",
    "for i, text_list in enumerate(processed_texts):\n",
    "    processed_texts[i] = pad_text_list(text_list, pad_width=max_processed_text_len)\n",
    "    if (i + 1) % 1000 == 0:\n",
    "        sys.stdout.write('\\rPadding text list {0:d}'.format(i+1))\n",
    "        sys.stdout.flush()"
   ]
  },
  {
   "cell_type": "code",
   "execution_count": 6,
   "metadata": {
    "collapsed": false
   },
   "outputs": [
    {
     "name": "stderr",
     "output_type": "stream",
     "text": [
      "2017-02-01 18:13:56,465 : INFO : collecting all words and their counts\n",
      "2017-02-01 18:13:56,467 : INFO : PROGRESS: at sentence #0, processed 0 words, keeping 0 word types\n",
      "2017-02-01 18:13:58,267 : INFO : PROGRESS: at sentence #10000, processed 27730000 words, keeping 54663 word types\n",
      "2017-02-01 18:14:00,035 : INFO : PROGRESS: at sentence #20000, processed 55460000 words, keeping 74760 word types\n",
      "2017-02-01 18:14:01,866 : INFO : PROGRESS: at sentence #30000, processed 83190000 words, keeping 90929 word types\n",
      "2017-02-01 18:14:03,660 : INFO : PROGRESS: at sentence #40000, processed 110920000 words, keeping 105430 word types\n",
      "2017-02-01 18:14:05,442 : INFO : PROGRESS: at sentence #50000, processed 138650000 words, keeping 117189 word types\n",
      "2017-02-01 18:14:07,247 : INFO : PROGRESS: at sentence #60000, processed 166380000 words, keeping 127458 word types\n",
      "2017-02-01 18:14:09,110 : INFO : PROGRESS: at sentence #70000, processed 194110000 words, keeping 137015 word types\n",
      "2017-02-01 18:14:10,008 : INFO : collected 141295 word types from a corpus of 207975000 raw words and 75000 sentences\n",
      "2017-02-01 18:14:14,927 : INFO : min_count=1 retains 141295 unique words (drops 0)\n",
      "2017-02-01 18:14:14,927 : INFO : min_count leaves 207975000 word corpus (100% of original 207975000)\n",
      "2017-02-01 18:14:15,197 : INFO : deleting the raw counts dictionary of 141295 items\n",
      "2017-02-01 18:14:15,201 : INFO : sample=0.001 downsamples 3 most-common words\n",
      "2017-02-01 18:14:15,202 : INFO : downsampling leaves estimated 24972290 word corpus (12.0% of prior 207975000)\n",
      "2017-02-01 18:14:15,202 : INFO : estimated required memory for 141295 words and 100 dimensions: 183683500 bytes\n",
      "2017-02-01 18:14:15,550 : INFO : resetting layer weights\n",
      "2017-02-01 18:14:16,889 : INFO : training model with 4 workers on 141295 vocabulary and 100 features, using sg=1 hs=0 sample=0.001 negative=5\n",
      "2017-02-01 18:14:16,890 : INFO : expecting 75000 sentences, matching count from corpus used for vocabulary survey\n",
      "2017-02-01 18:14:17,894 : INFO : PROGRESS: at 0.41% examples, 514843 words/s, in_qsize 7, out_qsize 1\n",
      "2017-02-01 18:14:18,894 : INFO : PROGRESS: at 0.83% examples, 526519 words/s, in_qsize 7, out_qsize 0\n",
      "2017-02-01 18:14:19,895 : INFO : PROGRESS: at 1.27% examples, 532999 words/s, in_qsize 8, out_qsize 0\n",
      "2017-02-01 18:14:20,895 : INFO : PROGRESS: at 1.63% examples, 515096 words/s, in_qsize 8, out_qsize 0\n",
      "2017-02-01 18:14:21,897 : INFO : PROGRESS: at 1.94% examples, 489235 words/s, in_qsize 8, out_qsize 0\n",
      "2017-02-01 18:14:22,898 : INFO : PROGRESS: at 2.32% examples, 487240 words/s, in_qsize 6, out_qsize 1\n",
      "2017-02-01 18:14:23,902 : INFO : PROGRESS: at 2.73% examples, 489902 words/s, in_qsize 7, out_qsize 2\n",
      "2017-02-01 18:14:24,901 : INFO : PROGRESS: at 3.12% examples, 490593 words/s, in_qsize 6, out_qsize 0\n",
      "2017-02-01 18:14:25,904 : INFO : PROGRESS: at 3.55% examples, 494161 words/s, in_qsize 8, out_qsize 0\n",
      "2017-02-01 18:14:26,906 : INFO : PROGRESS: at 3.97% examples, 498317 words/s, in_qsize 8, out_qsize 1\n",
      "2017-02-01 18:14:27,910 : INFO : PROGRESS: at 4.31% examples, 489669 words/s, in_qsize 8, out_qsize 0\n",
      "2017-02-01 18:14:28,910 : INFO : PROGRESS: at 4.69% examples, 487504 words/s, in_qsize 7, out_qsize 0\n",
      "2017-02-01 18:14:29,913 : INFO : PROGRESS: at 5.10% examples, 488441 words/s, in_qsize 8, out_qsize 0\n",
      "2017-02-01 18:14:30,914 : INFO : PROGRESS: at 5.48% examples, 487627 words/s, in_qsize 8, out_qsize 0\n",
      "2017-02-01 18:14:31,914 : INFO : PROGRESS: at 5.87% examples, 486843 words/s, in_qsize 7, out_qsize 0\n",
      "2017-02-01 18:14:32,917 : INFO : PROGRESS: at 6.22% examples, 483513 words/s, in_qsize 7, out_qsize 1\n",
      "2017-02-01 18:14:33,919 : INFO : PROGRESS: at 6.47% examples, 473715 words/s, in_qsize 6, out_qsize 1\n",
      "2017-02-01 18:14:34,922 : INFO : PROGRESS: at 6.84% examples, 472718 words/s, in_qsize 8, out_qsize 0\n",
      "2017-02-01 18:14:35,925 : INFO : PROGRESS: at 7.18% examples, 471328 words/s, in_qsize 8, out_qsize 0\n",
      "2017-02-01 18:14:36,926 : INFO : PROGRESS: at 7.56% examples, 470841 words/s, in_qsize 8, out_qsize 0\n",
      "2017-02-01 18:14:37,927 : INFO : PROGRESS: at 7.97% examples, 473120 words/s, in_qsize 7, out_qsize 0\n",
      "2017-02-01 18:14:38,928 : INFO : PROGRESS: at 8.39% examples, 475275 words/s, in_qsize 8, out_qsize 0\n",
      "2017-02-01 18:14:39,928 : INFO : PROGRESS: at 8.78% examples, 475837 words/s, in_qsize 8, out_qsize 0\n",
      "2017-02-01 18:14:40,934 : INFO : PROGRESS: at 9.13% examples, 474534 words/s, in_qsize 7, out_qsize 2\n",
      "2017-02-01 18:14:41,937 : INFO : PROGRESS: at 9.49% examples, 473104 words/s, in_qsize 8, out_qsize 0\n",
      "2017-02-01 18:14:42,941 : INFO : PROGRESS: at 9.87% examples, 473140 words/s, in_qsize 8, out_qsize 0\n",
      "2017-02-01 18:14:43,943 : INFO : PROGRESS: at 10.26% examples, 474067 words/s, in_qsize 8, out_qsize 0\n",
      "2017-02-01 18:14:44,948 : INFO : PROGRESS: at 10.67% examples, 475658 words/s, in_qsize 8, out_qsize 0\n",
      "2017-02-01 18:14:45,950 : INFO : PROGRESS: at 11.08% examples, 476969 words/s, in_qsize 8, out_qsize 0\n",
      "2017-02-01 18:14:46,952 : INFO : PROGRESS: at 11.48% examples, 477570 words/s, in_qsize 8, out_qsize 0\n",
      "2017-02-01 18:14:47,957 : INFO : PROGRESS: at 11.84% examples, 476154 words/s, in_qsize 7, out_qsize 2\n",
      "2017-02-01 18:14:48,956 : INFO : PROGRESS: at 12.22% examples, 475968 words/s, in_qsize 8, out_qsize 0\n",
      "2017-02-01 18:14:49,960 : INFO : PROGRESS: at 12.55% examples, 474017 words/s, in_qsize 8, out_qsize 0\n",
      "2017-02-01 18:14:50,961 : INFO : PROGRESS: at 12.92% examples, 473679 words/s, in_qsize 7, out_qsize 0\n",
      "2017-02-01 18:14:51,962 : INFO : PROGRESS: at 13.33% examples, 474620 words/s, in_qsize 8, out_qsize 0\n",
      "2017-02-01 18:14:52,962 : INFO : PROGRESS: at 13.76% examples, 476233 words/s, in_qsize 8, out_qsize 0\n",
      "2017-02-01 18:14:53,965 : INFO : PROGRESS: at 14.12% examples, 475886 words/s, in_qsize 8, out_qsize 0\n",
      "2017-02-01 18:14:54,970 : INFO : PROGRESS: at 14.49% examples, 475251 words/s, in_qsize 7, out_qsize 0\n",
      "2017-02-01 18:14:55,971 : INFO : PROGRESS: at 14.91% examples, 476342 words/s, in_qsize 8, out_qsize 0\n",
      "2017-02-01 18:14:56,972 : INFO : PROGRESS: at 15.33% examples, 477315 words/s, in_qsize 7, out_qsize 0\n",
      "2017-02-01 18:14:57,973 : INFO : PROGRESS: at 15.74% examples, 478269 words/s, in_qsize 8, out_qsize 0\n",
      "2017-02-01 18:14:58,977 : INFO : PROGRESS: at 16.16% examples, 479269 words/s, in_qsize 7, out_qsize 1\n",
      "2017-02-01 18:14:59,977 : INFO : PROGRESS: at 16.56% examples, 479841 words/s, in_qsize 8, out_qsize 0\n",
      "2017-02-01 18:15:00,978 : INFO : PROGRESS: at 16.90% examples, 478687 words/s, in_qsize 7, out_qsize 0\n",
      "2017-02-01 18:15:01,981 : INFO : PROGRESS: at 17.23% examples, 477108 words/s, in_qsize 7, out_qsize 1\n",
      "2017-02-01 18:15:02,988 : INFO : PROGRESS: at 17.48% examples, 473390 words/s, in_qsize 7, out_qsize 1\n",
      "2017-02-01 18:15:03,984 : INFO : PROGRESS: at 17.84% examples, 472895 words/s, in_qsize 8, out_qsize 1\n",
      "2017-02-01 18:15:04,988 : INFO : PROGRESS: at 18.19% examples, 472145 words/s, in_qsize 8, out_qsize 0\n",
      "2017-02-01 18:15:05,992 : INFO : PROGRESS: at 18.52% examples, 470871 words/s, in_qsize 8, out_qsize 0\n",
      "2017-02-01 18:15:06,999 : INFO : PROGRESS: at 18.84% examples, 469446 words/s, in_qsize 6, out_qsize 1\n",
      "2017-02-01 18:15:08,000 : INFO : PROGRESS: at 19.18% examples, 468598 words/s, in_qsize 7, out_qsize 0\n",
      "2017-02-01 18:15:09,002 : INFO : PROGRESS: at 19.61% examples, 469631 words/s, in_qsize 8, out_qsize 0\n",
      "2017-02-01 18:15:10,004 : INFO : PROGRESS: at 20.03% examples, 470885 words/s, in_qsize 7, out_qsize 0\n",
      "2017-02-01 18:15:11,004 : INFO : PROGRESS: at 20.43% examples, 471510 words/s, in_qsize 7, out_qsize 0\n",
      "2017-02-01 18:15:12,006 : INFO : PROGRESS: at 20.80% examples, 471593 words/s, in_qsize 8, out_qsize 0\n",
      "2017-02-01 18:15:13,006 : INFO : PROGRESS: at 21.19% examples, 471813 words/s, in_qsize 7, out_qsize 0\n",
      "2017-02-01 18:15:14,009 : INFO : PROGRESS: at 21.59% examples, 472475 words/s, in_qsize 8, out_qsize 0\n",
      "2017-02-01 18:15:15,010 : INFO : PROGRESS: at 21.98% examples, 472714 words/s, in_qsize 7, out_qsize 1\n",
      "2017-02-01 18:15:16,012 : INFO : PROGRESS: at 22.40% examples, 473381 words/s, in_qsize 8, out_qsize 0\n",
      "2017-02-01 18:15:17,019 : INFO : PROGRESS: at 22.79% examples, 473656 words/s, in_qsize 6, out_qsize 2\n",
      "2017-02-01 18:15:18,018 : INFO : PROGRESS: at 23.13% examples, 472999 words/s, in_qsize 7, out_qsize 0\n",
      "2017-02-01 18:15:19,019 : INFO : PROGRESS: at 23.48% examples, 472197 words/s, in_qsize 8, out_qsize 0\n",
      "2017-02-01 18:15:20,021 : INFO : PROGRESS: at 23.87% examples, 472465 words/s, in_qsize 7, out_qsize 2\n",
      "2017-02-01 18:15:21,022 : INFO : PROGRESS: at 24.30% examples, 473249 words/s, in_qsize 7, out_qsize 0\n",
      "2017-02-01 18:15:22,023 : INFO : PROGRESS: at 24.73% examples, 474068 words/s, in_qsize 8, out_qsize 0\n",
      "2017-02-01 18:15:23,025 : INFO : PROGRESS: at 25.14% examples, 474345 words/s, in_qsize 8, out_qsize 1\n",
      "2017-02-01 18:15:24,024 : INFO : PROGRESS: at 25.48% examples, 473786 words/s, in_qsize 8, out_qsize 0\n",
      "2017-02-01 18:15:25,027 : INFO : PROGRESS: at 25.92% examples, 474760 words/s, in_qsize 7, out_qsize 0\n",
      "2017-02-01 18:15:26,029 : INFO : PROGRESS: at 26.35% examples, 475607 words/s, in_qsize 8, out_qsize 0\n",
      "2017-02-01 18:15:27,029 : INFO : PROGRESS: at 26.76% examples, 476188 words/s, in_qsize 8, out_qsize 0\n",
      "2017-02-01 18:15:28,034 : INFO : PROGRESS: at 27.13% examples, 476110 words/s, in_qsize 8, out_qsize 0\n",
      "2017-02-01 18:15:29,035 : INFO : PROGRESS: at 27.40% examples, 474176 words/s, in_qsize 8, out_qsize 0\n",
      "2017-02-01 18:15:30,037 : INFO : PROGRESS: at 27.84% examples, 475281 words/s, in_qsize 8, out_qsize 0\n",
      "2017-02-01 18:15:31,037 : INFO : PROGRESS: at 28.26% examples, 475872 words/s, in_qsize 8, out_qsize 0\n",
      "2017-02-01 18:15:32,038 : INFO : PROGRESS: at 28.66% examples, 476267 words/s, in_qsize 8, out_qsize 0\n",
      "2017-02-01 18:15:33,051 : INFO : PROGRESS: at 29.04% examples, 476090 words/s, in_qsize 7, out_qsize 3\n",
      "2017-02-01 18:15:34,045 : INFO : PROGRESS: at 29.41% examples, 475944 words/s, in_qsize 7, out_qsize 0\n",
      "2017-02-01 18:15:35,046 : INFO : PROGRESS: at 29.85% examples, 476789 words/s, in_qsize 8, out_qsize 0\n",
      "2017-02-01 18:15:36,047 : INFO : PROGRESS: at 30.22% examples, 476806 words/s, in_qsize 8, out_qsize 1\n",
      "2017-02-01 18:15:37,048 : INFO : PROGRESS: at 30.63% examples, 477385 words/s, in_qsize 8, out_qsize 0\n",
      "2017-02-01 18:15:38,053 : INFO : PROGRESS: at 31.07% examples, 478192 words/s, in_qsize 8, out_qsize 1\n",
      "2017-02-01 18:15:39,053 : INFO : PROGRESS: at 31.50% examples, 478946 words/s, in_qsize 7, out_qsize 0\n",
      "2017-02-01 18:15:40,054 : INFO : PROGRESS: at 31.95% examples, 479726 words/s, in_qsize 8, out_qsize 0\n",
      "2017-02-01 18:15:41,056 : INFO : PROGRESS: at 32.36% examples, 480222 words/s, in_qsize 7, out_qsize 0\n",
      "2017-02-01 18:15:42,056 : INFO : PROGRESS: at 32.74% examples, 480122 words/s, in_qsize 7, out_qsize 0\n",
      "2017-02-01 18:15:43,058 : INFO : PROGRESS: at 33.11% examples, 479916 words/s, in_qsize 7, out_qsize 0\n",
      "2017-02-01 18:15:44,064 : INFO : PROGRESS: at 33.43% examples, 478876 words/s, in_qsize 7, out_qsize 1\n",
      "2017-02-01 18:15:45,062 : INFO : PROGRESS: at 33.77% examples, 478136 words/s, in_qsize 8, out_qsize 0\n",
      "2017-02-01 18:15:46,062 : INFO : PROGRESS: at 34.18% examples, 478654 words/s, in_qsize 8, out_qsize 0\n",
      "2017-02-01 18:15:47,071 : INFO : PROGRESS: at 34.50% examples, 477787 words/s, in_qsize 5, out_qsize 1\n",
      "2017-02-01 18:15:48,065 : INFO : PROGRESS: at 34.84% examples, 477039 words/s, in_qsize 8, out_qsize 0\n",
      "2017-02-01 18:15:49,066 : INFO : PROGRESS: at 35.17% examples, 476290 words/s, in_qsize 7, out_qsize 0\n",
      "2017-02-01 18:15:50,066 : INFO : PROGRESS: at 35.52% examples, 475902 words/s, in_qsize 8, out_qsize 0\n",
      "2017-02-01 18:15:51,066 : INFO : PROGRESS: at 35.92% examples, 476140 words/s, in_qsize 8, out_qsize 1\n",
      "2017-02-01 18:15:52,068 : INFO : PROGRESS: at 36.34% examples, 476661 words/s, in_qsize 7, out_qsize 0\n",
      "2017-02-01 18:15:53,068 : INFO : PROGRESS: at 36.74% examples, 477067 words/s, in_qsize 8, out_qsize 0\n",
      "2017-02-01 18:15:54,070 : INFO : PROGRESS: at 37.12% examples, 477049 words/s, in_qsize 7, out_qsize 0\n",
      "2017-02-01 18:15:55,070 : INFO : PROGRESS: at 37.46% examples, 476435 words/s, in_qsize 7, out_qsize 0\n",
      "2017-02-01 18:15:56,071 : INFO : PROGRESS: at 37.85% examples, 476414 words/s, in_qsize 7, out_qsize 0\n",
      "2017-02-01 18:15:57,074 : INFO : PROGRESS: at 38.20% examples, 476088 words/s, in_qsize 8, out_qsize 0\n",
      "2017-02-01 18:15:58,075 : INFO : PROGRESS: at 38.51% examples, 475258 words/s, in_qsize 8, out_qsize 0\n",
      "2017-02-01 18:15:59,076 : INFO : PROGRESS: at 38.82% examples, 474289 words/s, in_qsize 8, out_qsize 0\n",
      "2017-02-01 18:16:00,078 : INFO : PROGRESS: at 39.14% examples, 473607 words/s, in_qsize 8, out_qsize 0\n",
      "2017-02-01 18:16:01,078 : INFO : PROGRESS: at 39.48% examples, 473047 words/s, in_qsize 7, out_qsize 0\n",
      "2017-02-01 18:16:02,079 : INFO : PROGRESS: at 39.85% examples, 473011 words/s, in_qsize 8, out_qsize 0\n",
      "2017-02-01 18:16:03,083 : INFO : PROGRESS: at 40.26% examples, 473495 words/s, in_qsize 7, out_qsize 1\n",
      "2017-02-01 18:16:04,085 : INFO : PROGRESS: at 40.66% examples, 473798 words/s, in_qsize 7, out_qsize 2\n",
      "2017-02-01 18:16:05,091 : INFO : PROGRESS: at 41.05% examples, 473972 words/s, in_qsize 7, out_qsize 2\n",
      "2017-02-01 18:16:06,094 : INFO : PROGRESS: at 41.48% examples, 474432 words/s, in_qsize 8, out_qsize 0\n",
      "2017-02-01 18:16:07,095 : INFO : PROGRESS: at 41.81% examples, 473970 words/s, in_qsize 8, out_qsize 0\n",
      "2017-02-01 18:16:08,097 : INFO : PROGRESS: at 42.15% examples, 473469 words/s, in_qsize 8, out_qsize 0\n",
      "2017-02-01 18:16:09,102 : INFO : PROGRESS: at 42.52% examples, 473372 words/s, in_qsize 8, out_qsize 0\n",
      "2017-02-01 18:16:10,103 : INFO : PROGRESS: at 42.85% examples, 472851 words/s, in_qsize 8, out_qsize 0\n",
      "2017-02-01 18:16:11,109 : INFO : PROGRESS: at 43.16% examples, 472137 words/s, in_qsize 8, out_qsize 0\n",
      "2017-02-01 18:16:12,109 : INFO : PROGRESS: at 43.49% examples, 471478 words/s, in_qsize 7, out_qsize 0\n",
      "2017-02-01 18:16:13,113 : INFO : PROGRESS: at 43.82% examples, 471017 words/s, in_qsize 8, out_qsize 0\n",
      "2017-02-01 18:16:14,113 : INFO : PROGRESS: at 44.22% examples, 471247 words/s, in_qsize 8, out_qsize 0\n",
      "2017-02-01 18:16:15,114 : INFO : PROGRESS: at 44.63% examples, 471398 words/s, in_qsize 8, out_qsize 0\n",
      "2017-02-01 18:16:16,119 : INFO : PROGRESS: at 45.00% examples, 471253 words/s, in_qsize 5, out_qsize 1\n",
      "2017-02-01 18:16:17,116 : INFO : PROGRESS: at 45.42% examples, 471585 words/s, in_qsize 6, out_qsize 0\n",
      "2017-02-01 18:16:18,117 : INFO : PROGRESS: at 45.81% examples, 471734 words/s, in_qsize 8, out_qsize 1\n",
      "2017-02-01 18:16:19,118 : INFO : PROGRESS: at 46.22% examples, 471995 words/s, in_qsize 8, out_qsize 0\n",
      "2017-02-01 18:16:20,120 : INFO : PROGRESS: at 46.60% examples, 472062 words/s, in_qsize 8, out_qsize 0\n",
      "2017-02-01 18:16:21,121 : INFO : PROGRESS: at 46.97% examples, 471980 words/s, in_qsize 7, out_qsize 0\n",
      "2017-02-01 18:16:22,123 : INFO : PROGRESS: at 47.37% examples, 472247 words/s, in_qsize 7, out_qsize 0\n",
      "2017-02-01 18:16:23,125 : INFO : PROGRESS: at 47.76% examples, 472389 words/s, in_qsize 8, out_qsize 0\n",
      "2017-02-01 18:16:24,128 : INFO : PROGRESS: at 48.14% examples, 472451 words/s, in_qsize 7, out_qsize 0\n",
      "2017-02-01 18:16:25,131 : INFO : PROGRESS: at 48.52% examples, 472439 words/s, in_qsize 8, out_qsize 1\n",
      "2017-02-01 18:16:26,128 : INFO : PROGRESS: at 48.92% examples, 472696 words/s, in_qsize 7, out_qsize 0\n",
      "2017-02-01 18:16:27,130 : INFO : PROGRESS: at 49.34% examples, 473037 words/s, in_qsize 8, out_qsize 2\n",
      "2017-02-01 18:16:28,130 : INFO : PROGRESS: at 49.78% examples, 473571 words/s, in_qsize 7, out_qsize 0\n",
      "2017-02-01 18:16:29,132 : INFO : PROGRESS: at 50.17% examples, 473715 words/s, in_qsize 8, out_qsize 0\n",
      "2017-02-01 18:16:30,132 : INFO : PROGRESS: at 50.54% examples, 473701 words/s, in_qsize 8, out_qsize 0\n",
      "2017-02-01 18:16:31,137 : INFO : PROGRESS: at 50.95% examples, 474006 words/s, in_qsize 7, out_qsize 0\n",
      "2017-02-01 18:16:32,136 : INFO : PROGRESS: at 51.36% examples, 474359 words/s, in_qsize 7, out_qsize 0\n",
      "2017-02-01 18:16:33,139 : INFO : PROGRESS: at 51.75% examples, 474296 words/s, in_qsize 8, out_qsize 0\n",
      "2017-02-01 18:16:34,140 : INFO : PROGRESS: at 52.06% examples, 473668 words/s, in_qsize 7, out_qsize 0\n",
      "2017-02-01 18:16:35,141 : INFO : PROGRESS: at 52.41% examples, 473469 words/s, in_qsize 8, out_qsize 0\n",
      "2017-02-01 18:16:36,142 : INFO : PROGRESS: at 52.82% examples, 473698 words/s, in_qsize 7, out_qsize 0\n",
      "2017-02-01 18:16:37,142 : INFO : PROGRESS: at 53.14% examples, 473207 words/s, in_qsize 7, out_qsize 0\n",
      "2017-02-01 18:16:38,143 : INFO : PROGRESS: at 53.48% examples, 472722 words/s, in_qsize 8, out_qsize 2\n",
      "2017-02-01 18:16:39,148 : INFO : PROGRESS: at 53.80% examples, 472180 words/s, in_qsize 8, out_qsize 0\n",
      "2017-02-01 18:16:40,149 : INFO : PROGRESS: at 54.08% examples, 471438 words/s, in_qsize 8, out_qsize 0\n",
      "2017-02-01 18:16:41,150 : INFO : PROGRESS: at 54.46% examples, 471425 words/s, in_qsize 7, out_qsize 0\n",
      "2017-02-01 18:16:42,150 : INFO : PROGRESS: at 54.84% examples, 471410 words/s, in_qsize 8, out_qsize 0\n",
      "2017-02-01 18:16:43,151 : INFO : PROGRESS: at 55.23% examples, 471448 words/s, in_qsize 8, out_qsize 2\n",
      "2017-02-01 18:16:44,150 : INFO : PROGRESS: at 55.65% examples, 471862 words/s, in_qsize 8, out_qsize 0\n",
      "2017-02-01 18:16:45,152 : INFO : PROGRESS: at 56.08% examples, 472260 words/s, in_qsize 8, out_qsize 0\n",
      "2017-02-01 18:16:46,154 : INFO : PROGRESS: at 56.47% examples, 472357 words/s, in_qsize 8, out_qsize 0\n",
      "2017-02-01 18:16:47,155 : INFO : PROGRESS: at 56.84% examples, 472398 words/s, in_qsize 7, out_qsize 0\n",
      "2017-02-01 18:16:48,156 : INFO : PROGRESS: at 57.26% examples, 472646 words/s, in_qsize 8, out_qsize 0\n",
      "2017-02-01 18:16:49,159 : INFO : PROGRESS: at 57.68% examples, 473011 words/s, in_qsize 8, out_qsize 1\n",
      "2017-02-01 18:16:50,158 : INFO : PROGRESS: at 58.12% examples, 473406 words/s, in_qsize 7, out_qsize 0\n",
      "2017-02-01 18:16:51,161 : INFO : PROGRESS: at 58.53% examples, 473750 words/s, in_qsize 8, out_qsize 2\n",
      "2017-02-01 18:16:52,160 : INFO : PROGRESS: at 58.93% examples, 473909 words/s, in_qsize 6, out_qsize 1\n",
      "2017-02-01 18:16:53,161 : INFO : PROGRESS: at 59.35% examples, 474185 words/s, in_qsize 8, out_qsize 0\n",
      "2017-02-01 18:16:54,164 : INFO : PROGRESS: at 59.76% examples, 474388 words/s, in_qsize 7, out_qsize 0\n",
      "2017-02-01 18:16:55,164 : INFO : PROGRESS: at 60.12% examples, 474307 words/s, in_qsize 8, out_qsize 0\n",
      "2017-02-01 18:16:56,165 : INFO : PROGRESS: at 60.53% examples, 474545 words/s, in_qsize 8, out_qsize 0\n",
      "2017-02-01 18:16:57,167 : INFO : PROGRESS: at 60.92% examples, 474710 words/s, in_qsize 8, out_qsize 0\n",
      "2017-02-01 18:16:58,167 : INFO : PROGRESS: at 61.28% examples, 474562 words/s, in_qsize 7, out_qsize 1\n",
      "2017-02-01 18:16:59,168 : INFO : PROGRESS: at 61.65% examples, 474505 words/s, in_qsize 8, out_qsize 0\n",
      "2017-02-01 18:17:00,170 : INFO : PROGRESS: at 62.02% examples, 474421 words/s, in_qsize 7, out_qsize 0\n",
      "2017-02-01 18:17:01,174 : INFO : PROGRESS: at 62.44% examples, 474708 words/s, in_qsize 7, out_qsize 1\n",
      "2017-02-01 18:17:02,173 : INFO : PROGRESS: at 62.84% examples, 474945 words/s, in_qsize 8, out_qsize 0\n",
      "2017-02-01 18:17:03,176 : INFO : PROGRESS: at 63.23% examples, 474979 words/s, in_qsize 8, out_qsize 2\n",
      "2017-02-01 18:17:04,176 : INFO : PROGRESS: at 63.62% examples, 474963 words/s, in_qsize 8, out_qsize 0\n",
      "2017-02-01 18:17:05,179 : INFO : PROGRESS: at 64.02% examples, 475170 words/s, in_qsize 7, out_qsize 2\n",
      "2017-02-01 18:17:06,181 : INFO : PROGRESS: at 64.42% examples, 475231 words/s, in_qsize 8, out_qsize 0\n",
      "2017-02-01 18:17:07,184 : INFO : PROGRESS: at 64.81% examples, 475224 words/s, in_qsize 7, out_qsize 0\n",
      "2017-02-01 18:17:08,184 : INFO : PROGRESS: at 65.19% examples, 475157 words/s, in_qsize 7, out_qsize 0\n",
      "2017-02-01 18:17:09,185 : INFO : PROGRESS: at 65.58% examples, 475172 words/s, in_qsize 7, out_qsize 0\n",
      "2017-02-01 18:17:10,187 : INFO : PROGRESS: at 65.99% examples, 475308 words/s, in_qsize 8, out_qsize 0\n",
      "2017-02-01 18:17:11,192 : INFO : PROGRESS: at 66.36% examples, 475281 words/s, in_qsize 7, out_qsize 0\n",
      "2017-02-01 18:17:12,193 : INFO : PROGRESS: at 66.76% examples, 475460 words/s, in_qsize 8, out_qsize 0\n",
      "2017-02-01 18:17:13,195 : INFO : PROGRESS: at 67.17% examples, 475760 words/s, in_qsize 7, out_qsize 1\n",
      "2017-02-01 18:17:14,196 : INFO : PROGRESS: at 67.60% examples, 476035 words/s, in_qsize 8, out_qsize 0\n",
      "2017-02-01 18:17:15,196 : INFO : PROGRESS: at 68.00% examples, 476180 words/s, in_qsize 8, out_qsize 0\n",
      "2017-02-01 18:17:16,197 : INFO : PROGRESS: at 68.38% examples, 476181 words/s, in_qsize 8, out_qsize 0\n",
      "2017-02-01 18:17:17,197 : INFO : PROGRESS: at 68.77% examples, 476243 words/s, in_qsize 8, out_qsize 0\n",
      "2017-02-01 18:17:18,197 : INFO : PROGRESS: at 69.18% examples, 476479 words/s, in_qsize 8, out_qsize 0\n",
      "2017-02-01 18:17:19,200 : INFO : PROGRESS: at 69.60% examples, 476649 words/s, in_qsize 8, out_qsize 0\n",
      "2017-02-01 18:17:20,206 : INFO : PROGRESS: at 69.97% examples, 476588 words/s, in_qsize 7, out_qsize 1\n",
      "2017-02-01 18:17:21,201 : INFO : PROGRESS: at 70.34% examples, 476565 words/s, in_qsize 8, out_qsize 1\n",
      "2017-02-01 18:17:22,204 : INFO : PROGRESS: at 70.72% examples, 476597 words/s, in_qsize 8, out_qsize 0\n",
      "2017-02-01 18:17:23,205 : INFO : PROGRESS: at 71.11% examples, 476625 words/s, in_qsize 8, out_qsize 0\n",
      "2017-02-01 18:17:24,206 : INFO : PROGRESS: at 71.52% examples, 476816 words/s, in_qsize 8, out_qsize 0\n",
      "2017-02-01 18:17:25,206 : INFO : PROGRESS: at 71.94% examples, 477004 words/s, in_qsize 8, out_qsize 0\n",
      "2017-02-01 18:17:26,206 : INFO : PROGRESS: at 72.32% examples, 477041 words/s, in_qsize 7, out_qsize 0\n",
      "2017-02-01 18:17:27,207 : INFO : PROGRESS: at 72.74% examples, 477278 words/s, in_qsize 6, out_qsize 1\n",
      "2017-02-01 18:17:28,207 : INFO : PROGRESS: at 73.17% examples, 477571 words/s, in_qsize 7, out_qsize 0\n",
      "2017-02-01 18:17:29,207 : INFO : PROGRESS: at 73.59% examples, 477782 words/s, in_qsize 7, out_qsize 0\n",
      "2017-02-01 18:17:30,212 : INFO : PROGRESS: at 74.01% examples, 478028 words/s, in_qsize 8, out_qsize 1\n",
      "2017-02-01 18:17:31,212 : INFO : PROGRESS: at 74.42% examples, 478222 words/s, in_qsize 6, out_qsize 0\n",
      "2017-02-01 18:17:32,216 : INFO : PROGRESS: at 74.85% examples, 478469 words/s, in_qsize 8, out_qsize 0\n",
      "2017-02-01 18:17:33,216 : INFO : PROGRESS: at 75.28% examples, 478732 words/s, in_qsize 8, out_qsize 0\n",
      "2017-02-01 18:17:34,216 : INFO : PROGRESS: at 75.66% examples, 478754 words/s, in_qsize 8, out_qsize 1\n",
      "2017-02-01 18:17:35,217 : INFO : PROGRESS: at 76.07% examples, 478900 words/s, in_qsize 8, out_qsize 0\n",
      "2017-02-01 18:17:36,217 : INFO : PROGRESS: at 76.46% examples, 478951 words/s, in_qsize 7, out_qsize 0\n",
      "2017-02-01 18:17:37,218 : INFO : PROGRESS: at 76.84% examples, 478955 words/s, in_qsize 8, out_qsize 0\n",
      "2017-02-01 18:17:38,221 : INFO : PROGRESS: at 77.23% examples, 478984 words/s, in_qsize 8, out_qsize 1\n",
      "2017-02-01 18:17:39,222 : INFO : PROGRESS: at 77.64% examples, 479137 words/s, in_qsize 7, out_qsize 0\n",
      "2017-02-01 18:17:40,221 : INFO : PROGRESS: at 78.06% examples, 479300 words/s, in_qsize 8, out_qsize 1\n",
      "2017-02-01 18:17:41,223 : INFO : PROGRESS: at 78.38% examples, 478951 words/s, in_qsize 8, out_qsize 0\n",
      "2017-02-01 18:17:42,226 : INFO : PROGRESS: at 78.71% examples, 478606 words/s, in_qsize 8, out_qsize 0\n",
      "2017-02-01 18:17:43,227 : INFO : PROGRESS: at 79.04% examples, 478277 words/s, in_qsize 8, out_qsize 0\n",
      "2017-02-01 18:17:44,228 : INFO : PROGRESS: at 79.36% examples, 477858 words/s, in_qsize 7, out_qsize 0\n",
      "2017-02-01 18:17:45,234 : INFO : PROGRESS: at 79.65% examples, 477318 words/s, in_qsize 8, out_qsize 0\n",
      "2017-02-01 18:17:46,236 : INFO : PROGRESS: at 79.98% examples, 477031 words/s, in_qsize 8, out_qsize 0\n",
      "2017-02-01 18:17:47,242 : INFO : PROGRESS: at 80.27% examples, 476475 words/s, in_qsize 8, out_qsize 0\n",
      "2017-02-01 18:17:48,247 : INFO : PROGRESS: at 80.59% examples, 476124 words/s, in_qsize 8, out_qsize 0\n",
      "2017-02-01 18:17:49,248 : INFO : PROGRESS: at 80.92% examples, 475874 words/s, in_qsize 8, out_qsize 0\n",
      "2017-02-01 18:17:50,248 : INFO : PROGRESS: at 81.33% examples, 476069 words/s, in_qsize 8, out_qsize 0\n",
      "2017-02-01 18:17:51,248 : INFO : PROGRESS: at 81.74% examples, 476238 words/s, in_qsize 8, out_qsize 1\n",
      "2017-02-01 18:17:52,251 : INFO : PROGRESS: at 82.15% examples, 476390 words/s, in_qsize 7, out_qsize 2\n",
      "2017-02-01 18:17:53,250 : INFO : PROGRESS: at 82.56% examples, 476580 words/s, in_qsize 8, out_qsize 0\n",
      "2017-02-01 18:17:54,252 : INFO : PROGRESS: at 82.98% examples, 476850 words/s, in_qsize 7, out_qsize 1\n",
      "2017-02-01 18:17:55,252 : INFO : PROGRESS: at 83.41% examples, 477064 words/s, in_qsize 7, out_qsize 0\n",
      "2017-02-01 18:17:56,253 : INFO : PROGRESS: at 83.80% examples, 477083 words/s, in_qsize 8, out_qsize 0\n",
      "2017-02-01 18:17:57,256 : INFO : PROGRESS: at 84.19% examples, 477108 words/s, in_qsize 8, out_qsize 0\n",
      "2017-02-01 18:17:58,257 : INFO : PROGRESS: at 84.62% examples, 477298 words/s, in_qsize 7, out_qsize 0\n",
      "2017-02-01 18:17:59,262 : INFO : PROGRESS: at 84.91% examples, 476763 words/s, in_qsize 8, out_qsize 0\n",
      "2017-02-01 18:18:00,262 : INFO : PROGRESS: at 85.32% examples, 476857 words/s, in_qsize 8, out_qsize 0\n",
      "2017-02-01 18:18:01,262 : INFO : PROGRESS: at 85.64% examples, 476527 words/s, in_qsize 8, out_qsize 0\n",
      "2017-02-01 18:18:02,264 : INFO : PROGRESS: at 85.98% examples, 476258 words/s, in_qsize 8, out_qsize 0\n",
      "2017-02-01 18:18:03,266 : INFO : PROGRESS: at 86.30% examples, 475953 words/s, in_qsize 7, out_qsize 0\n",
      "2017-02-01 18:18:04,268 : INFO : PROGRESS: at 86.71% examples, 476100 words/s, in_qsize 7, out_qsize 0\n",
      "2017-02-01 18:18:05,268 : INFO : PROGRESS: at 87.11% examples, 476265 words/s, in_qsize 8, out_qsize 0\n",
      "2017-02-01 18:18:06,269 : INFO : PROGRESS: at 87.54% examples, 476478 words/s, in_qsize 8, out_qsize 0\n",
      "2017-02-01 18:18:07,271 : INFO : PROGRESS: at 87.93% examples, 476563 words/s, in_qsize 8, out_qsize 0\n",
      "2017-02-01 18:18:08,274 : INFO : PROGRESS: at 88.33% examples, 476678 words/s, in_qsize 8, out_qsize 1\n",
      "2017-02-01 18:18:09,273 : INFO : PROGRESS: at 88.74% examples, 476815 words/s, in_qsize 7, out_qsize 1\n",
      "2017-02-01 18:18:10,276 : INFO : PROGRESS: at 89.15% examples, 476979 words/s, in_qsize 7, out_qsize 0\n",
      "2017-02-01 18:18:11,275 : INFO : PROGRESS: at 89.57% examples, 477172 words/s, in_qsize 8, out_qsize 0\n",
      "2017-02-01 18:18:12,277 : INFO : PROGRESS: at 90.00% examples, 477409 words/s, in_qsize 7, out_qsize 2\n",
      "2017-02-01 18:18:13,277 : INFO : PROGRESS: at 90.40% examples, 477566 words/s, in_qsize 6, out_qsize 1\n",
      "2017-02-01 18:18:14,280 : INFO : PROGRESS: at 90.79% examples, 477606 words/s, in_qsize 5, out_qsize 0\n",
      "2017-02-01 18:18:15,278 : INFO : PROGRESS: at 91.21% examples, 477819 words/s, in_qsize 7, out_qsize 0\n",
      "2017-02-01 18:18:16,279 : INFO : PROGRESS: at 91.64% examples, 478039 words/s, in_qsize 8, out_qsize 0\n",
      "2017-02-01 18:18:17,279 : INFO : PROGRESS: at 92.07% examples, 478261 words/s, in_qsize 7, out_qsize 0\n",
      "2017-02-01 18:18:18,280 : INFO : PROGRESS: at 92.51% examples, 478550 words/s, in_qsize 8, out_qsize 0\n",
      "2017-02-01 18:18:19,281 : INFO : PROGRESS: at 92.95% examples, 478805 words/s, in_qsize 8, out_qsize 0\n",
      "2017-02-01 18:18:20,283 : INFO : PROGRESS: at 93.35% examples, 478892 words/s, in_qsize 8, out_qsize 1\n",
      "2017-02-01 18:18:21,285 : INFO : PROGRESS: at 93.73% examples, 478901 words/s, in_qsize 7, out_qsize 0\n",
      "2017-02-01 18:18:22,285 : INFO : PROGRESS: at 94.13% examples, 479014 words/s, in_qsize 8, out_qsize 0\n",
      "2017-02-01 18:18:23,286 : INFO : PROGRESS: at 94.54% examples, 479111 words/s, in_qsize 8, out_qsize 0\n",
      "2017-02-01 18:18:24,290 : INFO : PROGRESS: at 94.95% examples, 479186 words/s, in_qsize 8, out_qsize 0\n",
      "2017-02-01 18:18:25,292 : INFO : PROGRESS: at 95.36% examples, 479346 words/s, in_qsize 8, out_qsize 0\n",
      "2017-02-01 18:18:26,293 : INFO : PROGRESS: at 95.78% examples, 479496 words/s, in_qsize 7, out_qsize 0\n",
      "2017-02-01 18:18:27,294 : INFO : PROGRESS: at 96.11% examples, 479258 words/s, in_qsize 7, out_qsize 0\n",
      "2017-02-01 18:18:28,296 : INFO : PROGRESS: at 96.52% examples, 479339 words/s, in_qsize 8, out_qsize 0\n",
      "2017-02-01 18:18:29,297 : INFO : PROGRESS: at 96.92% examples, 479477 words/s, in_qsize 7, out_qsize 0\n",
      "2017-02-01 18:18:30,298 : INFO : PROGRESS: at 97.27% examples, 479304 words/s, in_qsize 8, out_qsize 0\n",
      "2017-02-01 18:18:31,297 : INFO : PROGRESS: at 97.69% examples, 479462 words/s, in_qsize 8, out_qsize 0\n",
      "2017-02-01 18:18:32,298 : INFO : PROGRESS: at 98.11% examples, 479581 words/s, in_qsize 7, out_qsize 1\n",
      "2017-02-01 18:18:33,300 : INFO : PROGRESS: at 98.51% examples, 479731 words/s, in_qsize 8, out_qsize 0\n",
      "2017-02-01 18:18:34,302 : INFO : PROGRESS: at 98.94% examples, 479925 words/s, in_qsize 8, out_qsize 1\n",
      "2017-02-01 18:18:35,301 : INFO : PROGRESS: at 99.36% examples, 480091 words/s, in_qsize 8, out_qsize 0\n",
      "2017-02-01 18:18:36,303 : INFO : PROGRESS: at 99.77% examples, 480195 words/s, in_qsize 8, out_qsize 1\n",
      "2017-02-01 18:18:36,882 : INFO : worker thread finished; awaiting finish of 3 more threads\n",
      "2017-02-01 18:18:36,883 : INFO : worker thread finished; awaiting finish of 2 more threads\n",
      "2017-02-01 18:18:36,889 : INFO : worker thread finished; awaiting finish of 1 more threads\n",
      "2017-02-01 18:18:36,889 : INFO : worker thread finished; awaiting finish of 0 more threads\n",
      "2017-02-01 18:18:36,890 : INFO : training on 1039875000 raw words (124859214 effective words) took 260.0s, 480233 effective words/s\n"
     ]
    },
    {
     "name": "stdout",
     "output_type": "stream",
     "text": [
      "--- 280.425721169 seconds ---\n"
     ]
    }
   ],
   "source": [
    "# TIMER\n",
    "import time\n",
    "start_time = time.time()\n",
    "# END TIMER\n",
    "\n",
    "logging.basicConfig(format='%(asctime)s : %(levelname)s : %(message)s', level=logging.INFO)\n",
    "model = gensim.models.Word2Vec(processed_texts, min_count=1, workers=4, sg=1, window=5)\n",
    "\n",
    "# TIMER\n",
    "print(\"--- %s seconds ---\" % (time.time() - start_time))"
   ]
  },
  {
   "cell_type": "code",
   "execution_count": 7,
   "metadata": {
    "collapsed": false
   },
   "outputs": [
    {
     "name": "stderr",
     "output_type": "stream",
     "text": [
      "2016-11-14 23:34:46,543 : INFO : storing 141295x100 projection weights into word2vec/w2v-imdb-skip-gram.bin\n"
     ]
    }
   ],
   "source": [
    "model.save_word2vec_format('word2vec/w2v-imdb-skip-gram.bin', binary=True)"
   ]
  },
  {
   "cell_type": "markdown",
   "metadata": {},
   "source": [
    "# Test loading from file"
   ]
  },
  {
   "cell_type": "code",
   "execution_count": 8,
   "metadata": {
    "collapsed": false
   },
   "outputs": [
    {
     "name": "stderr",
     "output_type": "stream",
     "text": [
      "2016-11-14 23:34:49,416 : INFO : loading projection weights from word2vec/w2v-padded.bin\n",
      "2016-11-14 23:34:51,869 : INFO : loaded (141295, 100) matrix from word2vec/w2v-padded.bin\n"
     ]
    }
   ],
   "source": [
    "test_model = gensim.models.Word2Vec.load_word2vec_format('word2vec/w2v-padded.bin', binary=True)"
   ]
  },
  {
   "cell_type": "code",
   "execution_count": 9,
   "metadata": {
    "collapsed": false
   },
   "outputs": [
    {
     "name": "stderr",
     "output_type": "stream",
     "text": [
      "2016-11-14 23:34:51,874 : INFO : precomputing L2-norms of word weight vectors\n"
     ]
    },
    {
     "data": {
      "text/plain": [
       "[(u'decent', 0.8053410649299622),\n",
       " (u'bad', 0.7808003425598145),\n",
       " (u'great', 0.7721635699272156),\n",
       " (u'fine', 0.7396730780601501),\n",
       " (u'cool', 0.7177160978317261),\n",
       " (u'nice', 0.7162439823150635),\n",
       " (u'terrific', 0.704908549785614),\n",
       " (u'passable', 0.6909924149513245),\n",
       " (u'solid', 0.67049241065979),\n",
       " (u'fair', 0.6681616306304932)]"
      ]
     },
     "execution_count": 9,
     "metadata": {},
     "output_type": "execute_result"
    }
   ],
   "source": [
    "test_model.most_similar('good')"
   ]
  },
  {
   "cell_type": "code",
   "execution_count": null,
   "metadata": {
    "collapsed": true
   },
   "outputs": [],
   "source": []
  }
 ],
 "metadata": {
  "kernelspec": {
   "display_name": "Python [tensorflow]",
   "language": "python",
   "name": "Python [tensorflow]"
  },
  "language_info": {
   "codemirror_mode": {
    "name": "ipython",
    "version": 2
   },
   "file_extension": ".py",
   "mimetype": "text/x-python",
   "name": "python",
   "nbconvert_exporter": "python",
   "pygments_lexer": "ipython2",
   "version": "2.7.12"
  }
 },
 "nbformat": 4,
 "nbformat_minor": 0
}
