{
 "cells": [
  {
   "cell_type": "markdown",
   "metadata": {
    "collapsed": false
   },
   "source": [
    "# Sentiment Analysis using doc vector and RegularNet in Keras"
   ]
  },
  {
   "cell_type": "code",
   "execution_count": 1,
   "metadata": {
    "collapsed": false
   },
   "outputs": [
    {
     "name": "stderr",
     "output_type": "stream",
     "text": [
      "Using gpu device 0: GeForce GTX 1060 6GB (CNMeM is disabled, cuDNN 5105)\n",
      "/home/anonoz/anaconda2/envs/tensorflow/lib/python2.7/site-packages/theano/sandbox/cuda/__init__.py:600: UserWarning: Your cuDNN version is more recent than the one Theano officially supports. If you see any problems, try updating Theano or downgrading cuDNN to version 5.\n",
      "  warnings.warn(warn)\n"
     ]
    }
   ],
   "source": [
    "# CONFIGS\n",
    "\n",
    "h5_save_as = \"models/ffnn-dbow.h5\"\n",
    "\n",
    "# Must be a doc2vec model file, not a word2vec bin/txt as it does not preserve document vectors.\n",
    "doc2vec_model_file = \"word2vec/d2v-dbow-not-padded-100d.model\"\n",
    "doc2vec_dims = 100\n",
    "\n",
    "# Can easily swap with other datasets if you want\n",
    "positive_review_txts = \"aclImdb/train/pos/*.txt\"\n",
    "negative_review_txts = \"aclImdb/train/neg/*.txt\"\n",
    "positive_review_vals = \"aclImdb/test/pos/*.txt\"\n",
    "negative_review_vals = \"aclImdb/test/neg/*.txt\"\n",
    "# positive_review_txts = \"polarity2/txt_sentoken/pos/*.txt\"\n",
    "# negative_review_txts = \"polarity2/txt_sentoken/neg/*.txt\"\n",
    "# positive_review_vals = \"polarity2/txt_sentoken/pos/*.txt\"\n",
    "# negative_review_vals = \"polarity2/txt_sentoken/neg/*.txt\"\n",
    "\n",
    "positive_y = [1, 0]\n",
    "negative_y = [0, 1]\n",
    "\n",
    "# Test theano and graphics card\n",
    "import theano.tensor as T\n",
    "\n",
    "# Notebook\n",
    "%matplotlib inline\n",
    "import matplotlib.pyplot as plt\n",
    "import numpy as np\n",
    "\n",
    "from text_tokenizer import tokenize"
   ]
  },
  {
   "cell_type": "markdown",
   "metadata": {
    "collapsed": true
   },
   "source": [
    "## Step 1: Make X_train\n",
    "\n",
    "X_train data structure is a 3D array, consisting of reviews, words, and vectors:\n",
    "```json\n",
    "[\n",
    "  // a review\n",
    "  [\n",
    "    // a word, and its array of 100 vectors\n",
    "    [0.75, 0.64 ...],\n",
    "    ...\n",
    "  ], \n",
    "  ...\n",
    "]\n",
    "```\n",
    "\n",
    "### TODO:\n",
    "1. Load all the reviews into memory\n",
    "2. Normalize the text\n",
    "3. Add words to vocab array to make word vector retrieval faster\n",
    "3. Determine vocab size, max review length"
   ]
  },
  {
   "cell_type": "code",
   "execution_count": 2,
   "metadata": {
    "collapsed": false
   },
   "outputs": [
    {
     "name": "stdout",
     "output_type": "stream",
     "text": [
      "('highest word count: ', 2606)\n",
      "('mean of review length: ', 253.51831999999999)\n"
     ]
    },
    {
     "data": {
      "text/plain": [
       "[<matplotlib.lines.Line2D at 0x7fb1504ac750>]"
      ]
     },
     "execution_count": 2,
     "metadata": {},
     "output_type": "execute_result"
    },
    {
     "data": {
      "image/png": "[encoded data removed]",
      "text/plain": [
       "<matplotlib.figure.Figure at 0x7fb18d0f8710>"
      ]
     },
     "metadata": {},
     "output_type": "display_data"
    }
   ],
   "source": [
    "import glob\n",
    "\n",
    "# highest word count shall be the convnet rows\n",
    "highest_review_word_count = 0\n",
    "positive_reviews = []\n",
    "negative_reviews = []\n",
    "positive_testrev = []\n",
    "negative_testrev = []\n",
    "\n",
    "# to visualise review length\n",
    "training_review_length = []\n",
    "\n",
    "for txt in glob.glob(positive_review_txts):\n",
    "    with (open(txt, 'r')) as f:\n",
    "        word_array = tokenize(f.read())\n",
    "        highest_review_word_count = max(highest_review_word_count, len(word_array))\n",
    "        positive_reviews.append(word_array)\n",
    "        training_review_length.append(len(word_array))\n",
    "\n",
    "for txt in glob.glob(negative_review_txts):\n",
    "    with (open(txt, 'r')) as f:\n",
    "        word_array = tokenize(f.read())\n",
    "        highest_review_word_count = max(highest_review_word_count, len(word_array))\n",
    "        negative_reviews.append(word_array)\n",
    "        training_review_length.append(len(word_array))\n",
    "        \n",
    "# For validation purposes\n",
    "for txt in glob.glob(positive_review_vals):\n",
    "    with (open(txt, 'r')) as f:\n",
    "        word_array = tokenize(f.read())\n",
    "        highest_review_word_count = max(highest_review_word_count, len(word_array))\n",
    "        positive_testrev.append(word_array)\n",
    "\n",
    "for txt in glob.glob(negative_review_vals):\n",
    "    with (open(txt, 'r')) as f:\n",
    "        word_array = tokenize(f.read())\n",
    "        highest_review_word_count = max(highest_review_word_count, len(word_array))\n",
    "        negative_testrev.append(word_array)\n",
    "\n",
    "print('highest word count: ', highest_review_word_count)\n",
    "\n",
    "# Plotting length\n",
    "training_review_length = np.sort(np.array(training_review_length))\n",
    "print('mean of review length: ', np.mean(training_review_length))\n",
    "plt.plot(training_review_length)"
   ]
  },
  {
   "cell_type": "markdown",
   "metadata": {},
   "source": [
    "## Step 2: Infer vector from doc2vec"
   ]
  },
  {
   "cell_type": "code",
   "execution_count": 3,
   "metadata": {
    "collapsed": false
   },
   "outputs": [],
   "source": [
    "import sys\n",
    "import gensim\n",
    "from gensim.models import Doc2Vec\n",
    "doc2vec_model = Doc2Vec.load(doc2vec_model_file)"
   ]
  },
  {
   "cell_type": "code",
   "execution_count": 4,
   "metadata": {
    "collapsed": false
   },
   "outputs": [
    {
     "name": "stdout",
     "output_type": "stream",
     "text": [
      "50000"
     ]
    }
   ],
   "source": [
    "log_counter = 0\n",
    "\n",
    "X_train = []\n",
    "Y_train = []\n",
    "X_test  = []\n",
    "Y_test  = []\n",
    "\n",
    "# Due to memory constraint, we only take vectors for first 200 words in movie reviews\n",
    "for i, review in enumerate(positive_reviews):\n",
    "    X_train.append(doc2vec_model.infer_vector(review))\n",
    "    Y_train.append(positive_y)\n",
    "    log_counter += 1\n",
    "    if log_counter % 1000 == 0:\n",
    "        sys.stdout.write(\"\\r{0}\".format(log_counter))\n",
    "        sys.stdout.flush()\n",
    "    \n",
    "for i, review in enumerate(negative_reviews):\n",
    "    X_train.append(doc2vec_model.infer_vector(review))\n",
    "    Y_train.append(negative_y)\n",
    "    log_counter += 1\n",
    "    if log_counter % 1000 == 0:\n",
    "        sys.stdout.write(\"\\r{0}\".format(log_counter))\n",
    "        sys.stdout.flush()\n",
    "    \n",
    "# For validation purposes\n",
    "for i, review in enumerate(positive_testrev):\n",
    "    X_test.append(doc2vec_model.infer_vector(review))\n",
    "    Y_test.append(positive_y)\n",
    "    log_counter += 1\n",
    "    if log_counter % 1000 == 0:\n",
    "        sys.stdout.write(\"\\r{0}\".format(log_counter))\n",
    "        sys.stdout.flush()\n",
    "    \n",
    "for i, review in enumerate(negative_testrev):\n",
    "    X_test.append(doc2vec_model.infer_vector(review))\n",
    "    Y_test.append(negative_y)\n",
    "    log_counter += 1\n",
    "    if log_counter % 1000 == 0:\n",
    "        sys.stdout.write(\"\\r{0}\".format(log_counter))\n",
    "        sys.stdout.flush()\n",
    "\n",
    "X_train = np.array(X_train)\n",
    "Y_train = np.array(Y_train)\n",
    "X_test  = np.array(X_test)\n",
    "Y_test  = np.array(Y_test)"
   ]
  },
  {
   "cell_type": "markdown",
   "metadata": {},
   "source": [
    "## Step 3: Keras\n"
   ]
  },
  {
   "cell_type": "code",
   "execution_count": 5,
   "metadata": {
    "collapsed": false
   },
   "outputs": [
    {
     "name": "stderr",
     "output_type": "stream",
     "text": [
      "Using Theano backend.\n"
     ]
    }
   ],
   "source": [
    "from keras.models import Model, Sequential\n",
    "from keras.layers.convolutional import Convolution1D, Convolution2D\n",
    "from keras.layers.pooling import MaxPooling1D, MaxPooling2D\n",
    "from keras.layers import Merge, Dense, Dropout, Activation, Input, Flatten\n",
    "from keras.optimizers import SGD\n",
    "from keras.callbacks import ModelCheckpoint"
   ]
  },
  {
   "cell_type": "code",
   "execution_count": 9,
   "metadata": {
    "collapsed": false,
    "scrolled": false
   },
   "outputs": [],
   "source": [
    "final_model = Sequential()\n",
    "final_model.add(Dense(32, input_shape=(doc2vec_dims,)))\n",
    "final_model.add(Activation('relu'))\n",
    "final_model.add(Dropout(0.5))\n",
    "final_model.add(Dense(2))\n",
    "final_model.add(Activation('softmax'))\n",
    "\n",
    "sgd = SGD(lr=0.1, decay=1e-6, momentum=0.9, nesterov=True)\n",
    "final_model.compile(loss='binary_crossentropy',\n",
    "                    optimizer='rmsprop',\n",
    "                    metrics=['accuracy'])\n"
   ]
  },
  {
   "cell_type": "markdown",
   "metadata": {},
   "source": [
    "## Step 4: TRAIN THIS"
   ]
  },
  {
   "cell_type": "code",
   "execution_count": 10,
   "metadata": {
    "collapsed": true
   },
   "outputs": [],
   "source": [
    "model_callback = ModelCheckpoint(\n",
    "    h5_save_as,\n",
    "    save_best_only=True,\n",
    "    verbose=1\n",
    ")"
   ]
  },
  {
   "cell_type": "code",
   "execution_count": 11,
   "metadata": {
    "collapsed": false
   },
   "outputs": [
    {
     "name": "stdout",
     "output_type": "stream",
     "text": [
      "Train on 25000 samples, validate on 25000 samples\n",
      "Epoch 1/25\n",
      "24950/25000 [============================>.] - ETA: 0s - loss: 0.4534 - acc: 0.7836Epoch 00000: val_loss improved from inf to 0.33343, saving model to models/ffnn-dbow.h5\n",
      "25000/25000 [==============================] - 1s - loss: 0.4534 - acc: 0.7837 - val_loss: 0.3334 - val_acc: 0.8574\n",
      "Epoch 2/25\n",
      "24850/25000 [============================>.] - ETA: 0s - loss: 0.3454 - acc: 0.8538Epoch 00001: val_loss improved from 0.33343 to 0.32345, saving model to models/ffnn-dbow.h5\n",
      "25000/25000 [==============================] - 1s - loss: 0.3451 - acc: 0.8539 - val_loss: 0.3234 - val_acc: 0.8620\n",
      "Epoch 3/25\n",
      "24900/25000 [============================>.] - ETA: 0s - loss: 0.3314 - acc: 0.8628Epoch 00002: val_loss improved from 0.32345 to 0.32242, saving model to models/ffnn-dbow.h5\n",
      "25000/25000 [==============================] - 2s - loss: 0.3317 - acc: 0.8628 - val_loss: 0.3224 - val_acc: 0.8622\n",
      "Epoch 4/25\n",
      "24750/25000 [============================>.] - ETA: 0s - loss: 0.3246 - acc: 0.8672Epoch 00003: val_loss improved from 0.32242 to 0.32104, saving model to models/ffnn-dbow.h5\n",
      "25000/25000 [==============================] - 1s - loss: 0.3251 - acc: 0.8669 - val_loss: 0.3210 - val_acc: 0.8629\n",
      "Epoch 5/25\n",
      "24700/25000 [============================>.] - ETA: 0s - loss: 0.3205 - acc: 0.8686Epoch 00004: val_loss improved from 0.32104 to 0.31972, saving model to models/ffnn-dbow.h5\n",
      "25000/25000 [==============================] - 1s - loss: 0.3206 - acc: 0.8685 - val_loss: 0.3197 - val_acc: 0.8630\n",
      "Epoch 6/25\n",
      "24800/25000 [============================>.] - ETA: 0s - loss: 0.3168 - acc: 0.8717Epoch 00005: val_loss improved from 0.31972 to 0.31947, saving model to models/ffnn-dbow.h5\n",
      "25000/25000 [==============================] - 1s - loss: 0.3165 - acc: 0.8718 - val_loss: 0.3195 - val_acc: 0.8646\n",
      "Epoch 7/25\n",
      "24800/25000 [============================>.] - ETA: 0s - loss: 0.3148 - acc: 0.8723Epoch 00006: val_loss improved from 0.31947 to 0.31887, saving model to models/ffnn-dbow.h5\n",
      "25000/25000 [==============================] - 1s - loss: 0.3148 - acc: 0.8725 - val_loss: 0.3189 - val_acc: 0.8654\n",
      "Epoch 8/25\n",
      "24700/25000 [============================>.] - ETA: 0s - loss: 0.3135 - acc: 0.8745Epoch 00007: val_loss did not improve\n",
      "25000/25000 [==============================] - 1s - loss: 0.3134 - acc: 0.8745 - val_loss: 0.3200 - val_acc: 0.8637\n",
      "Epoch 9/25\n",
      "24800/25000 [============================>.] - ETA: 0s - loss: 0.3112 - acc: 0.8767Epoch 00008: val_loss did not improve\n",
      "25000/25000 [==============================] - 1s - loss: 0.3106 - acc: 0.8768 - val_loss: 0.3195 - val_acc: 0.8659\n",
      "Epoch 10/25\n",
      "24650/25000 [============================>.] - ETA: 0s - loss: 0.3113 - acc: 0.8766Epoch 00009: val_loss did not improve\n",
      "25000/25000 [==============================] - 1s - loss: 0.3113 - acc: 0.8768 - val_loss: 0.3192 - val_acc: 0.8656\n",
      "Epoch 11/25\n",
      "24850/25000 [============================>.] - ETA: 0s - loss: 0.3092 - acc: 0.8769Epoch 00010: val_loss did not improve\n",
      "25000/25000 [==============================] - 1s - loss: 0.3088 - acc: 0.8771 - val_loss: 0.3196 - val_acc: 0.8655\n",
      "Epoch 12/25\n",
      "24650/25000 [============================>.] - ETA: 0s - loss: 0.3059 - acc: 0.8774Epoch 00011: val_loss did not improve\n",
      "25000/25000 [==============================] - 1s - loss: 0.3053 - acc: 0.8779 - val_loss: 0.3198 - val_acc: 0.8661\n",
      "Epoch 13/25\n",
      "24600/25000 [============================>.] - ETA: 0s - loss: 0.3071 - acc: 0.8774Epoch 00012: val_loss did not improve\n",
      "25000/25000 [==============================] - 1s - loss: 0.3073 - acc: 0.8775 - val_loss: 0.3199 - val_acc: 0.8655\n",
      "Epoch 14/25\n",
      "24950/25000 [============================>.] - ETA: 0s - loss: 0.3071 - acc: 0.8776Epoch 00013: val_loss did not improve\n",
      "25000/25000 [==============================] - 1s - loss: 0.3072 - acc: 0.8777 - val_loss: 0.3202 - val_acc: 0.8654\n",
      "Epoch 15/25\n",
      "24800/25000 [============================>.] - ETA: 0s - loss: 0.3034 - acc: 0.8788Epoch 00014: val_loss did not improve\n",
      "25000/25000 [==============================] - 1s - loss: 0.3036 - acc: 0.8788 - val_loss: 0.3204 - val_acc: 0.8661\n",
      "Epoch 16/25\n",
      "24700/25000 [============================>.] - ETA: 0s - loss: 0.3023 - acc: 0.8789Epoch 00015: val_loss did not improve\n",
      "25000/25000 [==============================] - 1s - loss: 0.3027 - acc: 0.8786 - val_loss: 0.3199 - val_acc: 0.8645\n",
      "Epoch 17/25\n",
      "24650/25000 [============================>.] - ETA: 0s - loss: 0.3027 - acc: 0.8824Epoch 00016: val_loss did not improve\n",
      "25000/25000 [==============================] - 1s - loss: 0.3018 - acc: 0.8827 - val_loss: 0.3201 - val_acc: 0.8652\n",
      "Epoch 18/25\n",
      "24850/25000 [============================>.] - ETA: 0s - loss: 0.3013 - acc: 0.8797Epoch 00017: val_loss did not improve\n",
      "25000/25000 [==============================] - 1s - loss: 0.3017 - acc: 0.8796 - val_loss: 0.3204 - val_acc: 0.8652\n",
      "Epoch 19/25\n",
      "24900/25000 [============================>.] - ETA: 0s - loss: 0.3018 - acc: 0.8816Epoch 00018: val_loss did not improve\n",
      "25000/25000 [==============================] - 1s - loss: 0.3022 - acc: 0.8814 - val_loss: 0.3209 - val_acc: 0.8650\n",
      "Epoch 20/25\n",
      "24600/25000 [============================>.] - ETA: 0s - loss: 0.3018 - acc: 0.8819Epoch 00019: val_loss did not improve\n",
      "25000/25000 [==============================] - 1s - loss: 0.3020 - acc: 0.8816 - val_loss: 0.3218 - val_acc: 0.8657\n",
      "Epoch 21/25\n",
      "24750/25000 [============================>.] - ETA: 0s - loss: 0.2997 - acc: 0.8832Epoch 00020: val_loss did not improve\n",
      "25000/25000 [==============================] - 1s - loss: 0.2999 - acc: 0.8831 - val_loss: 0.3218 - val_acc: 0.8652\n",
      "Epoch 22/25\n",
      "24900/25000 [============================>.] - ETA: 0s - loss: 0.3003 - acc: 0.8810Epoch 00021: val_loss did not improve\n",
      "25000/25000 [==============================] - 1s - loss: 0.3003 - acc: 0.8810 - val_loss: 0.3223 - val_acc: 0.8657\n",
      "Epoch 23/25\n",
      "24600/25000 [============================>.] - ETA: 0s - loss: 0.3017 - acc: 0.8803Epoch 00022: val_loss did not improve\n",
      "25000/25000 [==============================] - 0s - loss: 0.3012 - acc: 0.8809 - val_loss: 0.3220 - val_acc: 0.8654\n",
      "Epoch 24/25\n",
      "24650/25000 [============================>.] - ETA: 0s - loss: 0.3017 - acc: 0.8805Epoch 00023: val_loss did not improve\n",
      "25000/25000 [==============================] - 0s - loss: 0.3020 - acc: 0.8806 - val_loss: 0.3220 - val_acc: 0.8647\n",
      "Epoch 25/25\n",
      "24600/25000 [============================>.] - ETA: 0s - loss: 0.2989 - acc: 0.8846Epoch 00024: val_loss did not improve\n",
      "25000/25000 [==============================] - 0s - loss: 0.2985 - acc: 0.8844 - val_loss: 0.3232 - val_acc: 0.8646\n"
     ]
    },
    {
     "data": {
      "text/plain": [
       "<keras.callbacks.History at 0x7fb12e6c0290>"
      ]
     },
     "execution_count": 11,
     "metadata": {},
     "output_type": "execute_result"
    }
   ],
   "source": [
    "final_model.fit(X_train,\n",
    "                Y_train,\n",
    "                batch_size=50,\n",
    "                nb_epoch=25,\n",
    "                callbacks=[model_callback],\n",
    "                validation_data=[X_test, Y_test])"
   ]
  }
 ],
 "metadata": {
  "anaconda-cloud": {},
  "kernelspec": {
   "display_name": "Python [tensorflow]",
   "language": "python",
   "name": "Python [tensorflow]"
  },
  "language_info": {
   "codemirror_mode": {
    "name": "ipython",
    "version": 2
   },
   "file_extension": ".py",
   "mimetype": "text/x-python",
   "name": "python",
   "nbconvert_exporter": "python",
   "pygments_lexer": "ipython2",
   "version": "2.7.12"
  },
  "nbpresent": {
   "slides": {
    "37e74d51-8e3e-45ef-a6e1-8a70764d8838": {
     "id": "37e74d51-8e3e-45ef-a6e1-8a70764d8838",
     "prev": "ba25d42f-178f-4bff-878f-237edd09c5f5",
     "regions": {
      "02d29844-ddc7-4301-9e0f-8cf2188ea9a7": {
       "attrs": {
        "height": 0.8,
        "width": 0.8,
        "x": 0.1,
        "y": 0.1
       },
       "content": {
        "cell": "cdb3fecf-044e-49af-a897-5a213e02698c",
        "part": "whole"
       },
       "id": "02d29844-ddc7-4301-9e0f-8cf2188ea9a7"
      }
     },
     "theme": null
    },
    "3961229a-9df7-4080-8adb-51386f2bc3bd": {
     "id": "3961229a-9df7-4080-8adb-51386f2bc3bd",
     "prev": "53407f4b-429c-4df1-9d5d-c26d568e5a4f",
     "regions": {
      "62e52504-c547-4256-809d-50995400803a": {
       "attrs": {
        "height": 0.8,
        "width": 0.8,
        "x": 0.1,
        "y": 0.1
       },
       "content": {
        "cell": "789db32e-3bb2-49b4-8ecc-e8f9f0d67a7b",
        "part": "whole"
       },
       "id": "62e52504-c547-4256-809d-50995400803a"
      }
     }
    },
    "53407f4b-429c-4df1-9d5d-c26d568e5a4f": {
     "id": "53407f4b-429c-4df1-9d5d-c26d568e5a4f",
     "prev": "af0c81d8-7d10-422d-a598-1cb99dee2e2c",
     "regions": {
      "3222cf87-ef46-4651-8cf2-80a78e9eca3b": {
       "attrs": {
        "height": 0.8,
        "width": 0.8,
        "x": 0.1,
        "y": 0.1
       },
       "content": {
        "cell": "bc104c55-9cb1-4d4c-a1bf-363277a69da8",
        "part": "whole"
       },
       "id": "3222cf87-ef46-4651-8cf2-80a78e9eca3b"
      }
     }
    },
    "64728ebe-592c-4d5b-baa4-dc089e2704fb": {
     "id": "64728ebe-592c-4d5b-baa4-dc089e2704fb",
     "prev": "99bda4b6-a416-4ffc-9fa9-77a771dd27ec",
     "regions": {
      "8f248628-70ae-48f5-9bd1-eb1cfdf6e2f6": {
       "attrs": {
        "height": 0.8,
        "width": 0.8,
        "x": 0.1,
        "y": 0.1
       },
       "content": {
        "cell": "07039836-86fc-4567-b302-ef9265af8307",
        "part": "whole"
       },
       "id": "8f248628-70ae-48f5-9bd1-eb1cfdf6e2f6"
      }
     }
    },
    "875c94af-0074-4c3e-8c45-e90c2ed94612": {
     "id": "875c94af-0074-4c3e-8c45-e90c2ed94612",
     "prev": "fb703c45-7b3e-47cb-a3cb-90072b339ac7",
     "regions": {
      "1dd617cb-85a2-4e96-8f9d-a180b24413b1": {
       "attrs": {
        "height": 0.8,
        "width": 0.8,
        "x": 0.1,
        "y": 0.1
       },
       "content": {
        "cell": "088e0cfc-b19d-480a-87e1-73539d08efcd",
        "part": "whole"
       },
       "id": "1dd617cb-85a2-4e96-8f9d-a180b24413b1"
      }
     }
    },
    "8ce9e396-9e36-48d8-8dad-652e0874f01c": {
     "id": "8ce9e396-9e36-48d8-8dad-652e0874f01c",
     "prev": "eeb7b456-444b-44b5-a9ce-47c172546952",
     "regions": {
      "851f0ea5-8a8c-4a2b-9105-1d56ba2ef2d7": {
       "attrs": {
        "height": 0.8,
        "width": 0.8,
        "x": 0.1,
        "y": 0.1
       },
       "content": {
        "cell": "082122aa-9d01-40d0-bac7-8476a8e2098f",
        "part": "whole"
       },
       "id": "851f0ea5-8a8c-4a2b-9105-1d56ba2ef2d7"
      }
     }
    },
    "905771fb-bf2d-42a7-aec2-5da33f44c325": {
     "id": "905771fb-bf2d-42a7-aec2-5da33f44c325",
     "prev": "8ce9e396-9e36-48d8-8dad-652e0874f01c",
     "regions": {
      "63519927-4a11-499b-b1a4-ac6dbd9e8bb0": {
       "attrs": {
        "height": 0.8,
        "width": 0.8,
        "x": 0.1,
        "y": 0.1
       },
       "content": {
        "cell": "3a8186e0-2504-4f64-9086-fe7ab528f2e3",
        "part": "whole"
       },
       "id": "63519927-4a11-499b-b1a4-ac6dbd9e8bb0"
      }
     }
    },
    "91908d9f-ed0e-4588-a13b-308c73734071": {
     "id": "91908d9f-ed0e-4588-a13b-308c73734071",
     "prev": "905771fb-bf2d-42a7-aec2-5da33f44c325",
     "regions": {
      "52d4555d-d45e-4115-98e4-21d8340c2257": {
       "attrs": {
        "height": 0.8,
        "width": 0.8,
        "x": 0.1,
        "y": 0.1
       },
       "content": {
        "cell": "60e00169-ee44-4c0c-9c55-7121d4c8332f",
        "part": "whole"
       },
       "id": "52d4555d-d45e-4115-98e4-21d8340c2257"
      }
     }
    },
    "99bda4b6-a416-4ffc-9fa9-77a771dd27ec": {
     "id": "99bda4b6-a416-4ffc-9fa9-77a771dd27ec",
     "prev": null,
     "regions": {
      "3e966305-d8cd-4860-8194-9e4460aebbfe": {
       "attrs": {
        "height": 0.8,
        "width": 0.8,
        "x": 0.0833250996187788,
        "y": 0.10830039485643014
       },
       "id": "3e966305-d8cd-4860-8194-9e4460aebbfe"
      },
      "81e1e2bd-e729-4e37-8913-bf2162a507bd": {
       "attrs": {
        "height": 0.8,
        "width": 0.8,
        "x": 0.03863636659710592,
        "y": 0.09407114653112136
       },
       "content": {
        "cell": "aa8439c7-cf04-49a6-84f3-2e8af08aca7f",
        "part": "whole"
       },
       "id": "81e1e2bd-e729-4e37-8913-bf2162a507bd"
      }
     }
    },
    "9aeefc9a-ead7-4fff-b68f-12374636e8c3": {
     "id": "9aeefc9a-ead7-4fff-b68f-12374636e8c3",
     "prev": "dc88abf0-a5b8-43d9-b06f-0f6172443154",
     "regions": {
      "11975b9d-2c03-4d62-b3f8-273c4a929ac5": {
       "attrs": {
        "height": 0.8,
        "width": 0.8,
        "x": 0.1,
        "y": 0.1
       },
       "content": {
        "cell": "5941a2a4-8f01-4077-919e-2f1d724e3cff",
        "part": "whole"
       },
       "id": "11975b9d-2c03-4d62-b3f8-273c4a929ac5"
      }
     }
    },
    "a4bcb0ed-33c6-45a4-a6b6-6fda4109f64f": {
     "id": "a4bcb0ed-33c6-45a4-a6b6-6fda4109f64f",
     "prev": "3961229a-9df7-4080-8adb-51386f2bc3bd",
     "regions": {
      "2cbebc16-1a38-4f7c-ad9a-ad220db57799": {
       "attrs": {
        "height": 0.8,
        "width": 0.8,
        "x": 0.1,
        "y": 0.1
       },
       "content": {
        "cell": "1fb917cc-0afc-424f-8b88-400a90ad6819",
        "part": "whole"
       },
       "id": "2cbebc16-1a38-4f7c-ad9a-ad220db57799"
      }
     }
    },
    "af0c81d8-7d10-422d-a598-1cb99dee2e2c": {
     "id": "af0c81d8-7d10-422d-a598-1cb99dee2e2c",
     "prev": "64728ebe-592c-4d5b-baa4-dc089e2704fb",
     "regions": {
      "934404bd-cff4-4c2d-a5c2-093f7660a160": {
       "attrs": {
        "height": 0.8,
        "width": 0.8,
        "x": 0.1,
        "y": 0.1
       },
       "content": {
        "cell": "35ac46e5-404e-4d92-b9bd-073c346223a0",
        "part": "whole"
       },
       "id": "934404bd-cff4-4c2d-a5c2-093f7660a160"
      }
     }
    },
    "ba25d42f-178f-4bff-878f-237edd09c5f5": {
     "id": "ba25d42f-178f-4bff-878f-237edd09c5f5",
     "prev": "875c94af-0074-4c3e-8c45-e90c2ed94612",
     "regions": {
      "39ec72be-7f2a-49bc-a862-d0ddaf0741fa": {
       "attrs": {
        "height": 0.8,
        "width": 0.8,
        "x": 0.1,
        "y": 0.1
       },
       "content": {
        "cell": "170beea1-a455-4375-b6fb-4c84778b2a4a",
        "part": "whole"
       },
       "id": "39ec72be-7f2a-49bc-a862-d0ddaf0741fa"
      }
     }
    },
    "bd7a242b-b4ee-4781-abd6-45dc7d6604fb": {
     "id": "bd7a242b-b4ee-4781-abd6-45dc7d6604fb",
     "prev": "91908d9f-ed0e-4588-a13b-308c73734071",
     "regions": {
      "dd046f4e-2e3d-444a-9d20-5929545381d9": {
       "attrs": {
        "height": 0.8,
        "width": 0.8,
        "x": 0.1,
        "y": 0.1
       },
       "content": {
        "cell": "a1b9ac65-1c0d-436c-8c4c-6aec5c59e4e9",
        "part": "whole"
       },
       "id": "dd046f4e-2e3d-444a-9d20-5929545381d9"
      }
     }
    },
    "c08bcf99-f04e-494d-bc58-e666d4ec92ba": {
     "id": "c08bcf99-f04e-494d-bc58-e666d4ec92ba",
     "prev": "d5f1666e-7e38-4606-8790-1cd4b70da45e",
     "regions": {
      "b561ca37-037f-454c-a483-740986aa86d9": {
       "attrs": {
        "height": 0.8,
        "width": 0.8,
        "x": 0.1,
        "y": 0.1
       },
       "content": {
        "cell": "3ba15d56-a8a4-4d7a-8c7f-9465f81ac6a4",
        "part": "whole"
       },
       "id": "b561ca37-037f-454c-a483-740986aa86d9"
      }
     }
    },
    "cff711ff-48f0-4015-b6af-b53eef839e16": {
     "id": "cff711ff-48f0-4015-b6af-b53eef839e16",
     "prev": "bd7a242b-b4ee-4781-abd6-45dc7d6604fb",
     "regions": {
      "e90e7eda-38c0-49b8-b941-042573be21a2": {
       "attrs": {
        "height": 0.8,
        "width": 0.8,
        "x": 0.1,
        "y": 0.1
       },
       "content": {
        "cell": "041f0afc-f01c-42ae-8937-a81d76ccc74b",
        "part": "whole"
       },
       "id": "e90e7eda-38c0-49b8-b941-042573be21a2"
      }
     }
    },
    "d393470b-f821-447b-b90a-8a873f5615c6": {
     "id": "d393470b-f821-447b-b90a-8a873f5615c6",
     "prev": "c08bcf99-f04e-494d-bc58-e666d4ec92ba",
     "regions": {
      "010c3eef-e5a8-4833-b61d-5d9497a35284": {
       "attrs": {
        "height": 0.8,
        "width": 0.8,
        "x": 0.1,
        "y": 0.1
       },
       "content": {
        "cell": "7bf80616-2457-4d9d-b3c9-dc7050365dfa",
        "part": "whole"
       },
       "id": "010c3eef-e5a8-4833-b61d-5d9497a35284"
      }
     }
    },
    "d5f1666e-7e38-4606-8790-1cd4b70da45e": {
     "id": "d5f1666e-7e38-4606-8790-1cd4b70da45e",
     "prev": "9aeefc9a-ead7-4fff-b68f-12374636e8c3",
     "regions": {
      "5683aaa1-f7d4-49a9-a332-b8e6b72e355c": {
       "attrs": {
        "height": 0.8,
        "width": 0.8,
        "x": 0.1,
        "y": 0.1
       },
       "content": {
        "cell": "70003047-3373-4d72-87f2-5708a31122c3",
        "part": "whole"
       },
       "id": "5683aaa1-f7d4-49a9-a332-b8e6b72e355c"
      }
     }
    },
    "dc88abf0-a5b8-43d9-b06f-0f6172443154": {
     "id": "dc88abf0-a5b8-43d9-b06f-0f6172443154",
     "prev": "37e74d51-8e3e-45ef-a6e1-8a70764d8838",
     "regions": {
      "e0e421c5-9d16-4e11-991f-3010779f786f": {
       "attrs": {
        "height": 0.8,
        "width": 0.8,
        "x": 0.1,
        "y": 0.1
       },
       "content": {
        "cell": "3817220e-8d9c-49d3-9d64-a48c03ea2430",
        "part": "whole"
       },
       "id": "e0e421c5-9d16-4e11-991f-3010779f786f"
      }
     }
    },
    "eeb7b456-444b-44b5-a9ce-47c172546952": {
     "id": "eeb7b456-444b-44b5-a9ce-47c172546952",
     "prev": "d393470b-f821-447b-b90a-8a873f5615c6",
     "regions": {
      "c89b5a8c-d9fc-4756-b536-0340b41e8d41": {
       "attrs": {
        "height": 0.8,
        "width": 0.8,
        "x": 0.1,
        "y": 0.1
       },
       "content": {
        "cell": "5a605fa8-fc27-44b6-b98f-51ab208c9930",
        "part": "whole"
       },
       "id": "c89b5a8c-d9fc-4756-b536-0340b41e8d41"
      }
     }
    },
    "fb703c45-7b3e-47cb-a3cb-90072b339ac7": {
     "id": "fb703c45-7b3e-47cb-a3cb-90072b339ac7",
     "prev": "a4bcb0ed-33c6-45a4-a6b6-6fda4109f64f",
     "regions": {
      "fe6d4f25-6a25-4a89-981d-509609414a42": {
       "attrs": {
        "height": 0.8,
        "width": 0.8,
        "x": 0.1,
        "y": 0.1
       },
       "content": {
        "cell": "43426664-5c77-45e8-8e50-bd112537d092",
        "part": "whole"
       },
       "id": "fe6d4f25-6a25-4a89-981d-509609414a42"
      }
     }
    }
   },
   "themes": {}
  }
 },
 "nbformat": 4,
 "nbformat_minor": 1
}
